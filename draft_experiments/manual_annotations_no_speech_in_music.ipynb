{
 "cells": [
  {
   "cell_type": "code",
   "execution_count": 2,
   "metadata": {},
   "outputs": [],
   "source": [
    "import pandas as pd\n",
    "import glob\n",
    "import os\n",
    "from importlib.machinery import SourceFileLoader\n",
    "import warnings\n",
    "import tqdm\n",
    "import matplotlib.pyplot as plt\n",
    "import seaborn as sns "
   ]
  },
  {
   "cell_type": "markdown",
   "metadata": {},
   "source": [
    "## Load data and modules"
   ]
  },
  {
   "cell_type": "markdown",
   "metadata": {},
   "source": [
    "Import egemaps extraction module"
   ]
  },
  {
   "cell_type": "code",
   "execution_count": 3,
   "metadata": {},
   "outputs": [],
   "source": [
    "code_path='/home/gbarchi/Documentos/Trust/OCEAN-TRUST/src/extract_egemaps.py'\n",
    "extract_egemaps = SourceFileLoader(\"extract_features\", code_path).load_module() "
   ]
  },
  {
   "cell_type": "markdown",
   "metadata": {},
   "source": [
    "Import utils"
   ]
  },
  {
   "cell_type": "code",
   "execution_count": 4,
   "metadata": {},
   "outputs": [],
   "source": [
    "format_code_path='/home/gbarchi/Documentos/Trust/OCEAN-TRUST/src/utils.py'\n",
    "utils=SourceFileLoader(\"format_data\", format_code_path).load_module() "
   ]
  },
  {
   "cell_type": "markdown",
   "metadata": {},
   "source": [
    "Import modeling"
   ]
  },
  {
   "cell_type": "code",
   "execution_count": 5,
   "metadata": {},
   "outputs": [],
   "source": [
    "modeling_code_path='/home/gbarchi/Documentos/Trust/OCEAN-TRUST/src/modeling.py'\n",
    "modeling=SourceFileLoader(\"cross_val\", modeling_code_path).load_module() "
   ]
  },
  {
   "cell_type": "markdown",
   "metadata": {},
   "source": [
    "Load manual annotations"
   ]
  },
  {
   "cell_type": "code",
   "execution_count": 6,
   "metadata": {},
   "outputs": [],
   "source": [
    "music_annot_df=pd.read_csv('../data/manual_music_annotations/df_music_labels.csv',index_col=0)\n",
    "no_music_list=music_annot_df[music_annot_df['music']==0].name\n",
    "music_list=music_annot_df[music_annot_df['music']==1].name"
   ]
  },
  {
   "cell_type": "code",
   "execution_count": 7,
   "metadata": {},
   "outputs": [],
   "source": [
    "no_speech_files='/home/gbarchi/Documentos/Trust/OCEAN-TRUST/data/silero/silero_no_speech'\n",
    "\n",
    "no_music_paths=[]\n",
    "for dir_nm in no_music_list:\n",
    "    no_music_paths.append(glob.glob(os.path.join(no_speech_files,'*',dir_nm))[0])\n",
    "\n",
    "music_paths=[]\n",
    "for dir_m in music_list:\n",
    "    music_paths.append(glob.glob(os.path.join(no_speech_files,'*',dir_m))[0])"
   ]
  },
  {
   "cell_type": "markdown",
   "metadata": {},
   "source": [
    "## Extract egemaps"
   ]
  },
  {
   "cell_type": "code",
   "execution_count": 8,
   "metadata": {},
   "outputs": [],
   "source": [
    "no_music_features_path='/home/gbarchi/Documentos/Trust/OCEAN-TRUST/data/features/egemaps_silero_no_speech_no_music_manual_annot.csv'\n",
    "music_features_path='/home/gbarchi/Documentos/Trust/OCEAN-TRUST/data/features/egemaps_silero_no_speech_music_manual_annot.csv'"
   ]
  },
  {
   "cell_type": "markdown",
   "metadata": {},
   "source": [
    "Extract no music features"
   ]
  },
  {
   "cell_type": "code",
   "execution_count": 41,
   "metadata": {},
   "outputs": [],
   "source": [
    "audio_duration=2"
   ]
  },
  {
   "cell_type": "code",
   "execution_count": 45,
   "metadata": {},
   "outputs": [
    {
     "name": "stdout",
     "output_type": "stream",
     "text": [
      "32000\n"
     ]
    },
    {
     "name": "stderr",
     "output_type": "stream",
     "text": [
      "100%|██████████| 146/146 [00:12<00:00, 11.50it/s]\n"
     ]
    }
   ],
   "source": [
    "extract_egemaps.extract_features(no_music_features_path,no_music_paths,audio_duration)"
   ]
  },
  {
   "cell_type": "markdown",
   "metadata": {},
   "source": [
    "Extract music features"
   ]
  },
  {
   "cell_type": "code",
   "execution_count": 46,
   "metadata": {},
   "outputs": [
    {
     "name": "stdout",
     "output_type": "stream",
     "text": [
      "32000\n"
     ]
    },
    {
     "name": "stderr",
     "output_type": "stream",
     "text": [
      "100%|██████████| 170/170 [00:14<00:00, 11.37it/s]\n"
     ]
    }
   ],
   "source": [
    "extract_egemaps.extract_features(music_features_path,music_paths,audio_duration)"
   ]
  },
  {
   "cell_type": "markdown",
   "metadata": {},
   "source": [
    "## Prepare data"
   ]
  },
  {
   "cell_type": "code",
   "execution_count": 9,
   "metadata": {},
   "outputs": [],
   "source": [
    "feat_df_nm=pd.read_csv('../data/features/egemaps_silero_no_speech_no_music_manual_annot.csv')\n",
    "feat_df_m=pd.read_csv('../data/features/egemaps_silero_no_speech_music_manual_annot.csv')\n",
    "labels_df=pd.read_csv('../data/labels/new_partitions-labels.csv')"
   ]
  },
  {
   "cell_type": "markdown",
   "metadata": {},
   "source": [
    "No speech + No music"
   ]
  },
  {
   "cell_type": "code",
   "execution_count": 10,
   "metadata": {},
   "outputs": [],
   "source": [
    "df_no_music=utils.format_data(feat_df_nm,labels_df)"
   ]
  },
  {
   "cell_type": "markdown",
   "metadata": {},
   "source": [
    "No speech + Music"
   ]
  },
  {
   "cell_type": "code",
   "execution_count": 11,
   "metadata": {},
   "outputs": [],
   "source": [
    "df_music=utils.format_data(feat_df_m,labels_df)"
   ]
  },
  {
   "cell_type": "markdown",
   "metadata": {},
   "source": [
    "## Train models"
   ]
  },
  {
   "cell_type": "code",
   "execution_count": 12,
   "metadata": {},
   "outputs": [],
   "source": [
    "label_tags=['extraversion', 'neuroticism','agreeableness', 'conscientiousness', 'openness']\n",
    "feature_tags=feat_df_m.columns[~feat_df_m.columns.isin(['Name','Part'])]"
   ]
  },
  {
   "cell_type": "markdown",
   "metadata": {},
   "source": [
    "No speech + Music"
   ]
  },
  {
   "cell_type": "code",
   "execution_count": 56,
   "metadata": {},
   "outputs": [],
   "source": [
    "warnings.filterwarnings('ignore')\n",
    "df_metrics_music,feature_importance_music,y_val_music,predictions=modeling.cross_val(df_music,feature_tags,label_tags,n_folds=5)"
   ]
  },
  {
   "cell_type": "code",
   "execution_count": 107,
   "metadata": {},
   "outputs": [
    {
     "ename": "ValueError",
     "evalue": "zero-dimensional arrays cannot be concatenated",
     "output_type": "error",
     "traceback": [
      "\u001b[0;31m---------------------------------------------------------------------------\u001b[0m",
      "\u001b[0;31mValueError\u001b[0m                                Traceback (most recent call last)",
      "\u001b[1;32m/home/gbarchi/Documentos/Trust/OCEAN-TRUST/draft_experiments/manual_annotations_no_speech_in_music.ipynb Cell 29'\u001b[0m in \u001b[0;36m<cell line: 3>\u001b[0;34m()\u001b[0m\n\u001b[1;32m      <a href='vscode-notebook-cell://ssh-remote%2Bocean/home/gbarchi/Documentos/Trust/OCEAN-TRUST/draft_experiments/manual_annotations_no_speech_in_music.ipynb#ch0000068vscode-remote?line=0'>1</a>\u001b[0m \u001b[39mimport\u001b[39;00m \u001b[39mnumpy\u001b[39;00m \u001b[39mas\u001b[39;00m \u001b[39mnp\u001b[39;00m\n\u001b[0;32m----> <a href='vscode-notebook-cell://ssh-remote%2Bocean/home/gbarchi/Documentos/Trust/OCEAN-TRUST/draft_experiments/manual_annotations_no_speech_in_music.ipynb#ch0000068vscode-remote?line=2'>3</a>\u001b[0m np\u001b[39m.\u001b[39;49mappend(\u001b[39m0\u001b[39;49m,predictions_2, axis\u001b[39m=\u001b[39;49m\u001b[39m0\u001b[39;49m)\n",
      "File \u001b[0;32m<__array_function__ internals>:5\u001b[0m, in \u001b[0;36mappend\u001b[0;34m(*args, **kwargs)\u001b[0m\n",
      "File \u001b[0;32m~/anaconda3/envs/ocean_trust/lib/python3.9/site-packages/numpy/lib/function_base.py:4671\u001b[0m, in \u001b[0;36mappend\u001b[0;34m(arr, values, axis)\u001b[0m\n\u001b[1;32m   <a href='file:///home/gbarchi/anaconda3/envs/ocean_trust/lib/python3.9/site-packages/numpy/lib/function_base.py?line=4668'>4669</a>\u001b[0m     values \u001b[39m=\u001b[39m ravel(values)\n\u001b[1;32m   <a href='file:///home/gbarchi/anaconda3/envs/ocean_trust/lib/python3.9/site-packages/numpy/lib/function_base.py?line=4669'>4670</a>\u001b[0m     axis \u001b[39m=\u001b[39m arr\u001b[39m.\u001b[39mndim\u001b[39m-\u001b[39m\u001b[39m1\u001b[39m\n\u001b[0;32m-> <a href='file:///home/gbarchi/anaconda3/envs/ocean_trust/lib/python3.9/site-packages/numpy/lib/function_base.py?line=4670'>4671</a>\u001b[0m \u001b[39mreturn\u001b[39;00m concatenate((arr, values), axis\u001b[39m=\u001b[39;49maxis)\n",
      "File \u001b[0;32m<__array_function__ internals>:5\u001b[0m, in \u001b[0;36mconcatenate\u001b[0;34m(*args, **kwargs)\u001b[0m\n",
      "\u001b[0;31mValueError\u001b[0m: zero-dimensional arrays cannot be concatenated"
     ]
    }
   ],
   "source": [
    "import numpy as np\n",
    "\n",
    "np.append(0,predictions_2, axis=0)"
   ]
  },
  {
   "cell_type": "code",
   "execution_count": 14,
   "metadata": {},
   "outputs": [
    {
     "data": {
      "text/html": [
       "<div>\n",
       "<style scoped>\n",
       "    .dataframe tbody tr th:only-of-type {\n",
       "        vertical-align: middle;\n",
       "    }\n",
       "\n",
       "    .dataframe tbody tr th {\n",
       "        vertical-align: top;\n",
       "    }\n",
       "\n",
       "    .dataframe thead th {\n",
       "        text-align: right;\n",
       "    }\n",
       "</style>\n",
       "<table border=\"1\" class=\"dataframe\">\n",
       "  <thead>\n",
       "    <tr style=\"text-align: right;\">\n",
       "      <th></th>\n",
       "      <th>r2</th>\n",
       "      <th>r</th>\n",
       "      <th>MAE</th>\n",
       "      <th>MSE</th>\n",
       "      <th>RMSE</th>\n",
       "      <th>fold</th>\n",
       "    </tr>\n",
       "  </thead>\n",
       "  <tbody>\n",
       "    <tr>\n",
       "      <th>0</th>\n",
       "      <td>0.039662</td>\n",
       "      <td>0.199154</td>\n",
       "      <td>0.109352</td>\n",
       "      <td>0.017875</td>\n",
       "      <td>0.133698</td>\n",
       "      <td>0.0</td>\n",
       "    </tr>\n",
       "    <tr>\n",
       "      <th>1</th>\n",
       "      <td>-0.056072</td>\n",
       "      <td>NaN</td>\n",
       "      <td>0.096856</td>\n",
       "      <td>0.015143</td>\n",
       "      <td>0.123056</td>\n",
       "      <td>1.0</td>\n",
       "    </tr>\n",
       "    <tr>\n",
       "      <th>2</th>\n",
       "      <td>-0.044932</td>\n",
       "      <td>NaN</td>\n",
       "      <td>0.103278</td>\n",
       "      <td>0.016650</td>\n",
       "      <td>0.129034</td>\n",
       "      <td>2.0</td>\n",
       "    </tr>\n",
       "    <tr>\n",
       "      <th>3</th>\n",
       "      <td>-0.095075</td>\n",
       "      <td>NaN</td>\n",
       "      <td>0.096202</td>\n",
       "      <td>0.014079</td>\n",
       "      <td>0.118654</td>\n",
       "      <td>3.0</td>\n",
       "    </tr>\n",
       "    <tr>\n",
       "      <th>4</th>\n",
       "      <td>-0.317480</td>\n",
       "      <td>NaN</td>\n",
       "      <td>0.097855</td>\n",
       "      <td>0.014315</td>\n",
       "      <td>0.119644</td>\n",
       "      <td>4.0</td>\n",
       "    </tr>\n",
       "  </tbody>\n",
       "</table>\n",
       "</div>"
      ],
      "text/plain": [
       "         r2         r       MAE       MSE      RMSE  fold\n",
       "0  0.039662  0.199154  0.109352  0.017875  0.133698   0.0\n",
       "1 -0.056072       NaN  0.096856  0.015143  0.123056   1.0\n",
       "2 -0.044932       NaN  0.103278  0.016650  0.129034   2.0\n",
       "3 -0.095075       NaN  0.096202  0.014079  0.118654   3.0\n",
       "4 -0.317480       NaN  0.097855  0.014315  0.119644   4.0"
      ]
     },
     "execution_count": 14,
     "metadata": {},
     "output_type": "execute_result"
    }
   ],
   "source": [
    "df_metrics_music"
   ]
  },
  {
   "cell_type": "markdown",
   "metadata": {},
   "source": [
    "No speech + No music"
   ]
  },
  {
   "cell_type": "code",
   "execution_count": 15,
   "metadata": {},
   "outputs": [
    {
     "name": "stderr",
     "output_type": "stream",
     "text": [
      "/home/gbarchi/Documentos/Trust/OCEAN-TRUST/src/modeling.py:387: RuntimeWarning: invalid value encountered in sqrt\n",
      "  metrics=[r2_all,np.sqrt(r2_all),MAE_all,MSE_all,RMSE_all,fold]\n",
      "/home/gbarchi/Documentos/Trust/OCEAN-TRUST/src/modeling.py:387: RuntimeWarning: invalid value encountered in sqrt\n",
      "  metrics=[r2_all,np.sqrt(r2_all),MAE_all,MSE_all,RMSE_all,fold]\n",
      "/home/gbarchi/Documentos/Trust/OCEAN-TRUST/src/modeling.py:387: RuntimeWarning: invalid value encountered in sqrt\n",
      "  metrics=[r2_all,np.sqrt(r2_all),MAE_all,MSE_all,RMSE_all,fold]\n",
      "/home/gbarchi/Documentos/Trust/OCEAN-TRUST/src/modeling.py:387: RuntimeWarning: invalid value encountered in sqrt\n",
      "  metrics=[r2_all,np.sqrt(r2_all),MAE_all,MSE_all,RMSE_all,fold]\n",
      "/home/gbarchi/Documentos/Trust/OCEAN-TRUST/src/modeling.py:387: RuntimeWarning: invalid value encountered in sqrt\n",
      "  metrics=[r2_all,np.sqrt(r2_all),MAE_all,MSE_all,RMSE_all,fold]\n"
     ]
    }
   ],
   "source": [
    "df_metrics_no_music,feature_importance_no_music,y_val_no_music=modeling.cross_val(df_no_music,feature_tags,label_tags,n_folds=5)"
   ]
  },
  {
   "cell_type": "code",
   "execution_count": 16,
   "metadata": {},
   "outputs": [
    {
     "data": {
      "text/html": [
       "<div>\n",
       "<style scoped>\n",
       "    .dataframe tbody tr th:only-of-type {\n",
       "        vertical-align: middle;\n",
       "    }\n",
       "\n",
       "    .dataframe tbody tr th {\n",
       "        vertical-align: top;\n",
       "    }\n",
       "\n",
       "    .dataframe thead th {\n",
       "        text-align: right;\n",
       "    }\n",
       "</style>\n",
       "<table border=\"1\" class=\"dataframe\">\n",
       "  <thead>\n",
       "    <tr style=\"text-align: right;\">\n",
       "      <th></th>\n",
       "      <th>r2</th>\n",
       "      <th>r</th>\n",
       "      <th>MAE</th>\n",
       "      <th>MSE</th>\n",
       "      <th>RMSE</th>\n",
       "      <th>fold</th>\n",
       "    </tr>\n",
       "  </thead>\n",
       "  <tbody>\n",
       "    <tr>\n",
       "      <th>0</th>\n",
       "      <td>-0.145872</td>\n",
       "      <td>NaN</td>\n",
       "      <td>0.101491</td>\n",
       "      <td>0.015624</td>\n",
       "      <td>0.124996</td>\n",
       "      <td>0.0</td>\n",
       "    </tr>\n",
       "    <tr>\n",
       "      <th>1</th>\n",
       "      <td>-0.208500</td>\n",
       "      <td>NaN</td>\n",
       "      <td>0.128024</td>\n",
       "      <td>0.025104</td>\n",
       "      <td>0.158442</td>\n",
       "      <td>1.0</td>\n",
       "    </tr>\n",
       "    <tr>\n",
       "      <th>2</th>\n",
       "      <td>-0.034978</td>\n",
       "      <td>NaN</td>\n",
       "      <td>0.121139</td>\n",
       "      <td>0.023068</td>\n",
       "      <td>0.151881</td>\n",
       "      <td>2.0</td>\n",
       "    </tr>\n",
       "    <tr>\n",
       "      <th>3</th>\n",
       "      <td>-0.187736</td>\n",
       "      <td>NaN</td>\n",
       "      <td>0.134013</td>\n",
       "      <td>0.026615</td>\n",
       "      <td>0.163142</td>\n",
       "      <td>3.0</td>\n",
       "    </tr>\n",
       "    <tr>\n",
       "      <th>4</th>\n",
       "      <td>-0.177664</td>\n",
       "      <td>NaN</td>\n",
       "      <td>0.100237</td>\n",
       "      <td>0.015143</td>\n",
       "      <td>0.123059</td>\n",
       "      <td>4.0</td>\n",
       "    </tr>\n",
       "  </tbody>\n",
       "</table>\n",
       "</div>"
      ],
      "text/plain": [
       "         r2   r       MAE       MSE      RMSE  fold\n",
       "0 -0.145872 NaN  0.101491  0.015624  0.124996   0.0\n",
       "1 -0.208500 NaN  0.128024  0.025104  0.158442   1.0\n",
       "2 -0.034978 NaN  0.121139  0.023068  0.151881   2.0\n",
       "3 -0.187736 NaN  0.134013  0.026615  0.163142   3.0\n",
       "4 -0.177664 NaN  0.100237  0.015143  0.123059   4.0"
      ]
     },
     "execution_count": 16,
     "metadata": {},
     "output_type": "execute_result"
    }
   ],
   "source": [
    "df_metrics_no_music"
   ]
  },
  {
   "cell_type": "markdown",
   "metadata": {},
   "source": [
    "No speech - Valid Silero with duration > 2 sec and trimmed at 2 seconds "
   ]
  },
  {
   "cell_type": "code",
   "execution_count": 23,
   "metadata": {},
   "outputs": [],
   "source": [
    "df=pd.concat([df_no_music,df_music],ignore_index=True)"
   ]
  },
  {
   "cell_type": "code",
   "execution_count": 24,
   "metadata": {},
   "outputs": [
    {
     "data": {
      "text/html": [
       "<div>\n",
       "<style scoped>\n",
       "    .dataframe tbody tr th:only-of-type {\n",
       "        vertical-align: middle;\n",
       "    }\n",
       "\n",
       "    .dataframe tbody tr th {\n",
       "        vertical-align: top;\n",
       "    }\n",
       "\n",
       "    .dataframe thead th {\n",
       "        text-align: right;\n",
       "    }\n",
       "</style>\n",
       "<table border=\"1\" class=\"dataframe\">\n",
       "  <thead>\n",
       "    <tr style=\"text-align: right;\">\n",
       "      <th></th>\n",
       "      <th>F0semitoneFrom27.5Hz_sma3nz_amean</th>\n",
       "      <th>F0semitoneFrom27.5Hz_sma3nz_stddevNorm</th>\n",
       "      <th>F0semitoneFrom27.5Hz_sma3nz_percentile20.0</th>\n",
       "      <th>F0semitoneFrom27.5Hz_sma3nz_percentile50.0</th>\n",
       "      <th>F0semitoneFrom27.5Hz_sma3nz_percentile80.0</th>\n",
       "      <th>F0semitoneFrom27.5Hz_sma3nz_pctlrange0-2</th>\n",
       "      <th>F0semitoneFrom27.5Hz_sma3nz_meanRisingSlope</th>\n",
       "      <th>F0semitoneFrom27.5Hz_sma3nz_stddevRisingSlope</th>\n",
       "      <th>F0semitoneFrom27.5Hz_sma3nz_meanFallingSlope</th>\n",
       "      <th>F0semitoneFrom27.5Hz_sma3nz_stddevFallingSlope</th>\n",
       "      <th>...</th>\n",
       "      <th>StddevUnvoicedSegmentLength</th>\n",
       "      <th>equivalentSoundLevel_dBp</th>\n",
       "      <th>Name</th>\n",
       "      <th>extraversion</th>\n",
       "      <th>neuroticism</th>\n",
       "      <th>agreeableness</th>\n",
       "      <th>conscientiousness</th>\n",
       "      <th>openness</th>\n",
       "      <th>Partition</th>\n",
       "      <th>basename</th>\n",
       "    </tr>\n",
       "  </thead>\n",
       "  <tbody>\n",
       "    <tr>\n",
       "      <th>0</th>\n",
       "      <td>0.000000</td>\n",
       "      <td>0.000000</td>\n",
       "      <td>0.000000</td>\n",
       "      <td>0.000000</td>\n",
       "      <td>0.000000</td>\n",
       "      <td>0.000000</td>\n",
       "      <td>0.000000</td>\n",
       "      <td>0.000000</td>\n",
       "      <td>0.000000</td>\n",
       "      <td>0.000000</td>\n",
       "      <td>...</td>\n",
       "      <td>0.000000</td>\n",
       "      <td>-62.337875</td>\n",
       "      <td>uwUkp63db18.005.wav</td>\n",
       "      <td>0.242991</td>\n",
       "      <td>0.635417</td>\n",
       "      <td>0.417582</td>\n",
       "      <td>0.660194</td>\n",
       "      <td>0.355556</td>\n",
       "      <td>Train</td>\n",
       "      <td>uwUkp63db18</td>\n",
       "    </tr>\n",
       "    <tr>\n",
       "      <th>1</th>\n",
       "      <td>0.000000</td>\n",
       "      <td>0.000000</td>\n",
       "      <td>0.000000</td>\n",
       "      <td>0.000000</td>\n",
       "      <td>0.000000</td>\n",
       "      <td>0.000000</td>\n",
       "      <td>0.000000</td>\n",
       "      <td>0.000000</td>\n",
       "      <td>0.000000</td>\n",
       "      <td>0.000000</td>\n",
       "      <td>...</td>\n",
       "      <td>0.000000</td>\n",
       "      <td>-68.395905</td>\n",
       "      <td>zNmuwZkaeVg.001.wav</td>\n",
       "      <td>0.289720</td>\n",
       "      <td>0.354167</td>\n",
       "      <td>0.472527</td>\n",
       "      <td>0.388350</td>\n",
       "      <td>0.344444</td>\n",
       "      <td>Test</td>\n",
       "      <td>zNmuwZkaeVg</td>\n",
       "    </tr>\n",
       "    <tr>\n",
       "      <th>2</th>\n",
       "      <td>0.000000</td>\n",
       "      <td>0.000000</td>\n",
       "      <td>0.000000</td>\n",
       "      <td>0.000000</td>\n",
       "      <td>0.000000</td>\n",
       "      <td>0.000000</td>\n",
       "      <td>0.000000</td>\n",
       "      <td>0.000000</td>\n",
       "      <td>0.000000</td>\n",
       "      <td>0.000000</td>\n",
       "      <td>...</td>\n",
       "      <td>0.000000</td>\n",
       "      <td>-63.172516</td>\n",
       "      <td>uwUkp63db18.004.wav</td>\n",
       "      <td>0.233645</td>\n",
       "      <td>0.291667</td>\n",
       "      <td>0.384615</td>\n",
       "      <td>0.621359</td>\n",
       "      <td>0.322222</td>\n",
       "      <td>Train</td>\n",
       "      <td>uwUkp63db18</td>\n",
       "    </tr>\n",
       "    <tr>\n",
       "      <th>3</th>\n",
       "      <td>0.000000</td>\n",
       "      <td>0.000000</td>\n",
       "      <td>0.000000</td>\n",
       "      <td>0.000000</td>\n",
       "      <td>0.000000</td>\n",
       "      <td>0.000000</td>\n",
       "      <td>0.000000</td>\n",
       "      <td>0.000000</td>\n",
       "      <td>0.000000</td>\n",
       "      <td>0.000000</td>\n",
       "      <td>...</td>\n",
       "      <td>0.000000</td>\n",
       "      <td>-53.247980</td>\n",
       "      <td>yOzHZOg95Ug.000.wav</td>\n",
       "      <td>0.214953</td>\n",
       "      <td>0.322917</td>\n",
       "      <td>0.296703</td>\n",
       "      <td>0.446602</td>\n",
       "      <td>0.233333</td>\n",
       "      <td>Train</td>\n",
       "      <td>yOzHZOg95Ug</td>\n",
       "    </tr>\n",
       "    <tr>\n",
       "      <th>4</th>\n",
       "      <td>46.020466</td>\n",
       "      <td>0.001154</td>\n",
       "      <td>45.976227</td>\n",
       "      <td>46.001550</td>\n",
       "      <td>46.063700</td>\n",
       "      <td>0.087475</td>\n",
       "      <td>0.732803</td>\n",
       "      <td>0.000000</td>\n",
       "      <td>3.223114</td>\n",
       "      <td>0.000000</td>\n",
       "      <td>...</td>\n",
       "      <td>0.815000</td>\n",
       "      <td>-59.912260</td>\n",
       "      <td>v5hZeuRW6m0.003.wav</td>\n",
       "      <td>0.186916</td>\n",
       "      <td>0.427083</td>\n",
       "      <td>0.428571</td>\n",
       "      <td>0.417476</td>\n",
       "      <td>0.522222</td>\n",
       "      <td>Val</td>\n",
       "      <td>v5hZeuRW6m0</td>\n",
       "    </tr>\n",
       "    <tr>\n",
       "      <th>...</th>\n",
       "      <td>...</td>\n",
       "      <td>...</td>\n",
       "      <td>...</td>\n",
       "      <td>...</td>\n",
       "      <td>...</td>\n",
       "      <td>...</td>\n",
       "      <td>...</td>\n",
       "      <td>...</td>\n",
       "      <td>...</td>\n",
       "      <td>...</td>\n",
       "      <td>...</td>\n",
       "      <td>...</td>\n",
       "      <td>...</td>\n",
       "      <td>...</td>\n",
       "      <td>...</td>\n",
       "      <td>...</td>\n",
       "      <td>...</td>\n",
       "      <td>...</td>\n",
       "      <td>...</td>\n",
       "      <td>...</td>\n",
       "      <td>...</td>\n",
       "    </tr>\n",
       "    <tr>\n",
       "      <th>311</th>\n",
       "      <td>21.852333</td>\n",
       "      <td>0.298378</td>\n",
       "      <td>17.148163</td>\n",
       "      <td>19.643951</td>\n",
       "      <td>25.994820</td>\n",
       "      <td>8.846657</td>\n",
       "      <td>0.298301</td>\n",
       "      <td>0.000000</td>\n",
       "      <td>55.006287</td>\n",
       "      <td>0.000000</td>\n",
       "      <td>...</td>\n",
       "      <td>0.248231</td>\n",
       "      <td>-37.415604</td>\n",
       "      <td>2T3oK1Gse2g.004.wav</td>\n",
       "      <td>0.654206</td>\n",
       "      <td>0.572917</td>\n",
       "      <td>0.637363</td>\n",
       "      <td>0.485437</td>\n",
       "      <td>0.633333</td>\n",
       "      <td>Val</td>\n",
       "      <td>2T3oK1Gse2g</td>\n",
       "    </tr>\n",
       "    <tr>\n",
       "      <th>312</th>\n",
       "      <td>28.918890</td>\n",
       "      <td>0.317420</td>\n",
       "      <td>22.061678</td>\n",
       "      <td>22.109802</td>\n",
       "      <td>41.045380</td>\n",
       "      <td>18.983702</td>\n",
       "      <td>95.364440</td>\n",
       "      <td>46.859840</td>\n",
       "      <td>176.039110</td>\n",
       "      <td>107.322290</td>\n",
       "      <td>...</td>\n",
       "      <td>0.128530</td>\n",
       "      <td>-44.122757</td>\n",
       "      <td>zEyRyTnIw5I.001.wav</td>\n",
       "      <td>0.214953</td>\n",
       "      <td>0.458333</td>\n",
       "      <td>0.362637</td>\n",
       "      <td>0.601942</td>\n",
       "      <td>0.333333</td>\n",
       "      <td>Train</td>\n",
       "      <td>zEyRyTnIw5I</td>\n",
       "    </tr>\n",
       "    <tr>\n",
       "      <th>313</th>\n",
       "      <td>42.719242</td>\n",
       "      <td>0.093530</td>\n",
       "      <td>39.979843</td>\n",
       "      <td>41.972950</td>\n",
       "      <td>45.644200</td>\n",
       "      <td>5.664356</td>\n",
       "      <td>65.902960</td>\n",
       "      <td>56.582417</td>\n",
       "      <td>82.335820</td>\n",
       "      <td>53.658962</td>\n",
       "      <td>...</td>\n",
       "      <td>0.004000</td>\n",
       "      <td>-33.869644</td>\n",
       "      <td>qoZwA4ESb7g.001.wav</td>\n",
       "      <td>0.299065</td>\n",
       "      <td>0.375000</td>\n",
       "      <td>0.483516</td>\n",
       "      <td>0.368932</td>\n",
       "      <td>0.477778</td>\n",
       "      <td>Train</td>\n",
       "      <td>qoZwA4ESb7g</td>\n",
       "    </tr>\n",
       "    <tr>\n",
       "      <th>314</th>\n",
       "      <td>43.384120</td>\n",
       "      <td>0.207473</td>\n",
       "      <td>34.705680</td>\n",
       "      <td>39.881733</td>\n",
       "      <td>55.092194</td>\n",
       "      <td>20.386513</td>\n",
       "      <td>162.407730</td>\n",
       "      <td>71.661476</td>\n",
       "      <td>87.872856</td>\n",
       "      <td>62.009914</td>\n",
       "      <td>...</td>\n",
       "      <td>0.436291</td>\n",
       "      <td>-37.549953</td>\n",
       "      <td>YjXUMygVw7U.004.wav</td>\n",
       "      <td>0.289720</td>\n",
       "      <td>0.510417</td>\n",
       "      <td>0.516484</td>\n",
       "      <td>0.543689</td>\n",
       "      <td>0.500000</td>\n",
       "      <td>Test</td>\n",
       "      <td>YjXUMygVw7U</td>\n",
       "    </tr>\n",
       "    <tr>\n",
       "      <th>315</th>\n",
       "      <td>13.068625</td>\n",
       "      <td>0.002114</td>\n",
       "      <td>13.052620</td>\n",
       "      <td>13.067672</td>\n",
       "      <td>13.084248</td>\n",
       "      <td>0.031628</td>\n",
       "      <td>0.000000</td>\n",
       "      <td>0.000000</td>\n",
       "      <td>-0.009367</td>\n",
       "      <td>0.000000</td>\n",
       "      <td>...</td>\n",
       "      <td>0.000000</td>\n",
       "      <td>-33.324620</td>\n",
       "      <td>VJuVsi6G96s.005.wav</td>\n",
       "      <td>0.485981</td>\n",
       "      <td>0.583333</td>\n",
       "      <td>0.373626</td>\n",
       "      <td>0.533981</td>\n",
       "      <td>0.544444</td>\n",
       "      <td>Train</td>\n",
       "      <td>VJuVsi6G96s</td>\n",
       "    </tr>\n",
       "  </tbody>\n",
       "</table>\n",
       "<p>316 rows × 96 columns</p>\n",
       "</div>"
      ],
      "text/plain": [
       "     F0semitoneFrom27.5Hz_sma3nz_amean  \\\n",
       "0                             0.000000   \n",
       "1                             0.000000   \n",
       "2                             0.000000   \n",
       "3                             0.000000   \n",
       "4                            46.020466   \n",
       "..                                 ...   \n",
       "311                          21.852333   \n",
       "312                          28.918890   \n",
       "313                          42.719242   \n",
       "314                          43.384120   \n",
       "315                          13.068625   \n",
       "\n",
       "     F0semitoneFrom27.5Hz_sma3nz_stddevNorm  \\\n",
       "0                                  0.000000   \n",
       "1                                  0.000000   \n",
       "2                                  0.000000   \n",
       "3                                  0.000000   \n",
       "4                                  0.001154   \n",
       "..                                      ...   \n",
       "311                                0.298378   \n",
       "312                                0.317420   \n",
       "313                                0.093530   \n",
       "314                                0.207473   \n",
       "315                                0.002114   \n",
       "\n",
       "     F0semitoneFrom27.5Hz_sma3nz_percentile20.0  \\\n",
       "0                                      0.000000   \n",
       "1                                      0.000000   \n",
       "2                                      0.000000   \n",
       "3                                      0.000000   \n",
       "4                                     45.976227   \n",
       "..                                          ...   \n",
       "311                                   17.148163   \n",
       "312                                   22.061678   \n",
       "313                                   39.979843   \n",
       "314                                   34.705680   \n",
       "315                                   13.052620   \n",
       "\n",
       "     F0semitoneFrom27.5Hz_sma3nz_percentile50.0  \\\n",
       "0                                      0.000000   \n",
       "1                                      0.000000   \n",
       "2                                      0.000000   \n",
       "3                                      0.000000   \n",
       "4                                     46.001550   \n",
       "..                                          ...   \n",
       "311                                   19.643951   \n",
       "312                                   22.109802   \n",
       "313                                   41.972950   \n",
       "314                                   39.881733   \n",
       "315                                   13.067672   \n",
       "\n",
       "     F0semitoneFrom27.5Hz_sma3nz_percentile80.0  \\\n",
       "0                                      0.000000   \n",
       "1                                      0.000000   \n",
       "2                                      0.000000   \n",
       "3                                      0.000000   \n",
       "4                                     46.063700   \n",
       "..                                          ...   \n",
       "311                                   25.994820   \n",
       "312                                   41.045380   \n",
       "313                                   45.644200   \n",
       "314                                   55.092194   \n",
       "315                                   13.084248   \n",
       "\n",
       "     F0semitoneFrom27.5Hz_sma3nz_pctlrange0-2  \\\n",
       "0                                    0.000000   \n",
       "1                                    0.000000   \n",
       "2                                    0.000000   \n",
       "3                                    0.000000   \n",
       "4                                    0.087475   \n",
       "..                                        ...   \n",
       "311                                  8.846657   \n",
       "312                                 18.983702   \n",
       "313                                  5.664356   \n",
       "314                                 20.386513   \n",
       "315                                  0.031628   \n",
       "\n",
       "     F0semitoneFrom27.5Hz_sma3nz_meanRisingSlope  \\\n",
       "0                                       0.000000   \n",
       "1                                       0.000000   \n",
       "2                                       0.000000   \n",
       "3                                       0.000000   \n",
       "4                                       0.732803   \n",
       "..                                           ...   \n",
       "311                                     0.298301   \n",
       "312                                    95.364440   \n",
       "313                                    65.902960   \n",
       "314                                   162.407730   \n",
       "315                                     0.000000   \n",
       "\n",
       "     F0semitoneFrom27.5Hz_sma3nz_stddevRisingSlope  \\\n",
       "0                                         0.000000   \n",
       "1                                         0.000000   \n",
       "2                                         0.000000   \n",
       "3                                         0.000000   \n",
       "4                                         0.000000   \n",
       "..                                             ...   \n",
       "311                                       0.000000   \n",
       "312                                      46.859840   \n",
       "313                                      56.582417   \n",
       "314                                      71.661476   \n",
       "315                                       0.000000   \n",
       "\n",
       "     F0semitoneFrom27.5Hz_sma3nz_meanFallingSlope  \\\n",
       "0                                        0.000000   \n",
       "1                                        0.000000   \n",
       "2                                        0.000000   \n",
       "3                                        0.000000   \n",
       "4                                        3.223114   \n",
       "..                                            ...   \n",
       "311                                     55.006287   \n",
       "312                                    176.039110   \n",
       "313                                     82.335820   \n",
       "314                                     87.872856   \n",
       "315                                     -0.009367   \n",
       "\n",
       "     F0semitoneFrom27.5Hz_sma3nz_stddevFallingSlope  ...  \\\n",
       "0                                          0.000000  ...   \n",
       "1                                          0.000000  ...   \n",
       "2                                          0.000000  ...   \n",
       "3                                          0.000000  ...   \n",
       "4                                          0.000000  ...   \n",
       "..                                              ...  ...   \n",
       "311                                        0.000000  ...   \n",
       "312                                      107.322290  ...   \n",
       "313                                       53.658962  ...   \n",
       "314                                       62.009914  ...   \n",
       "315                                        0.000000  ...   \n",
       "\n",
       "     StddevUnvoicedSegmentLength  equivalentSoundLevel_dBp  \\\n",
       "0                       0.000000                -62.337875   \n",
       "1                       0.000000                -68.395905   \n",
       "2                       0.000000                -63.172516   \n",
       "3                       0.000000                -53.247980   \n",
       "4                       0.815000                -59.912260   \n",
       "..                           ...                       ...   \n",
       "311                     0.248231                -37.415604   \n",
       "312                     0.128530                -44.122757   \n",
       "313                     0.004000                -33.869644   \n",
       "314                     0.436291                -37.549953   \n",
       "315                     0.000000                -33.324620   \n",
       "\n",
       "                    Name  extraversion  neuroticism  agreeableness  \\\n",
       "0    uwUkp63db18.005.wav      0.242991     0.635417       0.417582   \n",
       "1    zNmuwZkaeVg.001.wav      0.289720     0.354167       0.472527   \n",
       "2    uwUkp63db18.004.wav      0.233645     0.291667       0.384615   \n",
       "3    yOzHZOg95Ug.000.wav      0.214953     0.322917       0.296703   \n",
       "4    v5hZeuRW6m0.003.wav      0.186916     0.427083       0.428571   \n",
       "..                   ...           ...          ...            ...   \n",
       "311  2T3oK1Gse2g.004.wav      0.654206     0.572917       0.637363   \n",
       "312  zEyRyTnIw5I.001.wav      0.214953     0.458333       0.362637   \n",
       "313  qoZwA4ESb7g.001.wav      0.299065     0.375000       0.483516   \n",
       "314  YjXUMygVw7U.004.wav      0.289720     0.510417       0.516484   \n",
       "315  VJuVsi6G96s.005.wav      0.485981     0.583333       0.373626   \n",
       "\n",
       "     conscientiousness  openness  Partition     basename  \n",
       "0             0.660194  0.355556      Train  uwUkp63db18  \n",
       "1             0.388350  0.344444       Test  zNmuwZkaeVg  \n",
       "2             0.621359  0.322222      Train  uwUkp63db18  \n",
       "3             0.446602  0.233333      Train  yOzHZOg95Ug  \n",
       "4             0.417476  0.522222        Val  v5hZeuRW6m0  \n",
       "..                 ...       ...        ...          ...  \n",
       "311           0.485437  0.633333        Val  2T3oK1Gse2g  \n",
       "312           0.601942  0.333333      Train  zEyRyTnIw5I  \n",
       "313           0.368932  0.477778      Train  qoZwA4ESb7g  \n",
       "314           0.543689  0.500000       Test  YjXUMygVw7U  \n",
       "315           0.533981  0.544444      Train  VJuVsi6G96s  \n",
       "\n",
       "[316 rows x 96 columns]"
      ]
     },
     "execution_count": 24,
     "metadata": {},
     "output_type": "execute_result"
    }
   ],
   "source": [
    "df"
   ]
  },
  {
   "cell_type": "code",
   "execution_count": 26,
   "metadata": {},
   "outputs": [
    {
     "name": "stderr",
     "output_type": "stream",
     "text": [
      "/home/gbarchi/Documentos/Trust/OCEAN-TRUST/src/modeling.py:387: RuntimeWarning: invalid value encountered in sqrt\n",
      "  metrics=[r2_all,np.sqrt(r2_all),MAE_all,MSE_all,RMSE_all,fold]\n",
      "/home/gbarchi/Documentos/Trust/OCEAN-TRUST/src/modeling.py:387: RuntimeWarning: invalid value encountered in sqrt\n",
      "  metrics=[r2_all,np.sqrt(r2_all),MAE_all,MSE_all,RMSE_all,fold]\n",
      "/home/gbarchi/Documentos/Trust/OCEAN-TRUST/src/modeling.py:387: RuntimeWarning: invalid value encountered in sqrt\n",
      "  metrics=[r2_all,np.sqrt(r2_all),MAE_all,MSE_all,RMSE_all,fold]\n",
      "/home/gbarchi/Documentos/Trust/OCEAN-TRUST/src/modeling.py:387: RuntimeWarning: invalid value encountered in sqrt\n",
      "  metrics=[r2_all,np.sqrt(r2_all),MAE_all,MSE_all,RMSE_all,fold]\n",
      "/home/gbarchi/Documentos/Trust/OCEAN-TRUST/src/modeling.py:387: RuntimeWarning: invalid value encountered in sqrt\n",
      "  metrics=[r2_all,np.sqrt(r2_all),MAE_all,MSE_all,RMSE_all,fold]\n"
     ]
    }
   ],
   "source": [
    "df_metrics_all,feature_importance_all,y_val_all=modeling.cross_val(df,feature_tags,label_tags,n_folds=5)"
   ]
  },
  {
   "cell_type": "code",
   "execution_count": 27,
   "metadata": {},
   "outputs": [
    {
     "data": {
      "text/html": [
       "<div>\n",
       "<style scoped>\n",
       "    .dataframe tbody tr th:only-of-type {\n",
       "        vertical-align: middle;\n",
       "    }\n",
       "\n",
       "    .dataframe tbody tr th {\n",
       "        vertical-align: top;\n",
       "    }\n",
       "\n",
       "    .dataframe thead th {\n",
       "        text-align: right;\n",
       "    }\n",
       "</style>\n",
       "<table border=\"1\" class=\"dataframe\">\n",
       "  <thead>\n",
       "    <tr style=\"text-align: right;\">\n",
       "      <th></th>\n",
       "      <th>r2</th>\n",
       "      <th>r</th>\n",
       "      <th>MAE</th>\n",
       "      <th>MSE</th>\n",
       "      <th>RMSE</th>\n",
       "      <th>fold</th>\n",
       "    </tr>\n",
       "  </thead>\n",
       "  <tbody>\n",
       "    <tr>\n",
       "      <th>0</th>\n",
       "      <td>-0.075555</td>\n",
       "      <td>NaN</td>\n",
       "      <td>0.119682</td>\n",
       "      <td>0.021742</td>\n",
       "      <td>0.147453</td>\n",
       "      <td>0.0</td>\n",
       "    </tr>\n",
       "    <tr>\n",
       "      <th>1</th>\n",
       "      <td>-0.081977</td>\n",
       "      <td>NaN</td>\n",
       "      <td>0.099154</td>\n",
       "      <td>0.015918</td>\n",
       "      <td>0.126168</td>\n",
       "      <td>1.0</td>\n",
       "    </tr>\n",
       "    <tr>\n",
       "      <th>2</th>\n",
       "      <td>-0.035536</td>\n",
       "      <td>NaN</td>\n",
       "      <td>0.103037</td>\n",
       "      <td>0.016466</td>\n",
       "      <td>0.128321</td>\n",
       "      <td>2.0</td>\n",
       "    </tr>\n",
       "    <tr>\n",
       "      <th>3</th>\n",
       "      <td>-0.040531</td>\n",
       "      <td>NaN</td>\n",
       "      <td>0.117068</td>\n",
       "      <td>0.020104</td>\n",
       "      <td>0.141788</td>\n",
       "      <td>3.0</td>\n",
       "    </tr>\n",
       "    <tr>\n",
       "      <th>4</th>\n",
       "      <td>-0.084068</td>\n",
       "      <td>NaN</td>\n",
       "      <td>0.110544</td>\n",
       "      <td>0.018842</td>\n",
       "      <td>0.137265</td>\n",
       "      <td>4.0</td>\n",
       "    </tr>\n",
       "  </tbody>\n",
       "</table>\n",
       "</div>"
      ],
      "text/plain": [
       "         r2   r       MAE       MSE      RMSE  fold\n",
       "0 -0.075555 NaN  0.119682  0.021742  0.147453   0.0\n",
       "1 -0.081977 NaN  0.099154  0.015918  0.126168   1.0\n",
       "2 -0.035536 NaN  0.103037  0.016466  0.128321   2.0\n",
       "3 -0.040531 NaN  0.117068  0.020104  0.141788   3.0\n",
       "4 -0.084068 NaN  0.110544  0.018842  0.137265   4.0"
      ]
     },
     "execution_count": 27,
     "metadata": {},
     "output_type": "execute_result"
    }
   ],
   "source": [
    "df_metrics_all"
   ]
  },
  {
   "cell_type": "markdown",
   "metadata": {},
   "source": [
    "## Multiple cross-val"
   ]
  },
  {
   "cell_type": "markdown",
   "metadata": {},
   "source": [
    "Valid silero non-speech samples with music"
   ]
  },
  {
   "cell_type": "code",
   "execution_count": 13,
   "metadata": {},
   "outputs": [
    {
     "name": "stderr",
     "output_type": "stream",
     "text": [
      "100%|██████████| 100/100 [01:50<00:00,  1.11s/it]\n"
     ]
    }
   ],
   "source": [
    "warnings.filterwarnings('ignore')\n",
    "df_final_music=pd.DataFrame()\n",
    "for i in tqdm.tqdm(range(100)):\n",
    "    df_metrics_music,feature_importance_music,y_val_music=modeling.cross_val(df_music,feature_tags,label_tags,n_folds=5)\n",
    "    df_metrics_music['seed']=i\n",
    "    df_metrics_music['filter']='Music'\n",
    "    df_metrics_music['audio_type']='Valid non-speech Silero (2 sec)'\n",
    "    df_final_music=pd.concat([df_final_music,df_metrics_music])"
   ]
  },
  {
   "cell_type": "code",
   "execution_count": 14,
   "metadata": {},
   "outputs": [],
   "source": [
    "df_final_music_unique=df_final_music.drop_duplicates(subset='seed')"
   ]
  },
  {
   "cell_type": "markdown",
   "metadata": {},
   "source": [
    "Valid silero non-speech samples without music"
   ]
  },
  {
   "cell_type": "code",
   "execution_count": 15,
   "metadata": {},
   "outputs": [],
   "source": [
    "warnings.filterwarnings('ignore')\n",
    "df_final_no_music=pd.DataFrame()\n",
    "for i in range(100):\n",
    "    df_metrics_no_music,feature_importance_no_music,y_val_no_music=modeling.cross_val(df_no_music,feature_tags,label_tags,n_folds=5)\n",
    "    df_metrics_no_music['seed']=i\n",
    "    df_metrics_no_music['filter']='No Music'\n",
    "    df_metrics_no_music['audio_type']='Valid non-speech Silero (2 sec)'\n",
    "    df_final_no_music=pd.concat([df_final_no_music,df_metrics_no_music])   "
   ]
  },
  {
   "cell_type": "code",
   "execution_count": 16,
   "metadata": {},
   "outputs": [],
   "source": [
    "df_final_no_music_unique=df_final_no_music.drop_duplicates(subset='seed')"
   ]
  },
  {
   "cell_type": "markdown",
   "metadata": {},
   "source": [
    "All valid silero non-speech samples"
   ]
  },
  {
   "cell_type": "code",
   "execution_count": 17,
   "metadata": {},
   "outputs": [],
   "source": [
    "df=pd.concat([df_no_music,df_music],ignore_index=True)"
   ]
  },
  {
   "cell_type": "code",
   "execution_count": 18,
   "metadata": {},
   "outputs": [],
   "source": [
    "warnings.filterwarnings('ignore')\n",
    "df_final=pd.DataFrame()\n",
    "for i in range(100):\n",
    "    df_metrics_all,feature_importance_all,y_val_all=modeling.cross_val(df,feature_tags,label_tags,n_folds=5)\n",
    "    df_metrics_all['seed']=i\n",
    "    df_metrics_all['filter']='All'\n",
    "    df_metrics_all['audio_type']='Valid non-speech Silero (2 sec)'\n",
    "    df_final=pd.concat([df_final,df_metrics_all])   "
   ]
  },
  {
   "cell_type": "code",
   "execution_count": 19,
   "metadata": {},
   "outputs": [],
   "source": [
    "df_final_unique=df_final.drop_duplicates(subset='seed')"
   ]
  },
  {
   "cell_type": "code",
   "execution_count": 20,
   "metadata": {},
   "outputs": [],
   "source": [
    "df_=pd.concat([df_final_unique,df_final_music_unique,df_final_no_music_unique])"
   ]
  },
  {
   "cell_type": "code",
   "execution_count": 21,
   "metadata": {},
   "outputs": [
    {
     "data": {
      "text/html": [
       "<div>\n",
       "<style scoped>\n",
       "    .dataframe tbody tr th:only-of-type {\n",
       "        vertical-align: middle;\n",
       "    }\n",
       "\n",
       "    .dataframe tbody tr th {\n",
       "        vertical-align: top;\n",
       "    }\n",
       "\n",
       "    .dataframe thead th {\n",
       "        text-align: right;\n",
       "    }\n",
       "</style>\n",
       "<table border=\"1\" class=\"dataframe\">\n",
       "  <thead>\n",
       "    <tr style=\"text-align: right;\">\n",
       "      <th></th>\n",
       "      <th>r2</th>\n",
       "      <th>r</th>\n",
       "      <th>MAE</th>\n",
       "      <th>MSE</th>\n",
       "      <th>RMSE</th>\n",
       "      <th>fold</th>\n",
       "      <th>r2_fold</th>\n",
       "      <th>seed</th>\n",
       "      <th>filter</th>\n",
       "      <th>audio_type</th>\n",
       "    </tr>\n",
       "  </thead>\n",
       "  <tbody>\n",
       "    <tr>\n",
       "      <th>0</th>\n",
       "      <td>-0.093810</td>\n",
       "      <td>NaN</td>\n",
       "      <td>0.118412</td>\n",
       "      <td>0.021301</td>\n",
       "      <td>0.145950</td>\n",
       "      <td>0.0</td>\n",
       "      <td>-0.026227</td>\n",
       "      <td>0</td>\n",
       "      <td>All</td>\n",
       "      <td>Valid non-speech Silero (2 sec)</td>\n",
       "    </tr>\n",
       "    <tr>\n",
       "      <th>0</th>\n",
       "      <td>0.002504</td>\n",
       "      <td>0.050035</td>\n",
       "      <td>0.109665</td>\n",
       "      <td>0.018060</td>\n",
       "      <td>0.134387</td>\n",
       "      <td>0.0</td>\n",
       "      <td>-0.027690</td>\n",
       "      <td>1</td>\n",
       "      <td>All</td>\n",
       "      <td>Valid non-speech Silero (2 sec)</td>\n",
       "    </tr>\n",
       "    <tr>\n",
       "      <th>0</th>\n",
       "      <td>-0.087789</td>\n",
       "      <td>NaN</td>\n",
       "      <td>0.100670</td>\n",
       "      <td>0.016033</td>\n",
       "      <td>0.126621</td>\n",
       "      <td>0.0</td>\n",
       "      <td>-0.035182</td>\n",
       "      <td>2</td>\n",
       "      <td>All</td>\n",
       "      <td>Valid non-speech Silero (2 sec)</td>\n",
       "    </tr>\n",
       "    <tr>\n",
       "      <th>0</th>\n",
       "      <td>-0.150300</td>\n",
       "      <td>NaN</td>\n",
       "      <td>0.114993</td>\n",
       "      <td>0.019423</td>\n",
       "      <td>0.139367</td>\n",
       "      <td>0.0</td>\n",
       "      <td>-0.090489</td>\n",
       "      <td>3</td>\n",
       "      <td>All</td>\n",
       "      <td>Valid non-speech Silero (2 sec)</td>\n",
       "    </tr>\n",
       "    <tr>\n",
       "      <th>0</th>\n",
       "      <td>0.059339</td>\n",
       "      <td>0.243595</td>\n",
       "      <td>0.108867</td>\n",
       "      <td>0.018150</td>\n",
       "      <td>0.134721</td>\n",
       "      <td>0.0</td>\n",
       "      <td>-0.027106</td>\n",
       "      <td>4</td>\n",
       "      <td>All</td>\n",
       "      <td>Valid non-speech Silero (2 sec)</td>\n",
       "    </tr>\n",
       "    <tr>\n",
       "      <th>...</th>\n",
       "      <td>...</td>\n",
       "      <td>...</td>\n",
       "      <td>...</td>\n",
       "      <td>...</td>\n",
       "      <td>...</td>\n",
       "      <td>...</td>\n",
       "      <td>...</td>\n",
       "      <td>...</td>\n",
       "      <td>...</td>\n",
       "      <td>...</td>\n",
       "    </tr>\n",
       "    <tr>\n",
       "      <th>0</th>\n",
       "      <td>-0.293027</td>\n",
       "      <td>NaN</td>\n",
       "      <td>0.114157</td>\n",
       "      <td>0.022215</td>\n",
       "      <td>0.149048</td>\n",
       "      <td>0.0</td>\n",
       "      <td>-0.149995</td>\n",
       "      <td>95</td>\n",
       "      <td>No Music</td>\n",
       "      <td>Valid non-speech Silero (2 sec)</td>\n",
       "    </tr>\n",
       "    <tr>\n",
       "      <th>0</th>\n",
       "      <td>-0.032652</td>\n",
       "      <td>NaN</td>\n",
       "      <td>0.098259</td>\n",
       "      <td>0.016918</td>\n",
       "      <td>0.130068</td>\n",
       "      <td>0.0</td>\n",
       "      <td>-0.060492</td>\n",
       "      <td>96</td>\n",
       "      <td>No Music</td>\n",
       "      <td>Valid non-speech Silero (2 sec)</td>\n",
       "    </tr>\n",
       "    <tr>\n",
       "      <th>0</th>\n",
       "      <td>-0.085793</td>\n",
       "      <td>NaN</td>\n",
       "      <td>0.106931</td>\n",
       "      <td>0.017801</td>\n",
       "      <td>0.133420</td>\n",
       "      <td>0.0</td>\n",
       "      <td>-0.199243</td>\n",
       "      <td>97</td>\n",
       "      <td>No Music</td>\n",
       "      <td>Valid non-speech Silero (2 sec)</td>\n",
       "    </tr>\n",
       "    <tr>\n",
       "      <th>0</th>\n",
       "      <td>-0.276977</td>\n",
       "      <td>NaN</td>\n",
       "      <td>0.147959</td>\n",
       "      <td>0.031521</td>\n",
       "      <td>0.177540</td>\n",
       "      <td>0.0</td>\n",
       "      <td>-0.148729</td>\n",
       "      <td>98</td>\n",
       "      <td>No Music</td>\n",
       "      <td>Valid non-speech Silero (2 sec)</td>\n",
       "    </tr>\n",
       "    <tr>\n",
       "      <th>0</th>\n",
       "      <td>-0.099238</td>\n",
       "      <td>NaN</td>\n",
       "      <td>0.112741</td>\n",
       "      <td>0.020229</td>\n",
       "      <td>0.142227</td>\n",
       "      <td>0.0</td>\n",
       "      <td>-0.136882</td>\n",
       "      <td>99</td>\n",
       "      <td>No Music</td>\n",
       "      <td>Valid non-speech Silero (2 sec)</td>\n",
       "    </tr>\n",
       "  </tbody>\n",
       "</table>\n",
       "<p>300 rows × 10 columns</p>\n",
       "</div>"
      ],
      "text/plain": [
       "          r2         r       MAE       MSE      RMSE  fold   r2_fold  seed  \\\n",
       "0  -0.093810       NaN  0.118412  0.021301  0.145950   0.0 -0.026227     0   \n",
       "0   0.002504  0.050035  0.109665  0.018060  0.134387   0.0 -0.027690     1   \n",
       "0  -0.087789       NaN  0.100670  0.016033  0.126621   0.0 -0.035182     2   \n",
       "0  -0.150300       NaN  0.114993  0.019423  0.139367   0.0 -0.090489     3   \n",
       "0   0.059339  0.243595  0.108867  0.018150  0.134721   0.0 -0.027106     4   \n",
       "..       ...       ...       ...       ...       ...   ...       ...   ...   \n",
       "0  -0.293027       NaN  0.114157  0.022215  0.149048   0.0 -0.149995    95   \n",
       "0  -0.032652       NaN  0.098259  0.016918  0.130068   0.0 -0.060492    96   \n",
       "0  -0.085793       NaN  0.106931  0.017801  0.133420   0.0 -0.199243    97   \n",
       "0  -0.276977       NaN  0.147959  0.031521  0.177540   0.0 -0.148729    98   \n",
       "0  -0.099238       NaN  0.112741  0.020229  0.142227   0.0 -0.136882    99   \n",
       "\n",
       "      filter                       audio_type  \n",
       "0        All  Valid non-speech Silero (2 sec)  \n",
       "0        All  Valid non-speech Silero (2 sec)  \n",
       "0        All  Valid non-speech Silero (2 sec)  \n",
       "0        All  Valid non-speech Silero (2 sec)  \n",
       "0        All  Valid non-speech Silero (2 sec)  \n",
       "..       ...                              ...  \n",
       "0   No Music  Valid non-speech Silero (2 sec)  \n",
       "0   No Music  Valid non-speech Silero (2 sec)  \n",
       "0   No Music  Valid non-speech Silero (2 sec)  \n",
       "0   No Music  Valid non-speech Silero (2 sec)  \n",
       "0   No Music  Valid non-speech Silero (2 sec)  \n",
       "\n",
       "[300 rows x 10 columns]"
      ]
     },
     "execution_count": 21,
     "metadata": {},
     "output_type": "execute_result"
    }
   ],
   "source": [
    "df_"
   ]
  },
  {
   "cell_type": "code",
   "execution_count": 22,
   "metadata": {},
   "outputs": [
    {
     "data": {
      "text/plain": [
       "<matplotlib.legend.Legend at 0x7f2c65561610>"
      ]
     },
     "execution_count": 22,
     "metadata": {},
     "output_type": "execute_result"
    },
    {
     "data": {
      "image/png": "[encoded data removed]",
      "text/plain": [
       "<Figure size 864x576 with 1 Axes>"
      ]
     },
     "metadata": {
      "needs_background": "light"
     },
     "output_type": "display_data"
    }
   ],
   "source": [
    "plt.figure(figsize=(12, 8))\n",
    "sns.set_style(\"whitegrid\")\n",
    "ax=sns.boxplot(data=df_,x='audio_type',y='r2',hue='filter')\n",
    "ax.set(xlabel='Audio Type', ylabel='R2')\n",
    "plt.xticks(rotation=0)\n",
    "plt.legend(bbox_to_anchor=(1.05, 1), loc=2)"
   ]
  }
 ],
 "metadata": {
  "kernelspec": {
   "display_name": "ocean_trust",
   "language": "python",
   "name": "ocean_repo"
  },
  "language_info": {
   "codemirror_mode": {
    "name": "ipython",
    "version": 3
   },
   "file_extension": ".py",
   "mimetype": "text/x-python",
   "name": "python",
   "nbconvert_exporter": "python",
   "pygments_lexer": "ipython3",
   "version": "3.9.12"
  },
  "orig_nbformat": 4
 },
 "nbformat": 4,
 "nbformat_minor": 2
}
