{
 "cells": [
  {
   "cell_type": "code",
   "execution_count": 1,
   "metadata": {},
   "outputs": [],
   "source": [
    "import pandas as pd\n",
    "import glob\n",
    "import os\n",
    "from importlib.machinery import SourceFileLoader"
   ]
  },
  {
   "cell_type": "markdown",
   "metadata": {},
   "source": [
    "## Load data and modules"
   ]
  },
  {
   "cell_type": "markdown",
   "metadata": {},
   "source": [
    "Import egemaps extraction module"
   ]
  },
  {
   "cell_type": "code",
   "execution_count": 44,
   "metadata": {},
   "outputs": [],
   "source": [
    "code_path='/home/gbarchi/Documentos/Trust/OCEAN-TRUST/src/extract_egemaps.py'\n",
    "extract_egemaps = SourceFileLoader(\"extract_features\", code_path).load_module() "
   ]
  },
  {
   "cell_type": "markdown",
   "metadata": {},
   "source": [
    "Import utils"
   ]
  },
  {
   "cell_type": "code",
   "execution_count": 53,
   "metadata": {},
   "outputs": [],
   "source": [
    "format_code_path='/home/gbarchi/Documentos/Trust/OCEAN-TRUST/src/utils.py'\n",
    "utils=SourceFileLoader(\"format_data\", format_code_path).load_module() "
   ]
  },
  {
   "cell_type": "markdown",
   "metadata": {},
   "source": [
    "Import modeling"
   ]
  },
  {
   "cell_type": "code",
   "execution_count": 67,
   "metadata": {},
   "outputs": [],
   "source": [
    "modeling_code_path='/home/gbarchi/Documentos/Trust/OCEAN-TRUST/src/modeling.py'\n",
    "modeling=SourceFileLoader(\"cross_val\", modeling_code_path).load_module() "
   ]
  },
  {
   "cell_type": "markdown",
   "metadata": {},
   "source": [
    "Load manual annotations"
   ]
  },
  {
   "cell_type": "code",
   "execution_count": 31,
   "metadata": {},
   "outputs": [],
   "source": [
    "music_annot_df=pd.read_csv('../data/manual_music_annotations/df_music_labels.csv',index_col=0)\n",
    "no_music_list=music_annot_df[music_annot_df['music']==0].name\n",
    "music_list=music_annot_df[music_annot_df['music']==1].name"
   ]
  },
  {
   "cell_type": "code",
   "execution_count": 32,
   "metadata": {},
   "outputs": [],
   "source": [
    "no_speech_files='/home/gbarchi/Documentos/Trust/OCEAN-TRUST/data/silero/silero_no_speech'\n",
    "\n",
    "no_music_paths=[]\n",
    "for dir_nm in no_music_list:\n",
    "    no_music_paths.append(glob.glob(os.path.join(no_speech_files,'*',dir_nm))[0])\n",
    "\n",
    "music_paths=[]\n",
    "for dir_m in music_list:\n",
    "    music_paths.append(glob.glob(os.path.join(no_speech_files,'*',dir_m))[0])"
   ]
  },
  {
   "cell_type": "markdown",
   "metadata": {},
   "source": [
    "## Extract egemaps"
   ]
  },
  {
   "cell_type": "code",
   "execution_count": 36,
   "metadata": {},
   "outputs": [],
   "source": [
    "no_music_features_path='/home/gbarchi/Documentos/Trust/OCEAN-TRUST/data/features/egemaps_silero_no_speech_no_music_manual_annot.csv'\n",
    "music_features_path='/home/gbarchi/Documentos/Trust/OCEAN-TRUST/data/features/egemaps_silero_no_speech_music_manual_annot.csv'"
   ]
  },
  {
   "cell_type": "markdown",
   "metadata": {},
   "source": [
    "Extract no music features"
   ]
  },
  {
   "cell_type": "code",
   "execution_count": 41,
   "metadata": {},
   "outputs": [],
   "source": [
    "audio_duration=2"
   ]
  },
  {
   "cell_type": "code",
   "execution_count": 45,
   "metadata": {},
   "outputs": [
    {
     "name": "stdout",
     "output_type": "stream",
     "text": [
      "32000\n"
     ]
    },
    {
     "name": "stderr",
     "output_type": "stream",
     "text": [
      "100%|██████████| 146/146 [00:12<00:00, 11.50it/s]\n"
     ]
    }
   ],
   "source": [
    "extract_egemaps.extract_features(no_music_features_path,no_music_paths,audio_duration)"
   ]
  },
  {
   "cell_type": "markdown",
   "metadata": {},
   "source": [
    "Extract music features"
   ]
  },
  {
   "cell_type": "code",
   "execution_count": 46,
   "metadata": {},
   "outputs": [
    {
     "name": "stdout",
     "output_type": "stream",
     "text": [
      "32000\n"
     ]
    },
    {
     "name": "stderr",
     "output_type": "stream",
     "text": [
      "100%|██████████| 170/170 [00:14<00:00, 11.37it/s]\n"
     ]
    }
   ],
   "source": [
    "extract_egemaps.extract_features(music_features_path,music_paths,audio_duration)"
   ]
  },
  {
   "cell_type": "markdown",
   "metadata": {},
   "source": [
    "## Prepare data"
   ]
  },
  {
   "cell_type": "code",
   "execution_count": 56,
   "metadata": {},
   "outputs": [],
   "source": [
    "feat_df_nm=pd.read_csv('../data/features/egemaps_silero_no_speech_no_music_manual_annot.csv')\n",
    "feat_df_m=pd.read_csv('../data/features/egemaps_silero_no_speech_music_manual_annot.csv')\n",
    "labels_df=pd.read_csv('../data/labels/new_partitions-labels.csv')"
   ]
  },
  {
   "cell_type": "markdown",
   "metadata": {},
   "source": [
    "No speech + No music"
   ]
  },
  {
   "cell_type": "code",
   "execution_count": 55,
   "metadata": {},
   "outputs": [],
   "source": [
    "df_no_music=utils.format_data(feat_df_nm,labels_df)"
   ]
  },
  {
   "cell_type": "markdown",
   "metadata": {},
   "source": [
    "No speech + Music"
   ]
  },
  {
   "cell_type": "code",
   "execution_count": 57,
   "metadata": {},
   "outputs": [],
   "source": [
    "df_music=utils.format_data(feat_df_m,labels_df)"
   ]
  },
  {
   "cell_type": "markdown",
   "metadata": {},
   "source": [
    "## Train models"
   ]
  },
  {
   "cell_type": "code",
   "execution_count": 61,
   "metadata": {},
   "outputs": [],
   "source": [
    "label_tags=['extraversion', 'neuroticism','agreeableness', 'conscientiousness', 'openness']\n",
    "feature_tags=feat_df_m.columns[~feat_df_m.columns.isin(['Name','Part'])]"
   ]
  },
  {
   "cell_type": "code",
   "execution_count": 68,
   "metadata": {},
   "outputs": [
    {
     "name": "stderr",
     "output_type": "stream",
     "text": [
      "/home/gbarchi/Documentos/Trust/OCEAN-TRUST/src/modeling.py:387: RuntimeWarning: invalid value encountered in sqrt\n",
      "  metrics=[r2_all,np.sqrt(r2_all),MAE_all,MSE_all,RMSE_all,fold]\n",
      "/home/gbarchi/Documentos/Trust/OCEAN-TRUST/src/modeling.py:387: RuntimeWarning: invalid value encountered in sqrt\n",
      "  metrics=[r2_all,np.sqrt(r2_all),MAE_all,MSE_all,RMSE_all,fold]\n",
      "/home/gbarchi/Documentos/Trust/OCEAN-TRUST/src/modeling.py:387: RuntimeWarning: invalid value encountered in sqrt\n",
      "  metrics=[r2_all,np.sqrt(r2_all),MAE_all,MSE_all,RMSE_all,fold]\n",
      "/home/gbarchi/Documentos/Trust/OCEAN-TRUST/src/modeling.py:387: RuntimeWarning: invalid value encountered in sqrt\n",
      "  metrics=[r2_all,np.sqrt(r2_all),MAE_all,MSE_all,RMSE_all,fold]\n",
      "/home/gbarchi/Documentos/Trust/OCEAN-TRUST/src/modeling.py:387: RuntimeWarning: invalid value encountered in sqrt\n",
      "  metrics=[r2_all,np.sqrt(r2_all),MAE_all,MSE_all,RMSE_all,fold]\n"
     ]
    }
   ],
   "source": [
    "df_metrics_music,feature_importance_music,y_val_music=modeling.cross_val(df_music,feature_tags,label_tags,n_folds=5)"
   ]
  },
  {
   "cell_type": "code",
   "execution_count": 69,
   "metadata": {},
   "outputs": [
    {
     "data": {
      "text/html": [
       "<div>\n",
       "<style scoped>\n",
       "    .dataframe tbody tr th:only-of-type {\n",
       "        vertical-align: middle;\n",
       "    }\n",
       "\n",
       "    .dataframe tbody tr th {\n",
       "        vertical-align: top;\n",
       "    }\n",
       "\n",
       "    .dataframe thead th {\n",
       "        text-align: right;\n",
       "    }\n",
       "</style>\n",
       "<table border=\"1\" class=\"dataframe\">\n",
       "  <thead>\n",
       "    <tr style=\"text-align: right;\">\n",
       "      <th></th>\n",
       "      <th>r2</th>\n",
       "      <th>r</th>\n",
       "      <th>MAE</th>\n",
       "      <th>MSE</th>\n",
       "      <th>RMSE</th>\n",
       "      <th>fold</th>\n",
       "    </tr>\n",
       "  </thead>\n",
       "  <tbody>\n",
       "    <tr>\n",
       "      <th>0</th>\n",
       "      <td>-0.135916</td>\n",
       "      <td>NaN</td>\n",
       "      <td>0.101836</td>\n",
       "      <td>0.016525</td>\n",
       "      <td>0.128550</td>\n",
       "      <td>0.0</td>\n",
       "    </tr>\n",
       "    <tr>\n",
       "      <th>1</th>\n",
       "      <td>-0.110177</td>\n",
       "      <td>NaN</td>\n",
       "      <td>0.105347</td>\n",
       "      <td>0.016802</td>\n",
       "      <td>0.129624</td>\n",
       "      <td>1.0</td>\n",
       "    </tr>\n",
       "    <tr>\n",
       "      <th>2</th>\n",
       "      <td>-0.030345</td>\n",
       "      <td>NaN</td>\n",
       "      <td>0.097618</td>\n",
       "      <td>0.014405</td>\n",
       "      <td>0.120021</td>\n",
       "      <td>2.0</td>\n",
       "    </tr>\n",
       "    <tr>\n",
       "      <th>3</th>\n",
       "      <td>-0.196946</td>\n",
       "      <td>NaN</td>\n",
       "      <td>0.099877</td>\n",
       "      <td>0.015481</td>\n",
       "      <td>0.124422</td>\n",
       "      <td>3.0</td>\n",
       "    </tr>\n",
       "    <tr>\n",
       "      <th>4</th>\n",
       "      <td>-0.029778</td>\n",
       "      <td>NaN</td>\n",
       "      <td>0.100988</td>\n",
       "      <td>0.015955</td>\n",
       "      <td>0.126312</td>\n",
       "      <td>4.0</td>\n",
       "    </tr>\n",
       "  </tbody>\n",
       "</table>\n",
       "</div>"
      ],
      "text/plain": [
       "         r2   r       MAE       MSE      RMSE  fold\n",
       "0 -0.135916 NaN  0.101836  0.016525  0.128550   0.0\n",
       "1 -0.110177 NaN  0.105347  0.016802  0.129624   1.0\n",
       "2 -0.030345 NaN  0.097618  0.014405  0.120021   2.0\n",
       "3 -0.196946 NaN  0.099877  0.015481  0.124422   3.0\n",
       "4 -0.029778 NaN  0.100988  0.015955  0.126312   4.0"
      ]
     },
     "execution_count": 69,
     "metadata": {},
     "output_type": "execute_result"
    }
   ],
   "source": [
    "df_metrics_music"
   ]
  },
  {
   "cell_type": "code",
   "execution_count": 70,
   "metadata": {},
   "outputs": [
    {
     "name": "stderr",
     "output_type": "stream",
     "text": [
      "/home/gbarchi/Documentos/Trust/OCEAN-TRUST/src/modeling.py:387: RuntimeWarning: invalid value encountered in sqrt\n",
      "  metrics=[r2_all,np.sqrt(r2_all),MAE_all,MSE_all,RMSE_all,fold]\n",
      "/home/gbarchi/Documentos/Trust/OCEAN-TRUST/src/modeling.py:387: RuntimeWarning: invalid value encountered in sqrt\n",
      "  metrics=[r2_all,np.sqrt(r2_all),MAE_all,MSE_all,RMSE_all,fold]\n",
      "/home/gbarchi/Documentos/Trust/OCEAN-TRUST/src/modeling.py:387: RuntimeWarning: invalid value encountered in sqrt\n",
      "  metrics=[r2_all,np.sqrt(r2_all),MAE_all,MSE_all,RMSE_all,fold]\n",
      "/home/gbarchi/Documentos/Trust/OCEAN-TRUST/src/modeling.py:387: RuntimeWarning: invalid value encountered in sqrt\n",
      "  metrics=[r2_all,np.sqrt(r2_all),MAE_all,MSE_all,RMSE_all,fold]\n"
     ]
    }
   ],
   "source": [
    "df_metrics_no_music,feature_importance_no_music,y_val_no_music=modeling.cross_val(df_no_music,feature_tags,label_tags,n_folds=5)"
   ]
  },
  {
   "cell_type": "code",
   "execution_count": 71,
   "metadata": {},
   "outputs": [
    {
     "data": {
      "text/html": [
       "<div>\n",
       "<style scoped>\n",
       "    .dataframe tbody tr th:only-of-type {\n",
       "        vertical-align: middle;\n",
       "    }\n",
       "\n",
       "    .dataframe tbody tr th {\n",
       "        vertical-align: top;\n",
       "    }\n",
       "\n",
       "    .dataframe thead th {\n",
       "        text-align: right;\n",
       "    }\n",
       "</style>\n",
       "<table border=\"1\" class=\"dataframe\">\n",
       "  <thead>\n",
       "    <tr style=\"text-align: right;\">\n",
       "      <th></th>\n",
       "      <th>r2</th>\n",
       "      <th>r</th>\n",
       "      <th>MAE</th>\n",
       "      <th>MSE</th>\n",
       "      <th>RMSE</th>\n",
       "      <th>fold</th>\n",
       "    </tr>\n",
       "  </thead>\n",
       "  <tbody>\n",
       "    <tr>\n",
       "      <th>0</th>\n",
       "      <td>0.033979</td>\n",
       "      <td>0.184333</td>\n",
       "      <td>0.098780</td>\n",
       "      <td>0.015315</td>\n",
       "      <td>0.123754</td>\n",
       "      <td>0.0</td>\n",
       "    </tr>\n",
       "    <tr>\n",
       "      <th>1</th>\n",
       "      <td>-0.230394</td>\n",
       "      <td>NaN</td>\n",
       "      <td>0.121857</td>\n",
       "      <td>0.022787</td>\n",
       "      <td>0.150955</td>\n",
       "      <td>1.0</td>\n",
       "    </tr>\n",
       "    <tr>\n",
       "      <th>2</th>\n",
       "      <td>-0.418557</td>\n",
       "      <td>NaN</td>\n",
       "      <td>0.123974</td>\n",
       "      <td>0.022795</td>\n",
       "      <td>0.150980</td>\n",
       "      <td>2.0</td>\n",
       "    </tr>\n",
       "    <tr>\n",
       "      <th>3</th>\n",
       "      <td>-0.150533</td>\n",
       "      <td>NaN</td>\n",
       "      <td>0.122507</td>\n",
       "      <td>0.024953</td>\n",
       "      <td>0.157964</td>\n",
       "      <td>3.0</td>\n",
       "    </tr>\n",
       "    <tr>\n",
       "      <th>4</th>\n",
       "      <td>-0.262666</td>\n",
       "      <td>NaN</td>\n",
       "      <td>0.130361</td>\n",
       "      <td>0.024394</td>\n",
       "      <td>0.156185</td>\n",
       "      <td>4.0</td>\n",
       "    </tr>\n",
       "  </tbody>\n",
       "</table>\n",
       "</div>"
      ],
      "text/plain": [
       "         r2         r       MAE       MSE      RMSE  fold\n",
       "0  0.033979  0.184333  0.098780  0.015315  0.123754   0.0\n",
       "1 -0.230394       NaN  0.121857  0.022787  0.150955   1.0\n",
       "2 -0.418557       NaN  0.123974  0.022795  0.150980   2.0\n",
       "3 -0.150533       NaN  0.122507  0.024953  0.157964   3.0\n",
       "4 -0.262666       NaN  0.130361  0.024394  0.156185   4.0"
      ]
     },
     "execution_count": 71,
     "metadata": {},
     "output_type": "execute_result"
    }
   ],
   "source": [
    "df_metrics_no_music"
   ]
  }
 ],
 "metadata": {
  "kernelspec": {
   "display_name": "ocean-trust",
   "language": "python",
   "name": "ocean_trust"
  },
  "language_info": {
   "codemirror_mode": {
    "name": "ipython",
    "version": 3
   },
   "file_extension": ".py",
   "mimetype": "text/x-python",
   "name": "python",
   "nbconvert_exporter": "python",
   "pygments_lexer": "ipython3",
   "version": "3.9.12"
  },
  "orig_nbformat": 4
 },
 "nbformat": 4,
 "nbformat_minor": 2
}
