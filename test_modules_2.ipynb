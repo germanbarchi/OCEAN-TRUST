{
 "cells": [
  {
   "cell_type": "code",
   "execution_count": 1,
   "metadata": {},
   "outputs": [],
   "source": [
    "from sklearn.ensemble import RandomForestRegressor\n",
    "from sklearn.utils import resample\n",
    "from sklearn.metrics import r2_score\n",
    "from sklearn.metrics import mean_squared_error\n",
    "from sklearn.metrics import mean_absolute_error\n",
    "from sklearn.utils import resample\n",
    "\n",
    "from joblib import Parallel, delayed\n",
    "from IPython import embed\n",
    "\n",
    "from src.utils import make_partitions"
   ]
  },
  {
   "cell_type": "code",
   "execution_count": 2,
   "metadata": {},
   "outputs": [],
   "source": [
    "import numpy as np\n",
    "import pandas as pd\n",
    "import importlib\n",
    "import tqdm\n",
    "import sys"
   ]
  },
  {
   "cell_type": "code",
   "execution_count": 12,
   "metadata": {},
   "outputs": [],
   "source": [
    "from src.utils import format_data\n",
    "import src.modeling as tools\n",
    "sys.path.append('./configs/paper_v_final')"
   ]
  },
  {
   "cell_type": "code",
   "execution_count": 13,
   "metadata": {},
   "outputs": [
    {
     "data": {
      "text/plain": [
       "<module 'src.modeling' from '/home/gbarchi/Documentos/Trust/OCEAN-TRUST/src/modeling.py'>"
      ]
     },
     "execution_count": 13,
     "metadata": {},
     "output_type": "execute_result"
    }
   ],
   "source": [
    "importlib.reload(tools)"
   ]
  },
  {
   "cell_type": "code",
   "execution_count": 14,
   "metadata": {},
   "outputs": [],
   "source": [
    "configs=importlib.import_module('Figure_1_1')"
   ]
  },
  {
   "cell_type": "code",
   "execution_count": 15,
   "metadata": {},
   "outputs": [],
   "source": [
    "feat_df=pd.read_csv('data/features/paper/egemaps/egemaps_full_audio.csv')\n",
    "labels_df=pd.read_csv('data/labels/final_labels.csv')\n",
    "filter='data/lists/all_audio_complete_set.txt'"
   ]
  },
  {
   "cell_type": "code",
   "execution_count": 16,
   "metadata": {},
   "outputs": [],
   "source": [
    "df=format_data(feat_df,labels_df,filter)"
   ]
  },
  {
   "cell_type": "code",
   "execution_count": 17,
   "metadata": {},
   "outputs": [
    {
     "ename": "KeyError",
     "evalue": "\"None of [Index(['egemaps'], dtype='object')] are in the [columns]\"",
     "output_type": "error",
     "traceback": [
      "\u001b[0;31m---------------------------------------------------------------------------\u001b[0m",
      "\u001b[0;31mKeyError\u001b[0m                                  Traceback (most recent call last)",
      "\u001b[1;32m/home/gbarchi/Documentos/Trust/OCEAN-TRUST/test_modules_2.ipynb Cell 8'\u001b[0m in \u001b[0;36m<cell line: 6>\u001b[0;34m()\u001b[0m\n\u001b[1;32m      <a href='vscode-notebook-cell://ssh-remote%2Bocean/home/gbarchi/Documentos/Trust/OCEAN-TRUST/test_modules_2.ipynb#ch0000007vscode-remote?line=3'>4</a>\u001b[0m label_tags\u001b[39m=\u001b[39mconfigs\u001b[39m.\u001b[39mlabel_tags\n\u001b[1;32m      <a href='vscode-notebook-cell://ssh-remote%2Bocean/home/gbarchi/Documentos/Trust/OCEAN-TRUST/test_modules_2.ipynb#ch0000007vscode-remote?line=4'>5</a>\u001b[0m seed\u001b[39m=\u001b[39mconfigs\u001b[39m.\u001b[39mseed\n\u001b[0;32m----> <a href='vscode-notebook-cell://ssh-remote%2Bocean/home/gbarchi/Documentos/Trust/OCEAN-TRUST/test_modules_2.ipynb#ch0000007vscode-remote?line=5'>6</a>\u001b[0m RF_reg\u001b[39m=\u001b[39m tools\u001b[39m.\u001b[39;49mtrain_model (df_train,feature_tags,label_tags,seed)\n",
      "File \u001b[0;32m~/Documentos/Trust/OCEAN-TRUST/src/modeling.py:330\u001b[0m, in \u001b[0;36mtrain_model\u001b[0;34m(df_train, feature_tags, label_tags, seed, rf_n_jobs, random, model_selection)\u001b[0m\n\u001b[1;32m    <a href='file:///home/gbarchi/Documentos/Trust/OCEAN-TRUST/src/modeling.py?line=327'>328</a>\u001b[0m \u001b[39mdef\u001b[39;00m \u001b[39mtrain_model\u001b[39m(df_train,feature_tags,label_tags,seed,rf_n_jobs\u001b[39m=\u001b[39m\u001b[39mNone\u001b[39;00m,random\u001b[39m=\u001b[39m\u001b[39mFalse\u001b[39;00m,model_selection\u001b[39m=\u001b[39m\u001b[39m'\u001b[39m\u001b[39mrandom_forest\u001b[39m\u001b[39m'\u001b[39m):  \n\u001b[0;32m--> <a href='file:///home/gbarchi/Documentos/Trust/OCEAN-TRUST/src/modeling.py?line=329'>330</a>\u001b[0m     X_train,Y_train\u001b[39m=\u001b[39msplit_X_Y(df_train,feature_tags,label_tags)    \n\u001b[1;32m    <a href='file:///home/gbarchi/Documentos/Trust/OCEAN-TRUST/src/modeling.py?line=331'>332</a>\u001b[0m     \u001b[39mif\u001b[39;00m random:\n\u001b[1;32m    <a href='file:///home/gbarchi/Documentos/Trust/OCEAN-TRUST/src/modeling.py?line=332'>333</a>\u001b[0m         Y_train\u001b[39m=\u001b[39mY_train\u001b[39m.\u001b[39msample(frac\u001b[39m=\u001b[39m\u001b[39m1\u001b[39m,replace\u001b[39m=\u001b[39m\u001b[39mTrue\u001b[39;00m)\n",
      "File \u001b[0;32m~/Documentos/Trust/OCEAN-TRUST/src/modeling.py:353\u001b[0m, in \u001b[0;36msplit_X_Y\u001b[0;34m(df, feature_tags, label_tags)\u001b[0m\n\u001b[1;32m    <a href='file:///home/gbarchi/Documentos/Trust/OCEAN-TRUST/src/modeling.py?line=350'>351</a>\u001b[0m \u001b[39mdef\u001b[39;00m \u001b[39msplit_X_Y\u001b[39m(df,feature_tags,label_tags):\n\u001b[0;32m--> <a href='file:///home/gbarchi/Documentos/Trust/OCEAN-TRUST/src/modeling.py?line=352'>353</a>\u001b[0m     df_X\u001b[39m=\u001b[39mdf[feature_tags]\n\u001b[1;32m    <a href='file:///home/gbarchi/Documentos/Trust/OCEAN-TRUST/src/modeling.py?line=353'>354</a>\u001b[0m     df_Y\u001b[39m=\u001b[39mdf[label_tags]\n\u001b[1;32m    <a href='file:///home/gbarchi/Documentos/Trust/OCEAN-TRUST/src/modeling.py?line=355'>356</a>\u001b[0m     \u001b[39mreturn\u001b[39;00m df_X, df_Y\n",
      "File \u001b[0;32m~/anaconda3/envs/ocean_trust/lib/python3.9/site-packages/pandas/core/frame.py:3511\u001b[0m, in \u001b[0;36mDataFrame.__getitem__\u001b[0;34m(self, key)\u001b[0m\n\u001b[1;32m   <a href='file:///home/gbarchi/anaconda3/envs/ocean_trust/lib/python3.9/site-packages/pandas/core/frame.py?line=3508'>3509</a>\u001b[0m     \u001b[39mif\u001b[39;00m is_iterator(key):\n\u001b[1;32m   <a href='file:///home/gbarchi/anaconda3/envs/ocean_trust/lib/python3.9/site-packages/pandas/core/frame.py?line=3509'>3510</a>\u001b[0m         key \u001b[39m=\u001b[39m \u001b[39mlist\u001b[39m(key)\n\u001b[0;32m-> <a href='file:///home/gbarchi/anaconda3/envs/ocean_trust/lib/python3.9/site-packages/pandas/core/frame.py?line=3510'>3511</a>\u001b[0m     indexer \u001b[39m=\u001b[39m \u001b[39mself\u001b[39;49m\u001b[39m.\u001b[39;49mcolumns\u001b[39m.\u001b[39;49m_get_indexer_strict(key, \u001b[39m\"\u001b[39;49m\u001b[39mcolumns\u001b[39;49m\u001b[39m\"\u001b[39;49m)[\u001b[39m1\u001b[39m]\n\u001b[1;32m   <a href='file:///home/gbarchi/anaconda3/envs/ocean_trust/lib/python3.9/site-packages/pandas/core/frame.py?line=3512'>3513</a>\u001b[0m \u001b[39m# take() does not accept boolean indexers\u001b[39;00m\n\u001b[1;32m   <a href='file:///home/gbarchi/anaconda3/envs/ocean_trust/lib/python3.9/site-packages/pandas/core/frame.py?line=3513'>3514</a>\u001b[0m \u001b[39mif\u001b[39;00m \u001b[39mgetattr\u001b[39m(indexer, \u001b[39m\"\u001b[39m\u001b[39mdtype\u001b[39m\u001b[39m\"\u001b[39m, \u001b[39mNone\u001b[39;00m) \u001b[39m==\u001b[39m \u001b[39mbool\u001b[39m:\n",
      "File \u001b[0;32m~/anaconda3/envs/ocean_trust/lib/python3.9/site-packages/pandas/core/indexes/base.py:5782\u001b[0m, in \u001b[0;36mIndex._get_indexer_strict\u001b[0;34m(self, key, axis_name)\u001b[0m\n\u001b[1;32m   <a href='file:///home/gbarchi/anaconda3/envs/ocean_trust/lib/python3.9/site-packages/pandas/core/indexes/base.py?line=5778'>5779</a>\u001b[0m \u001b[39melse\u001b[39;00m:\n\u001b[1;32m   <a href='file:///home/gbarchi/anaconda3/envs/ocean_trust/lib/python3.9/site-packages/pandas/core/indexes/base.py?line=5779'>5780</a>\u001b[0m     keyarr, indexer, new_indexer \u001b[39m=\u001b[39m \u001b[39mself\u001b[39m\u001b[39m.\u001b[39m_reindex_non_unique(keyarr)\n\u001b[0;32m-> <a href='file:///home/gbarchi/anaconda3/envs/ocean_trust/lib/python3.9/site-packages/pandas/core/indexes/base.py?line=5781'>5782</a>\u001b[0m \u001b[39mself\u001b[39;49m\u001b[39m.\u001b[39;49m_raise_if_missing(keyarr, indexer, axis_name)\n\u001b[1;32m   <a href='file:///home/gbarchi/anaconda3/envs/ocean_trust/lib/python3.9/site-packages/pandas/core/indexes/base.py?line=5783'>5784</a>\u001b[0m keyarr \u001b[39m=\u001b[39m \u001b[39mself\u001b[39m\u001b[39m.\u001b[39mtake(indexer)\n\u001b[1;32m   <a href='file:///home/gbarchi/anaconda3/envs/ocean_trust/lib/python3.9/site-packages/pandas/core/indexes/base.py?line=5784'>5785</a>\u001b[0m \u001b[39mif\u001b[39;00m \u001b[39misinstance\u001b[39m(key, Index):\n\u001b[1;32m   <a href='file:///home/gbarchi/anaconda3/envs/ocean_trust/lib/python3.9/site-packages/pandas/core/indexes/base.py?line=5785'>5786</a>\u001b[0m     \u001b[39m# GH 42790 - Preserve name from an Index\u001b[39;00m\n",
      "File \u001b[0;32m~/anaconda3/envs/ocean_trust/lib/python3.9/site-packages/pandas/core/indexes/base.py:5842\u001b[0m, in \u001b[0;36mIndex._raise_if_missing\u001b[0;34m(self, key, indexer, axis_name)\u001b[0m\n\u001b[1;32m   <a href='file:///home/gbarchi/anaconda3/envs/ocean_trust/lib/python3.9/site-packages/pandas/core/indexes/base.py?line=5839'>5840</a>\u001b[0m     \u001b[39mif\u001b[39;00m use_interval_msg:\n\u001b[1;32m   <a href='file:///home/gbarchi/anaconda3/envs/ocean_trust/lib/python3.9/site-packages/pandas/core/indexes/base.py?line=5840'>5841</a>\u001b[0m         key \u001b[39m=\u001b[39m \u001b[39mlist\u001b[39m(key)\n\u001b[0;32m-> <a href='file:///home/gbarchi/anaconda3/envs/ocean_trust/lib/python3.9/site-packages/pandas/core/indexes/base.py?line=5841'>5842</a>\u001b[0m     \u001b[39mraise\u001b[39;00m \u001b[39mKeyError\u001b[39;00m(\u001b[39mf\u001b[39m\u001b[39m\"\u001b[39m\u001b[39mNone of [\u001b[39m\u001b[39m{\u001b[39;00mkey\u001b[39m}\u001b[39;00m\u001b[39m] are in the [\u001b[39m\u001b[39m{\u001b[39;00maxis_name\u001b[39m}\u001b[39;00m\u001b[39m]\u001b[39m\u001b[39m\"\u001b[39m)\n\u001b[1;32m   <a href='file:///home/gbarchi/anaconda3/envs/ocean_trust/lib/python3.9/site-packages/pandas/core/indexes/base.py?line=5843'>5844</a>\u001b[0m not_found \u001b[39m=\u001b[39m \u001b[39mlist\u001b[39m(ensure_index(key)[missing_mask\u001b[39m.\u001b[39mnonzero()[\u001b[39m0\u001b[39m]]\u001b[39m.\u001b[39munique())\n\u001b[1;32m   <a href='file:///home/gbarchi/anaconda3/envs/ocean_trust/lib/python3.9/site-packages/pandas/core/indexes/base.py?line=5844'>5845</a>\u001b[0m \u001b[39mraise\u001b[39;00m \u001b[39mKeyError\u001b[39;00m(\u001b[39mf\u001b[39m\u001b[39m\"\u001b[39m\u001b[39m{\u001b[39;00mnot_found\u001b[39m}\u001b[39;00m\u001b[39m not in index\u001b[39m\u001b[39m\"\u001b[39m)\n",
      "\u001b[0;31mKeyError\u001b[0m: \"None of [Index(['egemaps'], dtype='object')] are in the [columns]\""
     ]
    }
   ],
   "source": [
    "df_train=df.sample(n=8000,replace=True,random_state=42)\n",
    "df_val=df[~df['basename'].isin(df_train['basename'])]\n",
    "feature_tags=configs.feature_tags\n",
    "label_tags=configs.label_tags\n",
    "seed=configs.seed\n",
    "RF_reg= tools.train_model (df_train,feature_tags,label_tags,seed)"
   ]
  },
  {
   "cell_type": "code",
   "execution_count": 15,
   "metadata": {},
   "outputs": [],
   "source": [
    "r2_all,MAE_all,MSE_all,RMSE_all,y_val,predictions= tools.predict(RF_reg,df_val,feature_tags,label_tags)"
   ]
  },
  {
   "cell_type": "code",
   "execution_count": 30,
   "metadata": {},
   "outputs": [],
   "source": [
    "df_importance=tools.top_feature_importance(RF_reg.feature_importances_,configs.feature_tags,10)"
   ]
  }
 ],
 "metadata": {
  "interpreter": {
   "hash": "8fd582cc0c9c172ef607adea6ca659695142511772b7fc1eb52d452e28110f7c"
  },
  "kernelspec": {
   "display_name": "ocean-trust",
   "language": "python",
   "name": "ocean_trust"
  },
  "language_info": {
   "codemirror_mode": {
    "name": "ipython",
    "version": 3
   },
   "file_extension": ".py",
   "mimetype": "text/x-python",
   "name": "python",
   "nbconvert_exporter": "python",
   "pygments_lexer": "ipython3",
   "version": "3.9.12"
  },
  "orig_nbformat": 4
 },
 "nbformat": 4,
 "nbformat_minor": 2
}
