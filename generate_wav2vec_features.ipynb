{
 "cells": [
  {
   "cell_type": "code",
   "execution_count": null,
   "metadata": {},
   "outputs": [],
   "source": [
    "@gin.configurable\n",
    "class FeatureS3PRL:\n",
    "    def _init_(self, feature, layer=None, device='cuda:0', name=None):\n",
    "        self.model = getattr(s3prl.hub,feature)()\n",
    "        self.device = device\n",
    "        if isinstance(self.device, list):\n",
    "            self.device = self.device[0]\n",
    "        if isinstance(self.device, int):\n",
    "            self.device = 'cuda:{}'.format(self.device)\n",
    "        self.model = self.model.to(self.device)\n",
    "\n",
    "        self.layer = layer\n",
    "        if name is None:\n",
    "            name = feature\n",
    "            if layer is not None:\n",
    "                name += str(layer)\n",
    "        self.name = name\n",
    "\n",
    "    def extract(self, x):\n",
    "        wav, fs = librosa.core.load(x, sr=16000)\n",
    "        with torch.no_grad():\n",
    "            wav = torch.from_numpy(wav).unsqueeze(0).to(self.device)\n",
    "            results = self.model(wav)\n",
    "            features = results[\"hidden_states\"]\n",
    "        if self.layer is not None:\n",
    "            if isinstance(self.layer, int):\n",
    "                features = features[self.layer][0].detach().cpu().numpy()\n",
    "            elif isinstance(self.layer, list):\n",
    "                features = [features[i][0].detach().cpu().numpy() for i in self.layer]\n",
    "                features = np.stack(features)\n",
    "                features = np.transpose(features,(1,0,2))\n",
    "        else:\n",
    "            features = [li[0].detach().cpu().numpy() for li in features]\n",
    "            features = np.stack(features)\n",
    "            features = np.transpose(features,(1,0,2))\n",
    "        return features"
   ]
  }
 ],
 "metadata": {
  "language_info": {
   "name": "python"
  },
  "orig_nbformat": 4
 },
 "nbformat": 4,
 "nbformat_minor": 2
}
