{
 "cells": [
  {
   "cell_type": "code",
   "execution_count": 27,
   "metadata": {},
   "outputs": [],
   "source": [
    "from sklearn.ensemble import RandomForestRegressor\n",
    "from sklearn.utils import resample\n",
    "from sklearn.metrics import r2_score\n",
    "from sklearn.metrics import mean_squared_error\n",
    "from sklearn.metrics import mean_absolute_error\n",
    "from sklearn.utils import resample\n",
    "\n",
    "from joblib import Parallel, delayed\n",
    "from IPython import embed\n",
    "\n",
    "from src.utils import make_partitions"
   ]
  },
  {
   "cell_type": "code",
   "execution_count": 10,
   "metadata": {},
   "outputs": [],
   "source": [
    "import numpy as np\n",
    "import pandas as pd\n",
    "import importlib\n",
    "import tqdm\n",
    "import sys"
   ]
  },
  {
   "cell_type": "code",
   "execution_count": 14,
   "metadata": {},
   "outputs": [],
   "source": [
    "from src.utils import format_data"
   ]
  },
  {
   "cell_type": "code",
   "execution_count": 11,
   "metadata": {},
   "outputs": [],
   "source": [
    "sys.path.append('./configs')"
   ]
  },
  {
   "cell_type": "code",
   "execution_count": 29,
   "metadata": {},
   "outputs": [],
   "source": [
    "configs=importlib.import_module('experiment_14')"
   ]
  },
  {
   "cell_type": "code",
   "execution_count": 25,
   "metadata": {},
   "outputs": [],
   "source": [
    "from src.utils import make_partitions"
   ]
  },
  {
   "cell_type": "code",
   "execution_count": 30,
   "metadata": {},
   "outputs": [],
   "source": [
    "def train_model(df_train,feature_tags,label_tags,seed,rf_n_jobs=None):  \n",
    "    \n",
    "    X_train,Y_train=split_X_Y(df_train,feature_tags,label_tags)\n",
    "    \n",
    "    RF_reg=RandomForestRegressor(random_state=seed,n_jobs=rf_n_jobs) \n",
    "    \n",
    "    RF_reg.fit(X_train.values,Y_train.values)\n",
    " \n",
    "    return RF_reg\n",
    "\n",
    "def split_X_Y(df,feature_tags,label_tags):\n",
    "    \n",
    "    df_X=df[feature_tags]\n",
    "    df_Y=df[label_tags]\n",
    "\n",
    "    return df_X, df_Y\n",
    "  \n",
    "def predict(RF_reg, val,feature_tags,label_tags):\n",
    "    \n",
    "    X_val, Y_val= split_X_Y(val,feature_tags,label_tags)\n",
    "\n",
    "    predictions=RF_reg.predict(X_val.values)\n",
    "\n",
    "    r2=r2_score(Y_val, predictions)    \n",
    "\n",
    "    MAE=mean_absolute_error(Y_val, predictions)\n",
    "    MSE=mean_squared_error(Y_val, predictions)\n",
    "    RMSE=np.sqrt(mean_squared_error(Y_val, predictions))\n",
    "\n",
    "    return r2,MAE,MSE,RMSE,Y_val,predictions"
   ]
  },
  {
   "cell_type": "code",
   "execution_count": 39,
   "metadata": {},
   "outputs": [],
   "source": [
    "def cross_val(df,feature_tags=configs.feature_tags,label_tags=configs.label_tags,seed=configs.seed,rf_n_jobs=configs.rf_n_jobs,n_jobs=configs.n_jobs): \n",
    "    def func(i):\n",
    "        partition=make_partitions(5)\n",
    "\n",
    "        feature_importance=[]\n",
    "        metrics_list=[]\n",
    "        predictions_all=np.array([], dtype=np.int64).reshape(0,5)\n",
    "        y_val_all=pd.DataFrame()\n",
    "        \n",
    "        # Partitioning options\n",
    "        \n",
    "        stratify=True\n",
    "\n",
    "        if stratify: \n",
    "            df_final=partition.make_strat_folds(df) #se puede agregar random_seed\n",
    "        else:\n",
    "            df_final=partition.make_folds_by_id(df)\n",
    "\n",
    "        # Run cross Val\n",
    "\n",
    "        for fold in range(5):\n",
    "            df_val=df_final[df_final['fold']==float(fold)]\n",
    "            df_train=df_final[~df_final['basename'].isin(df_val.basename)]\n",
    "            RF_reg= train_model (df_train,feature_tags,label_tags,seed,rf_n_jobs=rf_n_jobs)\n",
    "                    \n",
    "            r2_all,MAE_all,MSE_all,RMSE_all,y_val,predictions= predict(RF_reg,df_val,feature_tags,label_tags)\n",
    "            metrics=[r2_all,np.sqrt(r2_all),MAE_all,MSE_all,RMSE_all,fold]\n",
    "            metrics_list.append(metrics)\n",
    "            \n",
    "            predictions_all=np.concatenate((predictions_all,predictions),axis=0)\n",
    "            y_val_all=pd.concat([y_val_all,y_val])\n",
    "\n",
    "            #feature_importance.append(RF_reg.feature_importances_)\n",
    "\n",
    "        r2_fold=r2_score(y_val_all, predictions_all)\n",
    "        metrics_list=np.transpose(metrics_list)\n",
    "        df_fold=pd.DataFrame({'r2':metrics_list[0],'r':metrics_list[1],'MAE':metrics_list[2],'MSE':metrics_list[3],'RMSE':metrics_list[4],'fold':metrics_list[5],'r2_fold':r2_fold,'seed':i})\n",
    "        \n",
    "        return df_fold,y_val_all\n",
    "\n",
    "    return df_,y_val_all_"
   ]
  },
  {
   "cell_type": "code",
   "execution_count": 67,
   "metadata": {},
   "outputs": [],
   "source": [
    "feat_df=pd.read_csv('data/features/new_partitions-egemaps_all_audio.csv')\n",
    "labels_df=pd.read_csv('data/labels/stratified_df.csv')\n",
    "filter='data/lists/all_audio_complete_set.txt'"
   ]
  },
  {
   "cell_type": "code",
   "execution_count": 68,
   "metadata": {},
   "outputs": [],
   "source": [
    "df=format_data(feat_df,labels_df,filter)"
   ]
  },
  {
   "cell_type": "code",
   "execution_count": 41,
   "metadata": {},
   "outputs": [],
   "source": [
    "df_train=df.sample(n=8000,replace=True,random_state=42)\n",
    "df_val=df[~df['basename'].isin(df_train['basename'])]\n",
    "feature_tags=configs.feature_tags\n",
    "label_tags=configs.label_tags\n",
    "seed=configs.seed\n",
    "RF_reg= train_model (df_train,feature_tags,label_tags,seed)"
   ]
  },
  {
   "cell_type": "code",
   "execution_count": 69,
   "metadata": {},
   "outputs": [],
   "source": [
    "r2_all,MAE_all,MSE_all,RMSE_all,y_val,predictions= predict(RF_reg,df_val,feature_tags,label_tags)"
   ]
  },
  {
   "cell_type": "code",
   "execution_count": 70,
   "metadata": {},
   "outputs": [],
   "source": [
    "preds_flat=pd.DataFrame(predictions).values.flatten()\n",
    "y_val_flat=y_val.values.flatten()"
   ]
  },
  {
   "cell_type": "code",
   "execution_count": 72,
   "metadata": {},
   "outputs": [
    {
     "data": {
      "text/plain": [
       "0.23902438252371694"
      ]
     },
     "execution_count": 72,
     "metadata": {},
     "output_type": "execute_result"
    }
   ],
   "source": [
    "r2_score(y_val_flat,preds_flat)"
   ]
  },
  {
   "cell_type": "code",
   "execution_count": 2,
   "metadata": {},
   "outputs": [
    {
     "name": "stdout",
     "output_type": "stream",
     "text": [
      "None\n"
     ]
    }
   ],
   "source": [
    "def demo(n_samples=1):\n",
    "    return print(n_samples)\n",
    "\n",
    "demo(n_samples=None)\n"
   ]
  },
  {
   "cell_type": "code",
   "execution_count": null,
   "metadata": {},
   "outputs": [],
   "source": []
  }
 ],
 "metadata": {
  "interpreter": {
   "hash": "8fd582cc0c9c172ef607adea6ca659695142511772b7fc1eb52d452e28110f7c"
  },
  "kernelspec": {
   "display_name": "ocean-trust",
   "language": "python",
   "name": "python3"
  },
  "language_info": {
   "codemirror_mode": {
    "name": "ipython",
    "version": 3
   },
   "file_extension": ".py",
   "mimetype": "text/x-python",
   "name": "python",
   "nbconvert_exporter": "python",
   "pygments_lexer": "ipython3",
   "version": "3.9.12"
  },
  "orig_nbformat": 4
 },
 "nbformat": 4,
 "nbformat_minor": 2
}
