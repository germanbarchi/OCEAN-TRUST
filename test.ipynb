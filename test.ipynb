{
 "cells": [
  {
   "cell_type": "code",
   "execution_count": 1,
   "metadata": {},
   "outputs": [],
   "source": [
    "from sklearn.ensemble import RandomForestRegressor\n",
    "from sklearn.utils import resample\n",
    "from sklearn.metrics import r2_score\n",
    "from sklearn.metrics import mean_squared_error\n",
    "from sklearn.metrics import mean_absolute_error\n",
    "from sklearn.utils import resample\n",
    "\n",
    "from joblib import Parallel, delayed\n",
    "from IPython import embed\n",
    "\n",
    "from src.utils import make_partitions"
   ]
  },
  {
   "cell_type": "code",
   "execution_count": 2,
   "metadata": {},
   "outputs": [],
   "source": [
    "import numpy as np\n",
    "import pandas as pd\n",
    "import importlib\n",
    "import tqdm\n",
    "import sys"
   ]
  },
  {
   "cell_type": "code",
   "execution_count": 3,
   "metadata": {},
   "outputs": [],
   "source": [
    "from src.utils import format_data\n",
    "import src.modeling as tools\n",
    "sys.path.append('./configs')"
   ]
  },
  {
   "cell_type": "code",
   "execution_count": 28,
   "metadata": {},
   "outputs": [
    {
     "data": {
      "text/plain": [
       "<module 'src.modeling' from '/home/gbarchi/Documentos/Trust/OCEAN-TRUST/src/modeling.py'>"
      ]
     },
     "execution_count": 28,
     "metadata": {},
     "output_type": "execute_result"
    }
   ],
   "source": [
    "importlib.reload(tools)"
   ]
  },
  {
   "cell_type": "code",
   "execution_count": 5,
   "metadata": {},
   "outputs": [],
   "source": [
    "configs=importlib.import_module('experiment_14')"
   ]
  },
  {
   "cell_type": "code",
   "execution_count": 6,
   "metadata": {},
   "outputs": [],
   "source": [
    "feat_df=pd.read_csv('data/features/new_partitions-egemaps_all_audio.csv')\n",
    "labels_df=pd.read_csv('data/labels/stratified_df.csv')\n",
    "filter='data/lists/all_audio_complete_set.txt'"
   ]
  },
  {
   "cell_type": "code",
   "execution_count": 7,
   "metadata": {},
   "outputs": [],
   "source": [
    "df=format_data(feat_df,labels_df,filter)"
   ]
  },
  {
   "cell_type": "code",
   "execution_count": 8,
   "metadata": {},
   "outputs": [],
   "source": [
    "df_train=df.sample(n=8000,replace=True,random_state=42)\n",
    "df_val=df[~df['basename'].isin(df_train['basename'])]\n",
    "feature_tags=configs.feature_tags\n",
    "label_tags=configs.label_tags\n",
    "seed=configs.seed\n",
    "RF_reg= tools.train_model (df_train,feature_tags,label_tags,seed)"
   ]
  },
  {
   "cell_type": "code",
   "execution_count": 15,
   "metadata": {},
   "outputs": [],
   "source": [
    "r2_all,MAE_all,MSE_all,RMSE_all,y_val,predictions= tools.predict(RF_reg,df_val,feature_tags,label_tags)"
   ]
  },
  {
   "cell_type": "code",
   "execution_count": 30,
   "metadata": {},
   "outputs": [],
   "source": [
    "df_importance=tools.top_feature_importance(RF_reg.feature_importances_,configs.feature_tags,10)"
   ]
  },
  {
   "cell_type": "code",
   "execution_count": 45,
   "metadata": {},
   "outputs": [],
   "source": [
    "a=pd.read_csv('/home/gbarchi/Documentos/Trust/OCEAN-TRUST/results/importance_1/results_importance.csv',index_col=0)"
   ]
  },
  {
   "cell_type": "code",
   "execution_count": 72,
   "metadata": {},
   "outputs": [
    {
     "data": {
      "text/html": [
       "<div>\n",
       "<style scoped>\n",
       "    .dataframe tbody tr th:only-of-type {\n",
       "        vertical-align: middle;\n",
       "    }\n",
       "\n",
       "    .dataframe tbody tr th {\n",
       "        vertical-align: top;\n",
       "    }\n",
       "\n",
       "    .dataframe thead th {\n",
       "        text-align: right;\n",
       "    }\n",
       "</style>\n",
       "<table border=\"1\" class=\"dataframe\">\n",
       "  <thead>\n",
       "    <tr style=\"text-align: right;\">\n",
       "      <th></th>\n",
       "      <th>importance</th>\n",
       "      <th>feature_tag</th>\n",
       "      <th>fold</th>\n",
       "      <th>seed</th>\n",
       "      <th>filter</th>\n",
       "      <th>feature</th>\n",
       "    </tr>\n",
       "  </thead>\n",
       "  <tbody>\n",
       "    <tr>\n",
       "      <th>0</th>\n",
       "      <td>0.107674</td>\n",
       "      <td>speech_ratio</td>\n",
       "      <td>0</td>\n",
       "      <td>0</td>\n",
       "      <td>no_music_list_manual_annot</td>\n",
       "      <td>new_partitions-egemaps_silero_speech</td>\n",
       "    </tr>\n",
       "    <tr>\n",
       "      <th>1</th>\n",
       "      <td>0.055706</td>\n",
       "      <td>F0semitoneFrom27.5Hz_sma3nz_amean</td>\n",
       "      <td>0</td>\n",
       "      <td>0</td>\n",
       "      <td>no_music_list_manual_annot</td>\n",
       "      <td>new_partitions-egemaps_silero_speech</td>\n",
       "    </tr>\n",
       "    <tr>\n",
       "      <th>2</th>\n",
       "      <td>0.024361</td>\n",
       "      <td>F0semitoneFrom27.5Hz_sma3nz_percentile20.0</td>\n",
       "      <td>0</td>\n",
       "      <td>0</td>\n",
       "      <td>no_music_list_manual_annot</td>\n",
       "      <td>new_partitions-egemaps_silero_speech</td>\n",
       "    </tr>\n",
       "    <tr>\n",
       "      <th>3</th>\n",
       "      <td>0.021341</td>\n",
       "      <td>mfcc2V_sma3nz_amean</td>\n",
       "      <td>0</td>\n",
       "      <td>0</td>\n",
       "      <td>no_music_list_manual_annot</td>\n",
       "      <td>new_partitions-egemaps_silero_speech</td>\n",
       "    </tr>\n",
       "    <tr>\n",
       "      <th>4</th>\n",
       "      <td>0.019703</td>\n",
       "      <td>F2frequency_sma3nz_stddevNorm</td>\n",
       "      <td>0</td>\n",
       "      <td>0</td>\n",
       "      <td>no_music_list_manual_annot</td>\n",
       "      <td>new_partitions-egemaps_silero_speech</td>\n",
       "    </tr>\n",
       "    <tr>\n",
       "      <th>...</th>\n",
       "      <td>...</td>\n",
       "      <td>...</td>\n",
       "      <td>...</td>\n",
       "      <td>...</td>\n",
       "      <td>...</td>\n",
       "      <td>...</td>\n",
       "    </tr>\n",
       "    <tr>\n",
       "      <th>5</th>\n",
       "      <td>0.024196</td>\n",
       "      <td>mfcc2V_sma3nz_amean</td>\n",
       "      <td>4</td>\n",
       "      <td>9</td>\n",
       "      <td>no_music_list_manual_annot</td>\n",
       "      <td>new_partitions-egemaps_silero_speech</td>\n",
       "    </tr>\n",
       "    <tr>\n",
       "      <th>6</th>\n",
       "      <td>0.023500</td>\n",
       "      <td>loudness_sma3_stddevRisingSlope</td>\n",
       "      <td>4</td>\n",
       "      <td>9</td>\n",
       "      <td>no_music_list_manual_annot</td>\n",
       "      <td>new_partitions-egemaps_silero_speech</td>\n",
       "    </tr>\n",
       "    <tr>\n",
       "      <th>7</th>\n",
       "      <td>0.015243</td>\n",
       "      <td>F2frequency_sma3nz_stddevNorm</td>\n",
       "      <td>4</td>\n",
       "      <td>9</td>\n",
       "      <td>no_music_list_manual_annot</td>\n",
       "      <td>new_partitions-egemaps_silero_speech</td>\n",
       "    </tr>\n",
       "    <tr>\n",
       "      <th>8</th>\n",
       "      <td>0.014565</td>\n",
       "      <td>mfcc2_sma3_amean</td>\n",
       "      <td>4</td>\n",
       "      <td>9</td>\n",
       "      <td>no_music_list_manual_annot</td>\n",
       "      <td>new_partitions-egemaps_silero_speech</td>\n",
       "    </tr>\n",
       "    <tr>\n",
       "      <th>9</th>\n",
       "      <td>0.014059</td>\n",
       "      <td>slopeUV500-1500_sma3nz_amean</td>\n",
       "      <td>4</td>\n",
       "      <td>9</td>\n",
       "      <td>no_music_list_manual_annot</td>\n",
       "      <td>new_partitions-egemaps_silero_speech</td>\n",
       "    </tr>\n",
       "  </tbody>\n",
       "</table>\n",
       "<p>500 rows × 6 columns</p>\n",
       "</div>"
      ],
      "text/plain": [
       "    importance                                 feature_tag  fold  seed  \\\n",
       "0     0.107674                                speech_ratio     0     0   \n",
       "1     0.055706           F0semitoneFrom27.5Hz_sma3nz_amean     0     0   \n",
       "2     0.024361  F0semitoneFrom27.5Hz_sma3nz_percentile20.0     0     0   \n",
       "3     0.021341                         mfcc2V_sma3nz_amean     0     0   \n",
       "4     0.019703               F2frequency_sma3nz_stddevNorm     0     0   \n",
       "..         ...                                         ...   ...   ...   \n",
       "5     0.024196                         mfcc2V_sma3nz_amean     4     9   \n",
       "6     0.023500             loudness_sma3_stddevRisingSlope     4     9   \n",
       "7     0.015243               F2frequency_sma3nz_stddevNorm     4     9   \n",
       "8     0.014565                            mfcc2_sma3_amean     4     9   \n",
       "9     0.014059                slopeUV500-1500_sma3nz_amean     4     9   \n",
       "\n",
       "                        filter                               feature  \n",
       "0   no_music_list_manual_annot  new_partitions-egemaps_silero_speech  \n",
       "1   no_music_list_manual_annot  new_partitions-egemaps_silero_speech  \n",
       "2   no_music_list_manual_annot  new_partitions-egemaps_silero_speech  \n",
       "3   no_music_list_manual_annot  new_partitions-egemaps_silero_speech  \n",
       "4   no_music_list_manual_annot  new_partitions-egemaps_silero_speech  \n",
       "..                         ...                                   ...  \n",
       "5   no_music_list_manual_annot  new_partitions-egemaps_silero_speech  \n",
       "6   no_music_list_manual_annot  new_partitions-egemaps_silero_speech  \n",
       "7   no_music_list_manual_annot  new_partitions-egemaps_silero_speech  \n",
       "8   no_music_list_manual_annot  new_partitions-egemaps_silero_speech  \n",
       "9   no_music_list_manual_annot  new_partitions-egemaps_silero_speech  \n",
       "\n",
       "[500 rows x 6 columns]"
      ]
     },
     "execution_count": 72,
     "metadata": {},
     "output_type": "execute_result"
    }
   ],
   "source": [
    "a"
   ]
  },
  {
   "cell_type": "code",
   "execution_count": 74,
   "metadata": {},
   "outputs": [
    {
     "data": {
      "text/html": [
       "<div>\n",
       "<style scoped>\n",
       "    .dataframe tbody tr th:only-of-type {\n",
       "        vertical-align: middle;\n",
       "    }\n",
       "\n",
       "    .dataframe tbody tr th {\n",
       "        vertical-align: top;\n",
       "    }\n",
       "\n",
       "    .dataframe thead th {\n",
       "        text-align: right;\n",
       "    }\n",
       "</style>\n",
       "<table border=\"1\" class=\"dataframe\">\n",
       "  <thead>\n",
       "    <tr style=\"text-align: right;\">\n",
       "      <th></th>\n",
       "      <th>importance</th>\n",
       "    </tr>\n",
       "    <tr>\n",
       "      <th>feature_tag</th>\n",
       "      <th></th>\n",
       "    </tr>\n",
       "  </thead>\n",
       "  <tbody>\n",
       "    <tr>\n",
       "      <th>speech_ratio</th>\n",
       "      <td>0.107392</td>\n",
       "    </tr>\n",
       "    <tr>\n",
       "      <th>F0semitoneFrom27.5Hz_sma3nz_amean</th>\n",
       "      <td>0.038186</td>\n",
       "    </tr>\n",
       "    <tr>\n",
       "      <th>F0semitoneFrom27.5Hz_sma3nz_percentile80.0</th>\n",
       "      <td>0.026062</td>\n",
       "    </tr>\n",
       "    <tr>\n",
       "      <th>F0semitoneFrom27.5Hz_sma3nz_percentile20.0</th>\n",
       "      <td>0.025033</td>\n",
       "    </tr>\n",
       "    <tr>\n",
       "      <th>mfcc2V_sma3nz_amean</th>\n",
       "      <td>0.023989</td>\n",
       "    </tr>\n",
       "  </tbody>\n",
       "</table>\n",
       "</div>"
      ],
      "text/plain": [
       "                                            importance\n",
       "feature_tag                                           \n",
       "speech_ratio                                  0.107392\n",
       "F0semitoneFrom27.5Hz_sma3nz_amean             0.038186\n",
       "F0semitoneFrom27.5Hz_sma3nz_percentile80.0    0.026062\n",
       "F0semitoneFrom27.5Hz_sma3nz_percentile20.0    0.025033\n",
       "mfcc2V_sma3nz_amean                           0.023989"
      ]
     },
     "execution_count": 74,
     "metadata": {},
     "output_type": "execute_result"
    }
   ],
   "source": [
    "pd.DataFrame(a.groupby('feature_tag')['importance'].mean()).sort_values('importance',ascending=False).head(5)"
   ]
  },
  {
   "cell_type": "code",
   "execution_count": null,
   "metadata": {},
   "outputs": [],
   "source": []
  }
 ],
 "metadata": {
  "interpreter": {
   "hash": "8fd582cc0c9c172ef607adea6ca659695142511772b7fc1eb52d452e28110f7c"
  },
  "kernelspec": {
   "display_name": "ocean-trust",
   "language": "python",
   "name": "ocean_trust"
  },
  "language_info": {
   "codemirror_mode": {
    "name": "ipython",
    "version": 3
   },
   "file_extension": ".py",
   "mimetype": "text/x-python",
   "name": "python",
   "nbconvert_exporter": "python",
   "pygments_lexer": "ipython3",
   "version": "3.9.12"
  },
  "orig_nbformat": 4
 },
 "nbformat": 4,
 "nbformat_minor": 2
}
