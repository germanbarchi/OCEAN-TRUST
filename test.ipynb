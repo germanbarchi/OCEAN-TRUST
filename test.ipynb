{
 "cells": [
  {
   "cell_type": "code",
   "execution_count": 1,
   "metadata": {},
   "outputs": [],
   "source": [
    "from sklearn.ensemble import RandomForestRegressor\n",
    "from sklearn.utils import resample\n",
    "from sklearn.metrics import r2_score\n",
    "from sklearn.metrics import mean_squared_error\n",
    "from sklearn.metrics import mean_absolute_error\n",
    "from sklearn.utils import resample\n",
    "\n",
    "from joblib import Parallel, delayed\n",
    "from IPython import embed\n",
    "\n",
    "from src.utils import make_partitions"
   ]
  },
  {
   "cell_type": "code",
   "execution_count": 2,
   "metadata": {},
   "outputs": [],
   "source": [
    "import numpy as np\n",
    "import pandas as pd\n",
    "import importlib\n",
    "import tqdm\n",
    "import sys"
   ]
  },
  {
   "cell_type": "code",
   "execution_count": 35,
   "metadata": {},
   "outputs": [],
   "source": [
    "from src.utils import format_data\n",
    "import src.modeling as tools\n",
    "sys.path.append('./configs')"
   ]
  },
  {
   "cell_type": "code",
   "execution_count": 47,
   "metadata": {},
   "outputs": [
    {
     "data": {
      "text/plain": [
       "<module 'src.modeling' from '/home/gbarchi/Documentos/Trust/OCEAN-TRUST/src/modeling.py'>"
      ]
     },
     "execution_count": 47,
     "metadata": {},
     "output_type": "execute_result"
    }
   ],
   "source": [
    "importlib.reload(tools)"
   ]
  },
  {
   "cell_type": "code",
   "execution_count": 13,
   "metadata": {},
   "outputs": [],
   "source": [
    "configs=importlib.import_module('experiment_14')"
   ]
  },
  {
   "cell_type": "code",
   "execution_count": 5,
   "metadata": {},
   "outputs": [],
   "source": [
    "feat_df=pd.read_csv('data/features/new_partitions-egemaps_all_audio.csv')\n",
    "labels_df=pd.read_csv('data/labels/stratified_df.csv')\n",
    "filter='data/lists/all_audio_complete_set.txt'"
   ]
  },
  {
   "cell_type": "code",
   "execution_count": 8,
   "metadata": {},
   "outputs": [],
   "source": [
    "df=format_data(feat_df,labels_df,filter)"
   ]
  },
  {
   "cell_type": "code",
   "execution_count": 14,
   "metadata": {},
   "outputs": [],
   "source": [
    "df_train=df.sample(n=8000,replace=True,random_state=42)\n",
    "df_val=df[~df['basename'].isin(df_train['basename'])]\n",
    "feature_tags=configs.feature_tags\n",
    "label_tags=configs.label_tags\n",
    "seed=configs.seed\n",
    "RF_reg= tools.train_model (df_train,feature_tags,label_tags,seed)"
   ]
  },
  {
   "cell_type": "code",
   "execution_count": 16,
   "metadata": {},
   "outputs": [],
   "source": [
    "r2_all,MAE_all,MSE_all,RMSE_all,y_val,predictions= tools.predict(RF_reg,df_val,feature_tags,label_tags)"
   ]
  },
  {
   "cell_type": "code",
   "execution_count": 48,
   "metadata": {},
   "outputs": [],
   "source": [
    "df_importance=tools.create_importance_top_five(RF_reg.feature_importances_,configs.feature_tags)"
   ]
  },
  {
   "cell_type": "code",
   "execution_count": 68,
   "metadata": {},
   "outputs": [],
   "source": [
    "a=[]\n",
    "importance=RF_reg.feature_importances_\n",
    "features=configs.feature_tags\n",
    "for i in range(len(importance)):\n",
    "    a.append((importance[i],features[i]))\n",
    "a.sort(key=lambda x: x[0],reverse=True)\n",
    "df=a[:5]"
   ]
  },
  {
   "cell_type": "code",
   "execution_count": 75,
   "metadata": {},
   "outputs": [
    {
     "data": {
      "text/plain": [
       "0.0646773843620216"
      ]
     },
     "execution_count": 75,
     "metadata": {},
     "output_type": "execute_result"
    }
   ],
   "source": [
    "a[1][0]"
   ]
  },
  {
   "cell_type": "code",
   "execution_count": 80,
   "metadata": {},
   "outputs": [
    {
     "data": {
      "text/plain": [
       "0.06999588447283955"
      ]
     },
     "execution_count": 80,
     "metadata": {},
     "output_type": "execute_result"
    }
   ],
   "source": [
    "a[0][0]"
   ]
  },
  {
   "cell_type": "code",
   "execution_count": 77,
   "metadata": {},
   "outputs": [
    {
     "ename": "TypeError",
     "evalue": "list indices must be integers or slices, not tuple",
     "output_type": "error",
     "traceback": [
      "\u001b[0;31m---------------------------------------------------------------------------\u001b[0m",
      "\u001b[0;31mTypeError\u001b[0m                                 Traceback (most recent call last)",
      "\u001b[1;32m/home/gbarchi/Documentos/Trust/OCEAN-TRUST/test.ipynb Celda 13\u001b[0m in \u001b[0;36m<cell line: 1>\u001b[0;34m()\u001b[0m\n\u001b[1;32m      <a href='vscode-notebook-cell:/home/gbarchi/Documentos/Trust/OCEAN-TRUST/test.ipynb#X45sZmlsZQ%3D%3D?line=0'>1</a>\u001b[0m \u001b[39mfor\u001b[39;00m i \u001b[39min\u001b[39;00m a:\n\u001b[0;32m----> <a href='vscode-notebook-cell:/home/gbarchi/Documentos/Trust/OCEAN-TRUST/test.ipynb#X45sZmlsZQ%3D%3D?line=1'>2</a>\u001b[0m     df\u001b[39m=\u001b[39mpd\u001b[39m.\u001b[39mDataFrame\u001b[39m.\u001b[39mfrom_dict({\u001b[39m'\u001b[39m\u001b[39mimportance\u001b[39m\u001b[39m'\u001b[39m:a[i][\u001b[39m0\u001b[39m],\u001b[39m'\u001b[39m\u001b[39mfeature\u001b[39m\u001b[39m'\u001b[39m:a[i][\u001b[39m1\u001b[39m]})\n\u001b[1;32m      <a href='vscode-notebook-cell:/home/gbarchi/Documentos/Trust/OCEAN-TRUST/test.ipynb#X45sZmlsZQ%3D%3D?line=2'>3</a>\u001b[0m     df_\u001b[39m=\u001b[39mpd\u001b[39m.\u001b[39mconcat([df_,df])\n",
      "\u001b[0;31mTypeError\u001b[0m: list indices must be integers or slices, not tuple"
     ]
    }
   ],
   "source": [
    "for i in a:\n",
    "    df=pd.DataFrame.from_dict({'importance':a[i][0],'feature':a[i][1]})\n",
    "    df_=pd.concat([df_,df])"
   ]
  },
  {
   "cell_type": "code",
   "execution_count": 50,
   "metadata": {},
   "outputs": [
    {
     "data": {
      "text/plain": [
       "array([0.00965314, 0.01035085, 0.02202593, 0.01312022, 0.01159656,\n",
       "       0.01258869, 0.00859686, 0.00883113, 0.00806156, 0.0088551 ,\n",
       "       0.00600264, 0.01029552, 0.06999588, 0.00988343, 0.005751  ,\n",
       "       0.00720834, 0.0108838 , 0.01079781, 0.00733874, 0.00782049,\n",
       "       0.00532415, 0.00943672, 0.00822418, 0.01115958, 0.00989514,\n",
       "       0.01193335, 0.00850809, 0.00967245, 0.00965494, 0.0090967 ,\n",
       "       0.01192679, 0.00989804, 0.01221469, 0.01350914, 0.01014041,\n",
       "       0.01240186, 0.01249865, 0.01071263, 0.00901558, 0.00900495,\n",
       "       0.00974166, 0.01048217, 0.00982856, 0.01117568, 0.00489782,\n",
       "       0.00578812, 0.00941016, 0.01559466, 0.01044191, 0.01121193,\n",
       "       0.00438982, 0.00560514, 0.01034538, 0.01001312, 0.01141757,\n",
       "       0.01145236, 0.0044646 , 0.00503644, 0.0090719 , 0.00838663,\n",
       "       0.00814888, 0.00870815, 0.00786663, 0.0096775 , 0.01230176,\n",
       "       0.010659  , 0.00554606, 0.01136554, 0.00917911, 0.01052181,\n",
       "       0.01290936, 0.00969206, 0.00918331, 0.00937587, 0.01298777,\n",
       "       0.01108036, 0.00834956, 0.00785219, 0.0095192 , 0.01531449,\n",
       "       0.01063103, 0.02480676, 0.00842977, 0.00679998, 0.00820226,\n",
       "       0.06467738, 0.02726573, 0.00630712])"
      ]
     },
     "execution_count": 50,
     "metadata": {},
     "output_type": "execute_result"
    }
   ],
   "source": [
    "RF_reg.feature_importances_"
   ]
  },
  {
   "cell_type": "code",
   "execution_count": 49,
   "metadata": {},
   "outputs": [
    {
     "data": {
      "text/html": [
       "<div>\n",
       "<style scoped>\n",
       "    .dataframe tbody tr th:only-of-type {\n",
       "        vertical-align: middle;\n",
       "    }\n",
       "\n",
       "    .dataframe tbody tr th {\n",
       "        vertical-align: top;\n",
       "    }\n",
       "\n",
       "    .dataframe thead th {\n",
       "        text-align: right;\n",
       "    }\n",
       "</style>\n",
       "<table border=\"1\" class=\"dataframe\">\n",
       "  <thead>\n",
       "    <tr style=\"text-align: right;\">\n",
       "      <th></th>\n",
       "      <th>importance</th>\n",
       "      <th>feature_tags</th>\n",
       "    </tr>\n",
       "  </thead>\n",
       "  <tbody>\n",
       "    <tr>\n",
       "      <th>0</th>\n",
       "      <td>0.009653</td>\n",
       "      <td>F0semitoneFrom27.5Hz_sma3nz_amean</td>\n",
       "    </tr>\n",
       "    <tr>\n",
       "      <th>1</th>\n",
       "      <td>0.010351</td>\n",
       "      <td>F0semitoneFrom27.5Hz_sma3nz_stddevNorm</td>\n",
       "    </tr>\n",
       "    <tr>\n",
       "      <th>2</th>\n",
       "      <td>0.022026</td>\n",
       "      <td>F0semitoneFrom27.5Hz_sma3nz_percentile20.0</td>\n",
       "    </tr>\n",
       "    <tr>\n",
       "      <th>3</th>\n",
       "      <td>0.013120</td>\n",
       "      <td>F0semitoneFrom27.5Hz_sma3nz_percentile50.0</td>\n",
       "    </tr>\n",
       "    <tr>\n",
       "      <th>4</th>\n",
       "      <td>0.011597</td>\n",
       "      <td>F0semitoneFrom27.5Hz_sma3nz_percentile80.0</td>\n",
       "    </tr>\n",
       "  </tbody>\n",
       "</table>\n",
       "</div>"
      ],
      "text/plain": [
       "   importance                                feature_tags\n",
       "0    0.009653           F0semitoneFrom27.5Hz_sma3nz_amean\n",
       "1    0.010351      F0semitoneFrom27.5Hz_sma3nz_stddevNorm\n",
       "2    0.022026  F0semitoneFrom27.5Hz_sma3nz_percentile20.0\n",
       "3    0.013120  F0semitoneFrom27.5Hz_sma3nz_percentile50.0\n",
       "4    0.011597  F0semitoneFrom27.5Hz_sma3nz_percentile80.0"
      ]
     },
     "execution_count": 49,
     "metadata": {},
     "output_type": "execute_result"
    }
   ],
   "source": [
    "df_importance"
   ]
  },
  {
   "cell_type": "code",
   "execution_count": 24,
   "metadata": {},
   "outputs": [
    {
     "data": {
      "text/plain": [
       "Index(['F0semitoneFrom27.5Hz_sma3nz_amean',\n",
       "       'F0semitoneFrom27.5Hz_sma3nz_stddevNorm',\n",
       "       'F0semitoneFrom27.5Hz_sma3nz_percentile20.0',\n",
       "       'F0semitoneFrom27.5Hz_sma3nz_percentile50.0',\n",
       "       'F0semitoneFrom27.5Hz_sma3nz_percentile80.0',\n",
       "       'F0semitoneFrom27.5Hz_sma3nz_pctlrange0-2',\n",
       "       'F0semitoneFrom27.5Hz_sma3nz_meanRisingSlope',\n",
       "       'F0semitoneFrom27.5Hz_sma3nz_stddevRisingSlope',\n",
       "       'F0semitoneFrom27.5Hz_sma3nz_meanFallingSlope',\n",
       "       'F0semitoneFrom27.5Hz_sma3nz_stddevFallingSlope', 'loudness_sma3_amean',\n",
       "       'loudness_sma3_stddevNorm', 'loudness_sma3_percentile20.0',\n",
       "       'loudness_sma3_percentile50.0', 'loudness_sma3_percentile80.0',\n",
       "       'loudness_sma3_pctlrange0-2', 'loudness_sma3_meanRisingSlope',\n",
       "       'loudness_sma3_stddevRisingSlope', 'loudness_sma3_meanFallingSlope',\n",
       "       'loudness_sma3_stddevFallingSlope', 'spectralFlux_sma3_amean',\n",
       "       'spectralFlux_sma3_stddevNorm', 'mfcc1_sma3_amean',\n",
       "       'mfcc1_sma3_stddevNorm', 'mfcc2_sma3_amean', 'mfcc2_sma3_stddevNorm',\n",
       "       'mfcc3_sma3_amean', 'mfcc3_sma3_stddevNorm', 'mfcc4_sma3_amean',\n",
       "       'mfcc4_sma3_stddevNorm', 'jitterLocal_sma3nz_amean',\n",
       "       'jitterLocal_sma3nz_stddevNorm', 'shimmerLocaldB_sma3nz_amean',\n",
       "       'shimmerLocaldB_sma3nz_stddevNorm', 'HNRdBACF_sma3nz_amean',\n",
       "       'HNRdBACF_sma3nz_stddevNorm', 'logRelF0-H1-H2_sma3nz_amean',\n",
       "       'logRelF0-H1-H2_sma3nz_stddevNorm', 'logRelF0-H1-A3_sma3nz_amean',\n",
       "       'logRelF0-H1-A3_sma3nz_stddevNorm', 'F1frequency_sma3nz_amean',\n",
       "       'F1frequency_sma3nz_stddevNorm', 'F1bandwidth_sma3nz_amean',\n",
       "       'F1bandwidth_sma3nz_stddevNorm', 'F1amplitudeLogRelF0_sma3nz_amean',\n",
       "       'F1amplitudeLogRelF0_sma3nz_stddevNorm', 'F2frequency_sma3nz_amean',\n",
       "       'F2frequency_sma3nz_stddevNorm', 'F2bandwidth_sma3nz_amean',\n",
       "       'F2bandwidth_sma3nz_stddevNorm', 'F2amplitudeLogRelF0_sma3nz_amean',\n",
       "       'F2amplitudeLogRelF0_sma3nz_stddevNorm', 'F3frequency_sma3nz_amean',\n",
       "       'F3frequency_sma3nz_stddevNorm', 'F3bandwidth_sma3nz_amean',\n",
       "       'F3bandwidth_sma3nz_stddevNorm', 'F3amplitudeLogRelF0_sma3nz_amean',\n",
       "       'F3amplitudeLogRelF0_sma3nz_stddevNorm', 'alphaRatioV_sma3nz_amean',\n",
       "       'alphaRatioV_sma3nz_stddevNorm', 'hammarbergIndexV_sma3nz_amean',\n",
       "       'hammarbergIndexV_sma3nz_stddevNorm', 'slopeV0-500_sma3nz_amean',\n",
       "       'slopeV0-500_sma3nz_stddevNorm', 'slopeV500-1500_sma3nz_amean',\n",
       "       'slopeV500-1500_sma3nz_stddevNorm', 'spectralFluxV_sma3nz_amean',\n",
       "       'spectralFluxV_sma3nz_stddevNorm', 'mfcc1V_sma3nz_amean',\n",
       "       'mfcc1V_sma3nz_stddevNorm', 'mfcc2V_sma3nz_amean',\n",
       "       'mfcc2V_sma3nz_stddevNorm', 'mfcc3V_sma3nz_amean',\n",
       "       'mfcc3V_sma3nz_stddevNorm', 'mfcc4V_sma3nz_amean',\n",
       "       'mfcc4V_sma3nz_stddevNorm', 'alphaRatioUV_sma3nz_amean',\n",
       "       'hammarbergIndexUV_sma3nz_amean', 'slopeUV0-500_sma3nz_amean',\n",
       "       'slopeUV500-1500_sma3nz_amean', 'spectralFluxUV_sma3nz_amean',\n",
       "       'loudnessPeaksPerSec', 'VoicedSegmentsPerSec',\n",
       "       'MeanVoicedSegmentLengthSec', 'StddevVoicedSegmentLengthSec',\n",
       "       'MeanUnvoicedSegmentLength', 'StddevUnvoicedSegmentLength',\n",
       "       'equivalentSoundLevel_dBp'],\n",
       "      dtype='object')"
      ]
     },
     "execution_count": 24,
     "metadata": {},
     "output_type": "execute_result"
    }
   ],
   "source": [
    "configs.feature_tags"
   ]
  },
  {
   "cell_type": "code",
   "execution_count": 23,
   "metadata": {},
   "outputs": [
    {
     "data": {
      "text/html": [
       "<div>\n",
       "<style scoped>\n",
       "    .dataframe tbody tr th:only-of-type {\n",
       "        vertical-align: middle;\n",
       "    }\n",
       "\n",
       "    .dataframe tbody tr th {\n",
       "        vertical-align: top;\n",
       "    }\n",
       "\n",
       "    .dataframe thead th {\n",
       "        text-align: right;\n",
       "    }\n",
       "</style>\n",
       "<table border=\"1\" class=\"dataframe\">\n",
       "  <thead>\n",
       "    <tr style=\"text-align: right;\">\n",
       "      <th></th>\n",
       "      <th>features</th>\n",
       "      <th>value</th>\n",
       "      <th>fold</th>\n",
       "    </tr>\n",
       "  </thead>\n",
       "  <tbody>\n",
       "  </tbody>\n",
       "</table>\n",
       "</div>"
      ],
      "text/plain": [
       "Empty DataFrame\n",
       "Columns: [features, value, fold]\n",
       "Index: []"
      ]
     },
     "execution_count": 23,
     "metadata": {},
     "output_type": "execute_result"
    }
   ],
   "source": [
    "importance_df"
   ]
  },
  {
   "cell_type": "code",
   "execution_count": null,
   "metadata": {},
   "outputs": [],
   "source": []
  }
 ],
 "metadata": {
  "interpreter": {
   "hash": "8fd582cc0c9c172ef607adea6ca659695142511772b7fc1eb52d452e28110f7c"
  },
  "kernelspec": {
   "display_name": "ocean-trust",
   "language": "python",
   "name": "python3"
  },
  "language_info": {
   "codemirror_mode": {
    "name": "ipython",
    "version": 3
   },
   "file_extension": ".py",
   "mimetype": "text/x-python",
   "name": "python",
   "nbconvert_exporter": "python",
   "pygments_lexer": "ipython3",
   "version": "3.9.12"
  },
  "orig_nbformat": 4
 },
 "nbformat": 4,
 "nbformat_minor": 2
}
