{
 "cells": [
  {
   "cell_type": "code",
   "execution_count": 16,
   "metadata": {},
   "outputs": [],
   "source": [
    "import glob\n",
    "import librosa \n",
    "import pandas as pd\n",
    "import random\n",
    "audios=glob.glob('/home/gbarchi/Documentos/Trust/Personality/OCEAN_new_structure/data/audio/*/*.wav')"
   ]
  },
  {
   "cell_type": "code",
   "execution_count": 19,
   "metadata": {},
   "outputs": [],
   "source": [
    "df=pd.DataFrame()\n",
    "df_all=pd.DataFrame()\n",
    "\n",
    "for i in audios:\n",
    "    y,fs=librosa.core.load(i,sr=16000)\n",
    "    df=pd.DataFrame({'name':[i.split('/')[-1]],'length':[len(y)]})\n",
    "    df_all=pd.concat([df_all,df])\n",
    "    df_all.to_csv('duration.csv')"
   ]
  },
  {
   "cell_type": "code",
   "execution_count": 20,
   "metadata": {},
   "outputs": [],
   "source": [
    "a=pd.read_csv('duration.csv')"
   ]
  },
  {
   "cell_type": "code",
   "execution_count": 25,
   "metadata": {},
   "outputs": [],
   "source": [
    "with open ('blacklist_short_duration.txt','w') as file:\n",
    "    for i in a.index:\n",
    "        name=a.loc[i,'name']\n",
    "        if a.loc[i,'length']<244832:\n",
    "            file.writelines(name+'\\n')"
   ]
  },
  {
   "cell_type": "code",
   "execution_count": 27,
   "metadata": {},
   "outputs": [],
   "source": [
    "with open ('data/lists/blacklist_short_duration.txt','r') as file:\n",
    "    list_short_duration=file.read().splitlines()"
   ]
  },
  {
   "cell_type": "code",
   "execution_count": 30,
   "metadata": {},
   "outputs": [],
   "source": [
    "duration=3\n",
    "n_samples=duration*16000\n",
    "df_=pd.DataFrame()\n",
    "for audio in audios:\n",
    "    name=audio.split('/')[-1]\n",
    "    if not name in list_short_duration:\n",
    "        length=a.loc[a['name']==name,'length'].values[0]\n",
    "        max_start_index=length-n_samples\n",
    "        start=random.randint(0,max_start_index)\n",
    "        end=start+n_samples\n",
    "        df_data=pd.DataFrame({'name':[name],'length':[length],'start':[start],'end':[end],'dif':[end-start]})\n",
    "        df_=pd.concat([df_,df_data])"
   ]
  },
  {
   "cell_type": "code",
   "execution_count": 31,
   "metadata": {},
   "outputs": [
    {
     "data": {
      "text/html": [
       "<div>\n",
       "<style scoped>\n",
       "    .dataframe tbody tr th:only-of-type {\n",
       "        vertical-align: middle;\n",
       "    }\n",
       "\n",
       "    .dataframe tbody tr th {\n",
       "        vertical-align: top;\n",
       "    }\n",
       "\n",
       "    .dataframe thead th {\n",
       "        text-align: right;\n",
       "    }\n",
       "</style>\n",
       "<table border=\"1\" class=\"dataframe\">\n",
       "  <thead>\n",
       "    <tr style=\"text-align: right;\">\n",
       "      <th></th>\n",
       "      <th>name</th>\n",
       "      <th>length</th>\n",
       "      <th>start</th>\n",
       "      <th>end</th>\n",
       "      <th>dif</th>\n",
       "    </tr>\n",
       "  </thead>\n",
       "  <tbody>\n",
       "    <tr>\n",
       "      <th>0</th>\n",
       "      <td>VZ6jhnbk-5g.000.wav</td>\n",
       "      <td>244832</td>\n",
       "      <td>71291</td>\n",
       "      <td>119291</td>\n",
       "      <td>48000</td>\n",
       "    </tr>\n",
       "    <tr>\n",
       "      <th>0</th>\n",
       "      <td>RtbBc9kI6tE.000.wav</td>\n",
       "      <td>244832</td>\n",
       "      <td>120031</td>\n",
       "      <td>168031</td>\n",
       "      <td>48000</td>\n",
       "    </tr>\n",
       "    <tr>\n",
       "      <th>0</th>\n",
       "      <td>6uqXoPJSoPg.001.wav</td>\n",
       "      <td>244832</td>\n",
       "      <td>14895</td>\n",
       "      <td>62895</td>\n",
       "      <td>48000</td>\n",
       "    </tr>\n",
       "    <tr>\n",
       "      <th>0</th>\n",
       "      <td>4JjpfL4y3XM.003.wav</td>\n",
       "      <td>244832</td>\n",
       "      <td>168062</td>\n",
       "      <td>216062</td>\n",
       "      <td>48000</td>\n",
       "    </tr>\n",
       "    <tr>\n",
       "      <th>0</th>\n",
       "      <td>WRz1F6DqmRQ.001.wav</td>\n",
       "      <td>244832</td>\n",
       "      <td>64217</td>\n",
       "      <td>112217</td>\n",
       "      <td>48000</td>\n",
       "    </tr>\n",
       "    <tr>\n",
       "      <th>...</th>\n",
       "      <td>...</td>\n",
       "      <td>...</td>\n",
       "      <td>...</td>\n",
       "      <td>...</td>\n",
       "      <td>...</td>\n",
       "    </tr>\n",
       "    <tr>\n",
       "      <th>0</th>\n",
       "      <td>7ZnijRlK5-E.005.wav</td>\n",
       "      <td>244832</td>\n",
       "      <td>195886</td>\n",
       "      <td>243886</td>\n",
       "      <td>48000</td>\n",
       "    </tr>\n",
       "    <tr>\n",
       "      <th>0</th>\n",
       "      <td>eZwGkhUa0TQ.002.wav</td>\n",
       "      <td>244832</td>\n",
       "      <td>164248</td>\n",
       "      <td>212248</td>\n",
       "      <td>48000</td>\n",
       "    </tr>\n",
       "    <tr>\n",
       "      <th>0</th>\n",
       "      <td>HEHMW0uiFa4.001.wav</td>\n",
       "      <td>244832</td>\n",
       "      <td>1332</td>\n",
       "      <td>49332</td>\n",
       "      <td>48000</td>\n",
       "    </tr>\n",
       "    <tr>\n",
       "      <th>0</th>\n",
       "      <td>simc6hmrUOE.001.wav</td>\n",
       "      <td>244832</td>\n",
       "      <td>54551</td>\n",
       "      <td>102551</td>\n",
       "      <td>48000</td>\n",
       "    </tr>\n",
       "    <tr>\n",
       "      <th>0</th>\n",
       "      <td>sDWJMBZ1mVA.004.wav</td>\n",
       "      <td>244832</td>\n",
       "      <td>38949</td>\n",
       "      <td>86949</td>\n",
       "      <td>48000</td>\n",
       "    </tr>\n",
       "  </tbody>\n",
       "</table>\n",
       "<p>9921 rows × 5 columns</p>\n",
       "</div>"
      ],
      "text/plain": [
       "                   name  length   start     end    dif\n",
       "0   VZ6jhnbk-5g.000.wav  244832   71291  119291  48000\n",
       "0   RtbBc9kI6tE.000.wav  244832  120031  168031  48000\n",
       "0   6uqXoPJSoPg.001.wav  244832   14895   62895  48000\n",
       "0   4JjpfL4y3XM.003.wav  244832  168062  216062  48000\n",
       "0   WRz1F6DqmRQ.001.wav  244832   64217  112217  48000\n",
       "..                  ...     ...     ...     ...    ...\n",
       "0   7ZnijRlK5-E.005.wav  244832  195886  243886  48000\n",
       "0   eZwGkhUa0TQ.002.wav  244832  164248  212248  48000\n",
       "0   HEHMW0uiFa4.001.wav  244832    1332   49332  48000\n",
       "0   simc6hmrUOE.001.wav  244832   54551  102551  48000\n",
       "0   sDWJMBZ1mVA.004.wav  244832   38949   86949  48000\n",
       "\n",
       "[9921 rows x 5 columns]"
      ]
     },
     "execution_count": 31,
     "metadata": {},
     "output_type": "execute_result"
    }
   ],
   "source": [
    "df_"
   ]
  }
 ],
 "metadata": {
  "interpreter": {
   "hash": "8fd582cc0c9c172ef607adea6ca659695142511772b7fc1eb52d452e28110f7c"
  },
  "kernelspec": {
   "display_name": "ocean-trust",
   "language": "python",
   "name": "python3"
  },
  "language_info": {
   "codemirror_mode": {
    "name": "ipython",
    "version": 3
   },
   "file_extension": ".py",
   "mimetype": "text/x-python",
   "name": "python",
   "nbconvert_exporter": "python",
   "pygments_lexer": "ipython3",
   "version": "3.9.12"
  },
  "orig_nbformat": 4
 },
 "nbformat": 4,
 "nbformat_minor": 2
}
