{
 "cells": [
  {
   "cell_type": "code",
   "execution_count": 1,
   "metadata": {},
   "outputs": [],
   "source": [
    "from sklearn.ensemble import RandomForestRegressor\n",
    "from sklearn.utils import resample\n",
    "from sklearn.metrics import r2_score\n",
    "from sklearn.metrics import mean_squared_error\n",
    "from sklearn.metrics import mean_absolute_error\n",
    "from sklearn.utils import resample\n",
    "\n",
    "from joblib import Parallel, delayed\n",
    "from IPython import embed\n",
    "\n",
    "import sys,os \n",
    "\n",
    "from src.utils import make_partitions\n",
    "from src.utils import format_data\n",
    "import src.modeling as tools\n",
    "sys.path.append('configs/paper')"
   ]
  },
  {
   "cell_type": "code",
   "execution_count": 2,
   "metadata": {},
   "outputs": [],
   "source": [
    "import numpy as np\n",
    "import pandas as pd\n",
    "import importlib\n",
    "import tqdm\n",
    "import sys"
   ]
  },
  {
   "cell_type": "code",
   "execution_count": 3,
   "metadata": {},
   "outputs": [
    {
     "data": {
      "text/plain": [
       "<module 'src.modeling' from '/home/gbarchi/Documentos/Trust/OCEAN-TRUST/src/modeling.py'>"
      ]
     },
     "execution_count": 3,
     "metadata": {},
     "output_type": "execute_result"
    }
   ],
   "source": [
    "importlib.reload(tools)"
   ]
  },
  {
   "cell_type": "code",
   "execution_count": 4,
   "metadata": {},
   "outputs": [],
   "source": [
    "configs=importlib.import_module('test')"
   ]
  },
  {
   "cell_type": "code",
   "execution_count": 5,
   "metadata": {},
   "outputs": [],
   "source": [
    "feat_df=pd.read_csv('data/features/paper/egemaps/egemaps_full_audio.csv')\n",
    "labels_df=pd.read_csv('data/labels/stratified_df.csv')\n",
    "filter='data/lists/all_audio_complete_set.txt'"
   ]
  },
  {
   "cell_type": "code",
   "execution_count": 6,
   "metadata": {},
   "outputs": [],
   "source": [
    "df=format_data(feat_df,labels_df,filter)"
   ]
  },
  {
   "cell_type": "code",
   "execution_count": 17,
   "metadata": {},
   "outputs": [],
   "source": [
    "labels=pd.read_csv('data/labels/final_labels.csv',index_col=0)"
   ]
  },
  {
   "cell_type": "code",
   "execution_count": 20,
   "metadata": {},
   "outputs": [],
   "source": [
    "labels=labels.drop(columns='speech_ratio').copy()"
   ]
  },
  {
   "cell_type": "code",
   "execution_count": null,
   "metadata": {},
   "outputs": [],
   "source": [
    "labels.to_csv('data/labels/final_labels.csv')"
   ]
  },
  {
   "cell_type": "code",
   "execution_count": 2,
   "metadata": {},
   "outputs": [],
   "source": [
    "#df_train=df.sample(n=8000,replace=True,random_state=42)\n",
    "#df_val=df[~df['basename'].isin(df_train['basename'])]\n",
    "#feature_tags=feat_df.columns[~feat_df.columns.isin(['Name','Part','start','end'])]\n",
    "#label_tags=['neuroticism']\n",
    "#seed=42\n",
    "#RF_reg= tools.train_model (df_train,feature_tags,label_tags,seed)"
   ]
  },
  {
   "cell_type": "code",
   "execution_count": null,
   "metadata": {},
   "outputs": [],
   "source": [
    "r2_all,MAE_all,MSE_all,RMSE_all,y_val,predictions= tools.predict(RF_reg,df_val,feature_tags,label_tags)"
   ]
  },
  {
   "cell_type": "code",
   "execution_count": null,
   "metadata": {},
   "outputs": [],
   "source": [
    "df_importance=tools.top_feature_importance(RF_reg.feature_importances_,configs.feature_tags,10)"
   ]
  },
  {
   "cell_type": "code",
   "execution_count": 151,
   "metadata": {},
   "outputs": [],
   "source": [
    "feature_tags = {'sr':['speech_ratio'],'frequency' : [\n",
    "            'F0semitoneFrom27.5Hz_sma3nz_amean',\n",
    "            'F0semitoneFrom27.5Hz_sma3nz_stddevNorm',\n",
    "            'F0semitoneFrom27.5Hz_sma3nz_percentile20.0',\n",
    "            'F0semitoneFrom27.5Hz_sma3nz_percentile50.0',\n",
    "            'F0semitoneFrom27.5Hz_sma3nz_percentile80.0',\n",
    "            'F0semitoneFrom27.5Hz_sma3nz_pctlrange0-2',\n",
    "            'F0semitoneFrom27.5Hz_sma3nz_meanRisingSlope',\n",
    "            'F0semitoneFrom27.5Hz_sma3nz_stddevRisingSlope',\n",
    "            'F0semitoneFrom27.5Hz_sma3nz_meanFallingSlope',\n",
    "            'F0semitoneFrom27.5Hz_sma3nz_stddevFallingSlope',\n",
    "            'jitterLocal_sma3nz_amean',\n",
    "            'jitterLocal_sma3nz_stddevNorm',\n",
    "            'F1frequency_sma3nz_amean',\n",
    "            'F1frequency_sma3nz_stddevNorm',\n",
    "            'F1bandwidth_sma3nz_amean',\n",
    "            'F1bandwidth_sma3nz_stddevNorm',\n",
    "            'F2frequency_sma3nz_amean',\n",
    "            'F2frequency_sma3nz_stddevNorm',\n",
    "            'F2bandwidth_sma3nz_amean',\n",
    "            'F2bandwidth_sma3nz_stddevNorm',\n",
    "            'F3frequency_sma3nz_amean',\n",
    "            'F3frequency_sma3nz_stddevNorm',\n",
    "            'F3bandwidth_sma3nz_amean',\n",
    "            'F3bandwidth_sma3nz_stddevNorm'\n",
    "            ],\n",
    "        \n",
    "        'energy' : [\n",
    "            'shimmerLocaldB_sma3nz_amean',\n",
    "            'shimmerLocaldB_sma3nz_stddevNorm',\n",
    "            'loudness_sma3_amean',\n",
    "            'loudness_sma3_stddevNorm',\n",
    "            'loudness_sma3_percentile20.0',\n",
    "            'loudness_sma3_percentile50.0',\n",
    "            'loudness_sma3_percentile80.0',\n",
    "            'loudness_sma3_pctlrange0-2',\n",
    "            'loudness_sma3_meanRisingSlope',\n",
    "            'loudness_sma3_stddevRisingSlope',\n",
    "            'loudness_sma3_meanFallingSlope',\n",
    "            'loudness_sma3_stddevFallingSlope',\n",
    "            'HNRdBACF_sma3nz_amean',\n",
    "            'HNRdBACF_sma3nz_stddevNorm',\n",
    "            'equivalentSoundLevel_dBp'\n",
    "            ],\n",
    "        \n",
    "        'spectral' : [\n",
    "            'F1amplitudeLogRelF0_sma3nz_amean',\n",
    "            'F1amplitudeLogRelF0_sma3nz_stddevNorm',\n",
    "            'F2amplitudeLogRelF0_sma3nz_amean',\n",
    "            'F2amplitudeLogRelF0_sma3nz_stddevNorm',\n",
    "            'F3amplitudeLogRelF0_sma3nz_amean',\n",
    "            'F3amplitudeLogRelF0_sma3nz_stddevNorm',\n",
    "            'logRelF0-H1-H2_sma3nz_amean',\n",
    "            'logRelF0-H1-H2_sma3nz_stddevNorm',\n",
    "            'logRelF0-H1-A3_sma3nz_amean',\n",
    "            'logRelF0-H1-A3_sma3nz_stddevNorm',\n",
    "            'spectralFlux_sma3_amean',\n",
    "            'spectralFlux_sma3_stddevNorm',\n",
    "            'mfcc1_sma3_amean',\n",
    "            'mfcc1_sma3_stddevNorm',\n",
    "            'mfcc2_sma3_amean',\n",
    "            'mfcc2_sma3_stddevNorm',\n",
    "            'mfcc3_sma3_amean',\n",
    "            'mfcc3_sma3_stddevNorm',\n",
    "            'mfcc4_sma3_amean',\n",
    "            'mfcc4_sma3_stddevNorm'\n",
    "            ],\n",
    "        \n",
    "        'spectral_voiced' : [\n",
    "            'alphaRatioV_sma3nz_amean',\n",
    "            'alphaRatioV_sma3nz_stddevNorm',\n",
    "            'hammarbergIndexV_sma3nz_amean',\n",
    "            'hammarbergIndexV_sma3nz_stddevNorm',\n",
    "            'slopeV0-500_sma3nz_amean',\n",
    "            'slopeV0-500_sma3nz_stddevNorm',\n",
    "            'slopeV500-1500_sma3nz_amean',\n",
    "            'slopeV500-1500_sma3nz_stddevNorm',\n",
    "            'mfcc1V_sma3nz_amean',\n",
    "            'mfcc1V_sma3nz_stddevNorm',\n",
    "            'mfcc2V_sma3nz_amean',\n",
    "            'mfcc2V_sma3nz_stddevNorm',\n",
    "            'mfcc3V_sma3nz_amean',\n",
    "            'mfcc3V_sma3nz_stddevNorm',\n",
    "            'mfcc4V_sma3nz_amean',\n",
    "            'mfcc4V_sma3nz_stddevNorm',\n",
    "            'spectralFluxV_sma3nz_amean',\n",
    "            'spectralFluxV_sma3nz_stddevNorm'\n",
    "            ],\n",
    "        \n",
    "        'unvoiced' : [\n",
    "            'alphaRatioUV_sma3nz_amean',\n",
    "            'hammarbergIndexUV_sma3nz_amean',\n",
    "            'slopeUV0-500_sma3nz_amean',\n",
    "            'slopeUV500-1500_sma3nz_amean',\n",
    "            'spectralFluxUV_sma3nz_amean'\n",
    "            ],\n",
    "        \n",
    "        'temporal' : [\n",
    "            'VoicedSegmentsPerSec',\n",
    "            'MeanUnvoicedSegmentLength',\n",
    "            'StddevUnvoicedSegmentLength',\n",
    "            'loudnessPeaksPerSec',\n",
    "            'MeanVoicedSegmentLengthSec',\n",
    "            'StddevVoicedSegmentLengthSec'\n",
    "            ]}"
   ]
  },
  {
   "cell_type": "code",
   "execution_count": 159,
   "metadata": {},
   "outputs": [],
   "source": [
    "list_final=[]\n",
    "feature_names=feature_tags.keys()\n",
    "\n",
    "for i in range(1,len(feature_names)+1):\n",
    "    c=list(combinations(feature_names,i))\n",
    "    list_final.extend(c)"
   ]
  },
  {
   "cell_type": "code",
   "execution_count": 161,
   "metadata": {},
   "outputs": [],
   "source": [
    "dict_final={}\n",
    "for combination in list_final:        \n",
    "    iteration=[]\n",
    "    label=''\n",
    "    for subgroup in combination:\n",
    "        label=label+'+'+subgroup\n",
    "        iteration.extend(feature_tags[subgroup])\n",
    "    dict_final.update({label[1:]:iteration})    "
   ]
  },
  {
   "cell_type": "code",
   "execution_count": 170,
   "metadata": {},
   "outputs": [],
   "source": [
    "data_path = 'data/features/paper/egemaps'\n",
    "labels_df=pd.read_csv('data/labels/final_labels+speech_ratio.csv')\n",
    "feature_list=['egemaps_full_audio.csv',\n",
    "        'egemaps_speech.csv']\n",
    "\n",
    "features=[os.path.join(data_path,i) for i in feature_list]\n",
    "\n",
    "\n",
    "feature_df=pd.read_csv(features[0])\n",
    "\n",
    "speech_ratio=True\n",
    "\n",
    "if speech_ratio:\n",
    "    feature_df=pd.merge(feature_df,labels_df[['filename','speech_ratio']],left_on='Name',right_on='filename').drop(columns='filename')\n",
    "\n",
    "features_=feature_df.columns[~feature_df.columns.isin(['Name','Part','start','end'])]"
   ]
  }
 ],
 "metadata": {
  "kernelspec": {
   "display_name": "ocean_trust",
   "language": "python",
   "name": "ocean_repo"
  },
  "language_info": {
   "codemirror_mode": {
    "name": "ipython",
    "version": 3
   },
   "file_extension": ".py",
   "mimetype": "text/x-python",
   "name": "python",
   "nbconvert_exporter": "python",
   "pygments_lexer": "ipython3",
   "version": "3.9.12"
  },
  "orig_nbformat": 4,
  "vscode": {
   "interpreter": {
    "hash": "8fd582cc0c9c172ef607adea6ca659695142511772b7fc1eb52d452e28110f7c"
   }
  }
 },
 "nbformat": 4,
 "nbformat_minor": 2
}
