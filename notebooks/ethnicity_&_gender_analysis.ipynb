{
 "cells": [
  {
   "cell_type": "code",
   "execution_count": 101,
   "metadata": {},
   "outputs": [],
   "source": [
    "import pandas as pd\n",
    "from functools import reduce\n",
    "import seaborn as sns\n",
    "import matplotlib.pyplot as plt"
   ]
  },
  {
   "cell_type": "code",
   "execution_count": 102,
   "metadata": {},
   "outputs": [],
   "source": [
    "meta_df=pd.read_csv('/home/gbarchi/Documentos/Trust/OCEAN-TRUST/data/metadata/metadata_df+eth+gender.csv',index_col=0)"
   ]
  },
  {
   "cell_type": "code",
   "execution_count": 103,
   "metadata": {},
   "outputs": [
    {
     "data": {
      "text/html": [
       "<div>\n",
       "<style scoped>\n",
       "    .dataframe tbody tr th:only-of-type {\n",
       "        vertical-align: middle;\n",
       "    }\n",
       "\n",
       "    .dataframe tbody tr th {\n",
       "        vertical-align: top;\n",
       "    }\n",
       "\n",
       "    .dataframe thead th {\n",
       "        text-align: right;\n",
       "    }\n",
       "</style>\n",
       "<table border=\"1\" class=\"dataframe\">\n",
       "  <thead>\n",
       "    <tr style=\"text-align: right;\">\n",
       "      <th></th>\n",
       "      <th>basename</th>\n",
       "      <th>extraversion</th>\n",
       "      <th>neuroticism</th>\n",
       "      <th>agreeableness</th>\n",
       "      <th>conscientiousness</th>\n",
       "      <th>openness</th>\n",
       "      <th>Partition</th>\n",
       "      <th>labels_mean</th>\n",
       "      <th>yamnet_no_music_20+speech_rate_&gt;0.5</th>\n",
       "      <th>yamnet_no_music_20+speech_rate_&gt;0.6</th>\n",
       "      <th>yamnet_no_music_20+speech_rate_&gt;0.7</th>\n",
       "      <th>yamnet_no_music_20+speech_rate_&gt;0.8</th>\n",
       "      <th>yamnet_no_music_20+speech_rate_&gt;0.9</th>\n",
       "      <th>silero_speech_rate&gt;0.5</th>\n",
       "      <th>silero_speech_rate&gt;0.6</th>\n",
       "      <th>silero_speech_rate&gt;0.7</th>\n",
       "      <th>silero_speech_rate&gt;0.8</th>\n",
       "      <th>silero_speech_rate&gt;0.9</th>\n",
       "      <th>ethnicity</th>\n",
       "      <th>gender</th>\n",
       "    </tr>\n",
       "    <tr>\n",
       "      <th>filename</th>\n",
       "      <th></th>\n",
       "      <th></th>\n",
       "      <th></th>\n",
       "      <th></th>\n",
       "      <th></th>\n",
       "      <th></th>\n",
       "      <th></th>\n",
       "      <th></th>\n",
       "      <th></th>\n",
       "      <th></th>\n",
       "      <th></th>\n",
       "      <th></th>\n",
       "      <th></th>\n",
       "      <th></th>\n",
       "      <th></th>\n",
       "      <th></th>\n",
       "      <th></th>\n",
       "      <th></th>\n",
       "      <th></th>\n",
       "      <th></th>\n",
       "    </tr>\n",
       "  </thead>\n",
       "  <tbody>\n",
       "    <tr>\n",
       "      <th>mDRMCwSD3Ms.001.wav</th>\n",
       "      <td>mDRMCwSD3Ms</td>\n",
       "      <td>0.579439</td>\n",
       "      <td>0.697917</td>\n",
       "      <td>0.736264</td>\n",
       "      <td>0.766990</td>\n",
       "      <td>0.588889</td>\n",
       "      <td>Val</td>\n",
       "      <td>0.673900</td>\n",
       "      <td>1.0</td>\n",
       "      <td>1.0</td>\n",
       "      <td>1.0</td>\n",
       "      <td>1.0</td>\n",
       "      <td>1.0</td>\n",
       "      <td>1.0</td>\n",
       "      <td>1.0</td>\n",
       "      <td>1.0</td>\n",
       "      <td>1.0</td>\n",
       "      <td>1.0</td>\n",
       "      <td>2</td>\n",
       "      <td>1</td>\n",
       "    </tr>\n",
       "    <tr>\n",
       "      <th>nUazOUcW_AM.002.wav</th>\n",
       "      <td>nUazOUcW_AM</td>\n",
       "      <td>0.476636</td>\n",
       "      <td>0.687500</td>\n",
       "      <td>0.582418</td>\n",
       "      <td>0.699029</td>\n",
       "      <td>0.711111</td>\n",
       "      <td>Val</td>\n",
       "      <td>0.631339</td>\n",
       "      <td>1.0</td>\n",
       "      <td>1.0</td>\n",
       "      <td>1.0</td>\n",
       "      <td>1.0</td>\n",
       "      <td>1.0</td>\n",
       "      <td>1.0</td>\n",
       "      <td>1.0</td>\n",
       "      <td>1.0</td>\n",
       "      <td>1.0</td>\n",
       "      <td>1.0</td>\n",
       "      <td>2</td>\n",
       "      <td>2</td>\n",
       "    </tr>\n",
       "    <tr>\n",
       "      <th>8AnIttmflwI.000.wav</th>\n",
       "      <td>8AnIttmflwI</td>\n",
       "      <td>0.532710</td>\n",
       "      <td>0.572917</td>\n",
       "      <td>0.637363</td>\n",
       "      <td>0.553398</td>\n",
       "      <td>0.511111</td>\n",
       "      <td>Val</td>\n",
       "      <td>0.561500</td>\n",
       "      <td>0.0</td>\n",
       "      <td>0.0</td>\n",
       "      <td>0.0</td>\n",
       "      <td>0.0</td>\n",
       "      <td>0.0</td>\n",
       "      <td>1.0</td>\n",
       "      <td>1.0</td>\n",
       "      <td>1.0</td>\n",
       "      <td>1.0</td>\n",
       "      <td>1.0</td>\n",
       "      <td>2</td>\n",
       "      <td>1</td>\n",
       "    </tr>\n",
       "    <tr>\n",
       "      <th>XB81sertsYU.004.wav</th>\n",
       "      <td>XB81sertsYU</td>\n",
       "      <td>0.588785</td>\n",
       "      <td>0.510417</td>\n",
       "      <td>0.648352</td>\n",
       "      <td>0.466019</td>\n",
       "      <td>0.666667</td>\n",
       "      <td>Val</td>\n",
       "      <td>0.576048</td>\n",
       "      <td>0.0</td>\n",
       "      <td>0.0</td>\n",
       "      <td>0.0</td>\n",
       "      <td>0.0</td>\n",
       "      <td>0.0</td>\n",
       "      <td>1.0</td>\n",
       "      <td>1.0</td>\n",
       "      <td>1.0</td>\n",
       "      <td>1.0</td>\n",
       "      <td>1.0</td>\n",
       "      <td>2</td>\n",
       "      <td>2</td>\n",
       "    </tr>\n",
       "    <tr>\n",
       "      <th>alucqviYJFE.005.wav</th>\n",
       "      <td>alucqviYJFE</td>\n",
       "      <td>0.514019</td>\n",
       "      <td>0.572917</td>\n",
       "      <td>0.527473</td>\n",
       "      <td>0.601942</td>\n",
       "      <td>0.688889</td>\n",
       "      <td>Val</td>\n",
       "      <td>0.581048</td>\n",
       "      <td>1.0</td>\n",
       "      <td>1.0</td>\n",
       "      <td>1.0</td>\n",
       "      <td>1.0</td>\n",
       "      <td>1.0</td>\n",
       "      <td>1.0</td>\n",
       "      <td>1.0</td>\n",
       "      <td>1.0</td>\n",
       "      <td>1.0</td>\n",
       "      <td>1.0</td>\n",
       "      <td>2</td>\n",
       "      <td>1</td>\n",
       "    </tr>\n",
       "    <tr>\n",
       "      <th>...</th>\n",
       "      <td>...</td>\n",
       "      <td>...</td>\n",
       "      <td>...</td>\n",
       "      <td>...</td>\n",
       "      <td>...</td>\n",
       "      <td>...</td>\n",
       "      <td>...</td>\n",
       "      <td>...</td>\n",
       "      <td>...</td>\n",
       "      <td>...</td>\n",
       "      <td>...</td>\n",
       "      <td>...</td>\n",
       "      <td>...</td>\n",
       "      <td>...</td>\n",
       "      <td>...</td>\n",
       "      <td>...</td>\n",
       "      <td>...</td>\n",
       "      <td>...</td>\n",
       "      <td>...</td>\n",
       "      <td>...</td>\n",
       "    </tr>\n",
       "    <tr>\n",
       "      <th>SkNO4x-LSgE.001.wav</th>\n",
       "      <td>SkNO4x-LSgE</td>\n",
       "      <td>0.598131</td>\n",
       "      <td>0.635417</td>\n",
       "      <td>0.747253</td>\n",
       "      <td>0.582524</td>\n",
       "      <td>0.555556</td>\n",
       "      <td>Test</td>\n",
       "      <td>0.623776</td>\n",
       "      <td>0.0</td>\n",
       "      <td>0.0</td>\n",
       "      <td>0.0</td>\n",
       "      <td>0.0</td>\n",
       "      <td>0.0</td>\n",
       "      <td>0.0</td>\n",
       "      <td>0.0</td>\n",
       "      <td>0.0</td>\n",
       "      <td>0.0</td>\n",
       "      <td>0.0</td>\n",
       "      <td>2</td>\n",
       "      <td>1</td>\n",
       "    </tr>\n",
       "    <tr>\n",
       "      <th>QdafN9Y_j-Y.003.wav</th>\n",
       "      <td>QdafN9Y_j-Y</td>\n",
       "      <td>0.467290</td>\n",
       "      <td>0.406250</td>\n",
       "      <td>0.593407</td>\n",
       "      <td>0.514563</td>\n",
       "      <td>0.533333</td>\n",
       "      <td>Test</td>\n",
       "      <td>0.502969</td>\n",
       "      <td>0.0</td>\n",
       "      <td>0.0</td>\n",
       "      <td>0.0</td>\n",
       "      <td>0.0</td>\n",
       "      <td>0.0</td>\n",
       "      <td>0.0</td>\n",
       "      <td>0.0</td>\n",
       "      <td>0.0</td>\n",
       "      <td>0.0</td>\n",
       "      <td>0.0</td>\n",
       "      <td>2</td>\n",
       "      <td>2</td>\n",
       "    </tr>\n",
       "    <tr>\n",
       "      <th>JJs_HTelie4.000.wav</th>\n",
       "      <td>JJs_HTelie4</td>\n",
       "      <td>0.570093</td>\n",
       "      <td>0.760417</td>\n",
       "      <td>0.659341</td>\n",
       "      <td>0.601942</td>\n",
       "      <td>0.688889</td>\n",
       "      <td>Test</td>\n",
       "      <td>0.656136</td>\n",
       "      <td>0.0</td>\n",
       "      <td>0.0</td>\n",
       "      <td>0.0</td>\n",
       "      <td>0.0</td>\n",
       "      <td>0.0</td>\n",
       "      <td>0.0</td>\n",
       "      <td>0.0</td>\n",
       "      <td>0.0</td>\n",
       "      <td>0.0</td>\n",
       "      <td>0.0</td>\n",
       "      <td>2</td>\n",
       "      <td>2</td>\n",
       "    </tr>\n",
       "    <tr>\n",
       "      <th>cWvZnl5XjwI.002.wav</th>\n",
       "      <td>cWvZnl5XjwI</td>\n",
       "      <td>0.345794</td>\n",
       "      <td>0.406250</td>\n",
       "      <td>0.406593</td>\n",
       "      <td>0.310680</td>\n",
       "      <td>0.488889</td>\n",
       "      <td>Test</td>\n",
       "      <td>0.391641</td>\n",
       "      <td>0.0</td>\n",
       "      <td>0.0</td>\n",
       "      <td>0.0</td>\n",
       "      <td>0.0</td>\n",
       "      <td>0.0</td>\n",
       "      <td>0.0</td>\n",
       "      <td>0.0</td>\n",
       "      <td>0.0</td>\n",
       "      <td>0.0</td>\n",
       "      <td>0.0</td>\n",
       "      <td>3</td>\n",
       "      <td>1</td>\n",
       "    </tr>\n",
       "    <tr>\n",
       "      <th>1uC-2TZqplE.003.wav</th>\n",
       "      <td>1uC-2TZqplE</td>\n",
       "      <td>0.224299</td>\n",
       "      <td>0.427083</td>\n",
       "      <td>0.340659</td>\n",
       "      <td>0.708738</td>\n",
       "      <td>0.477778</td>\n",
       "      <td>Test</td>\n",
       "      <td>0.435711</td>\n",
       "      <td>0.0</td>\n",
       "      <td>0.0</td>\n",
       "      <td>0.0</td>\n",
       "      <td>0.0</td>\n",
       "      <td>0.0</td>\n",
       "      <td>0.0</td>\n",
       "      <td>0.0</td>\n",
       "      <td>0.0</td>\n",
       "      <td>0.0</td>\n",
       "      <td>0.0</td>\n",
       "      <td>2</td>\n",
       "      <td>2</td>\n",
       "    </tr>\n",
       "  </tbody>\n",
       "</table>\n",
       "<p>10000 rows × 20 columns</p>\n",
       "</div>"
      ],
      "text/plain": [
       "                        basename  extraversion  neuroticism  agreeableness  \\\n",
       "filename                                                                     \n",
       "mDRMCwSD3Ms.001.wav  mDRMCwSD3Ms      0.579439     0.697917       0.736264   \n",
       "nUazOUcW_AM.002.wav  nUazOUcW_AM      0.476636     0.687500       0.582418   \n",
       "8AnIttmflwI.000.wav  8AnIttmflwI      0.532710     0.572917       0.637363   \n",
       "XB81sertsYU.004.wav  XB81sertsYU      0.588785     0.510417       0.648352   \n",
       "alucqviYJFE.005.wav  alucqviYJFE      0.514019     0.572917       0.527473   \n",
       "...                          ...           ...          ...            ...   \n",
       "SkNO4x-LSgE.001.wav  SkNO4x-LSgE      0.598131     0.635417       0.747253   \n",
       "QdafN9Y_j-Y.003.wav  QdafN9Y_j-Y      0.467290     0.406250       0.593407   \n",
       "JJs_HTelie4.000.wav  JJs_HTelie4      0.570093     0.760417       0.659341   \n",
       "cWvZnl5XjwI.002.wav  cWvZnl5XjwI      0.345794     0.406250       0.406593   \n",
       "1uC-2TZqplE.003.wav  1uC-2TZqplE      0.224299     0.427083       0.340659   \n",
       "\n",
       "                     conscientiousness  openness Partition  labels_mean  \\\n",
       "filename                                                                  \n",
       "mDRMCwSD3Ms.001.wav           0.766990  0.588889       Val     0.673900   \n",
       "nUazOUcW_AM.002.wav           0.699029  0.711111       Val     0.631339   \n",
       "8AnIttmflwI.000.wav           0.553398  0.511111       Val     0.561500   \n",
       "XB81sertsYU.004.wav           0.466019  0.666667       Val     0.576048   \n",
       "alucqviYJFE.005.wav           0.601942  0.688889       Val     0.581048   \n",
       "...                                ...       ...       ...          ...   \n",
       "SkNO4x-LSgE.001.wav           0.582524  0.555556      Test     0.623776   \n",
       "QdafN9Y_j-Y.003.wav           0.514563  0.533333      Test     0.502969   \n",
       "JJs_HTelie4.000.wav           0.601942  0.688889      Test     0.656136   \n",
       "cWvZnl5XjwI.002.wav           0.310680  0.488889      Test     0.391641   \n",
       "1uC-2TZqplE.003.wav           0.708738  0.477778      Test     0.435711   \n",
       "\n",
       "                     yamnet_no_music_20+speech_rate_>0.5  \\\n",
       "filename                                                   \n",
       "mDRMCwSD3Ms.001.wav                                  1.0   \n",
       "nUazOUcW_AM.002.wav                                  1.0   \n",
       "8AnIttmflwI.000.wav                                  0.0   \n",
       "XB81sertsYU.004.wav                                  0.0   \n",
       "alucqviYJFE.005.wav                                  1.0   \n",
       "...                                                  ...   \n",
       "SkNO4x-LSgE.001.wav                                  0.0   \n",
       "QdafN9Y_j-Y.003.wav                                  0.0   \n",
       "JJs_HTelie4.000.wav                                  0.0   \n",
       "cWvZnl5XjwI.002.wav                                  0.0   \n",
       "1uC-2TZqplE.003.wav                                  0.0   \n",
       "\n",
       "                     yamnet_no_music_20+speech_rate_>0.6  \\\n",
       "filename                                                   \n",
       "mDRMCwSD3Ms.001.wav                                  1.0   \n",
       "nUazOUcW_AM.002.wav                                  1.0   \n",
       "8AnIttmflwI.000.wav                                  0.0   \n",
       "XB81sertsYU.004.wav                                  0.0   \n",
       "alucqviYJFE.005.wav                                  1.0   \n",
       "...                                                  ...   \n",
       "SkNO4x-LSgE.001.wav                                  0.0   \n",
       "QdafN9Y_j-Y.003.wav                                  0.0   \n",
       "JJs_HTelie4.000.wav                                  0.0   \n",
       "cWvZnl5XjwI.002.wav                                  0.0   \n",
       "1uC-2TZqplE.003.wav                                  0.0   \n",
       "\n",
       "                     yamnet_no_music_20+speech_rate_>0.7  \\\n",
       "filename                                                   \n",
       "mDRMCwSD3Ms.001.wav                                  1.0   \n",
       "nUazOUcW_AM.002.wav                                  1.0   \n",
       "8AnIttmflwI.000.wav                                  0.0   \n",
       "XB81sertsYU.004.wav                                  0.0   \n",
       "alucqviYJFE.005.wav                                  1.0   \n",
       "...                                                  ...   \n",
       "SkNO4x-LSgE.001.wav                                  0.0   \n",
       "QdafN9Y_j-Y.003.wav                                  0.0   \n",
       "JJs_HTelie4.000.wav                                  0.0   \n",
       "cWvZnl5XjwI.002.wav                                  0.0   \n",
       "1uC-2TZqplE.003.wav                                  0.0   \n",
       "\n",
       "                     yamnet_no_music_20+speech_rate_>0.8  \\\n",
       "filename                                                   \n",
       "mDRMCwSD3Ms.001.wav                                  1.0   \n",
       "nUazOUcW_AM.002.wav                                  1.0   \n",
       "8AnIttmflwI.000.wav                                  0.0   \n",
       "XB81sertsYU.004.wav                                  0.0   \n",
       "alucqviYJFE.005.wav                                  1.0   \n",
       "...                                                  ...   \n",
       "SkNO4x-LSgE.001.wav                                  0.0   \n",
       "QdafN9Y_j-Y.003.wav                                  0.0   \n",
       "JJs_HTelie4.000.wav                                  0.0   \n",
       "cWvZnl5XjwI.002.wav                                  0.0   \n",
       "1uC-2TZqplE.003.wav                                  0.0   \n",
       "\n",
       "                     yamnet_no_music_20+speech_rate_>0.9  \\\n",
       "filename                                                   \n",
       "mDRMCwSD3Ms.001.wav                                  1.0   \n",
       "nUazOUcW_AM.002.wav                                  1.0   \n",
       "8AnIttmflwI.000.wav                                  0.0   \n",
       "XB81sertsYU.004.wav                                  0.0   \n",
       "alucqviYJFE.005.wav                                  1.0   \n",
       "...                                                  ...   \n",
       "SkNO4x-LSgE.001.wav                                  0.0   \n",
       "QdafN9Y_j-Y.003.wav                                  0.0   \n",
       "JJs_HTelie4.000.wav                                  0.0   \n",
       "cWvZnl5XjwI.002.wav                                  0.0   \n",
       "1uC-2TZqplE.003.wav                                  0.0   \n",
       "\n",
       "                     silero_speech_rate>0.5  silero_speech_rate>0.6  \\\n",
       "filename                                                              \n",
       "mDRMCwSD3Ms.001.wav                     1.0                     1.0   \n",
       "nUazOUcW_AM.002.wav                     1.0                     1.0   \n",
       "8AnIttmflwI.000.wav                     1.0                     1.0   \n",
       "XB81sertsYU.004.wav                     1.0                     1.0   \n",
       "alucqviYJFE.005.wav                     1.0                     1.0   \n",
       "...                                     ...                     ...   \n",
       "SkNO4x-LSgE.001.wav                     0.0                     0.0   \n",
       "QdafN9Y_j-Y.003.wav                     0.0                     0.0   \n",
       "JJs_HTelie4.000.wav                     0.0                     0.0   \n",
       "cWvZnl5XjwI.002.wav                     0.0                     0.0   \n",
       "1uC-2TZqplE.003.wav                     0.0                     0.0   \n",
       "\n",
       "                     silero_speech_rate>0.7  silero_speech_rate>0.8  \\\n",
       "filename                                                              \n",
       "mDRMCwSD3Ms.001.wav                     1.0                     1.0   \n",
       "nUazOUcW_AM.002.wav                     1.0                     1.0   \n",
       "8AnIttmflwI.000.wav                     1.0                     1.0   \n",
       "XB81sertsYU.004.wav                     1.0                     1.0   \n",
       "alucqviYJFE.005.wav                     1.0                     1.0   \n",
       "...                                     ...                     ...   \n",
       "SkNO4x-LSgE.001.wav                     0.0                     0.0   \n",
       "QdafN9Y_j-Y.003.wav                     0.0                     0.0   \n",
       "JJs_HTelie4.000.wav                     0.0                     0.0   \n",
       "cWvZnl5XjwI.002.wav                     0.0                     0.0   \n",
       "1uC-2TZqplE.003.wav                     0.0                     0.0   \n",
       "\n",
       "                     silero_speech_rate>0.9  ethnicity  gender  \n",
       "filename                                                        \n",
       "mDRMCwSD3Ms.001.wav                     1.0          2       1  \n",
       "nUazOUcW_AM.002.wav                     1.0          2       2  \n",
       "8AnIttmflwI.000.wav                     1.0          2       1  \n",
       "XB81sertsYU.004.wav                     1.0          2       2  \n",
       "alucqviYJFE.005.wav                     1.0          2       1  \n",
       "...                                     ...        ...     ...  \n",
       "SkNO4x-LSgE.001.wav                     0.0          2       1  \n",
       "QdafN9Y_j-Y.003.wav                     0.0          2       2  \n",
       "JJs_HTelie4.000.wav                     0.0          2       2  \n",
       "cWvZnl5XjwI.002.wav                     0.0          3       1  \n",
       "1uC-2TZqplE.003.wav                     0.0          2       2  \n",
       "\n",
       "[10000 rows x 20 columns]"
      ]
     },
     "execution_count": 103,
     "metadata": {},
     "output_type": "execute_result"
    }
   ],
   "source": [
    "meta_df"
   ]
  },
  {
   "cell_type": "markdown",
   "metadata": {},
   "source": [
    "Gender: Male=1, Female=2"
   ]
  },
  {
   "cell_type": "code",
   "execution_count": 104,
   "metadata": {},
   "outputs": [
    {
     "name": "stdout",
     "output_type": "stream",
     "text": [
      "Male samples:4538 \n",
      "Female samples:5462\n"
     ]
    }
   ],
   "source": [
    "dim_male=meta_df[meta_df.gender==1].shape[0]\n",
    "dim_female=meta_df[meta_df.gender==2].shape[0]\n",
    "print('Male samples:%d \\nFemale samples:%d' % (dim_male, dim_female))"
   ]
  },
  {
   "cell_type": "code",
   "execution_count": 127,
   "metadata": {},
   "outputs": [
    {
     "data": {
      "text/plain": [
       "45.38"
      ]
     },
     "execution_count": 127,
     "metadata": {},
     "output_type": "execute_result"
    }
   ],
   "source": [
    "(100*4538)/10000"
   ]
  },
  {
   "cell_type": "code",
   "execution_count": 128,
   "metadata": {},
   "outputs": [
    {
     "data": {
      "text/plain": [
       "54.62"
      ]
     },
     "execution_count": 128,
     "metadata": {},
     "output_type": "execute_result"
    }
   ],
   "source": [
    "(100*5462)/10000"
   ]
  },
  {
   "cell_type": "code",
   "execution_count": 105,
   "metadata": {},
   "outputs": [],
   "source": [
    "meta_df.loc[meta_df.gender==1,'gender_tag']='Male'\n",
    "meta_df.loc[meta_df.gender==2,'gender_tag']='Female'"
   ]
  },
  {
   "cell_type": "markdown",
   "metadata": {},
   "source": [
    "Ethnicity: Asian=1,Caucasian=2,African-American=3"
   ]
  },
  {
   "cell_type": "code",
   "execution_count": 106,
   "metadata": {},
   "outputs": [
    {
     "name": "stdout",
     "output_type": "stream",
     "text": [
      "Asian:331 \n",
      "Caucasian:8598 \n",
      "African-American:1071\n"
     ]
    }
   ],
   "source": [
    "asian=meta_df[meta_df.ethnicity==1].shape[0]\n",
    "caucasian=meta_df[meta_df.ethnicity==2].shape[0]\n",
    "african_american=meta_df[meta_df.ethnicity==3].shape[0]\n",
    "print('Asian:%d \\nCaucasian:%d \\nAfrican-American:%d' % (asian, caucasian,african_american))\n",
    "\n",
    "meta_df.loc[meta_df.ethnicity==1,'ethnicity_tag']='Asian'\n",
    "meta_df.loc[meta_df.ethnicity==2,'ethnicity_tag']='Caucasian'\n",
    "meta_df.loc[meta_df.ethnicity==3,'ethnicity_tag']='African-American'"
   ]
  },
  {
   "cell_type": "code",
   "execution_count": 131,
   "metadata": {},
   "outputs": [
    {
     "data": {
      "text/plain": [
       "10.71"
      ]
     },
     "execution_count": 131,
     "metadata": {},
     "output_type": "execute_result"
    }
   ],
   "source": [
    "(100*1071)/10000"
   ]
  },
  {
   "cell_type": "markdown",
   "metadata": {},
   "source": [
    "# Gender"
   ]
  },
  {
   "cell_type": "markdown",
   "metadata": {},
   "source": [
    "Per-gender Mean of label means "
   ]
  },
  {
   "cell_type": "code",
   "execution_count": 107,
   "metadata": {},
   "outputs": [],
   "source": [
    "labels_mean=pd.DataFrame(meta_df.groupby('gender_tag')['labels_mean'].mean())\n",
    "o=pd.DataFrame(meta_df.groupby('gender_tag')['openness'].mean())\n",
    "c=pd.DataFrame(meta_df.groupby('gender_tag')['conscientiousness'].mean())\n",
    "e=pd.DataFrame(meta_df.groupby('gender_tag')['extraversion'].mean())\n",
    "a=pd.DataFrame(meta_df.groupby('gender_tag')['agreeableness'].mean())\n",
    "n=pd.DataFrame(meta_df.groupby('gender_tag')['neuroticism'].mean())"
   ]
  },
  {
   "cell_type": "code",
   "execution_count": 108,
   "metadata": {},
   "outputs": [],
   "source": [
    "to_merge_list=[o,c,e,a,n,labels_mean]"
   ]
  },
  {
   "cell_type": "code",
   "execution_count": 109,
   "metadata": {},
   "outputs": [],
   "source": [
    "data_merge = reduce(lambda left, right:     # Merge DataFrames in list\n",
    "                     pd.merge(left , right,\n",
    "                              on = ['gender_tag'],\n",
    "                              how = \"outer\"),\n",
    "                     to_merge_list)\n",
    "plot_data=pd.DataFrame(data_merge)      \n",
    "plot_data=plot_data.melt(ignore_index=False).reset_index()\n",
    "plot_data=plot_data.rename(columns={'variable':'Personality','value':'mean_value'})"
   ]
  },
  {
   "cell_type": "code",
   "execution_count": 110,
   "metadata": {},
   "outputs": [
    {
     "data": {
      "text/plain": [
       "Text(0, 0.5, 'mean label score')"
      ]
     },
     "execution_count": 110,
     "metadata": {},
     "output_type": "execute_result"
    },
    {
     "data": {
      "image/png": "[encoded data removed]",
      "text/plain": [
       "<Figure size 648x432 with 1 Axes>"
      ]
     },
     "metadata": {},
     "output_type": "display_data"
    }
   ],
   "source": [
    "plt.figure(figsize=(9, 6))\n",
    "plt.axhline(plot_data[(plot_data['gender_tag']=='Female') & (plot_data['Personality']=='labels_mean')]['mean_value'].values[0], ls='--',color='blue')\n",
    "plt.axhline(plot_data[(plot_data['gender_tag']=='Male') & (plot_data['Personality']=='labels_mean')]['mean_value'].values[0], ls='--',color='orange')\n",
    "sns.barplot(plot_data,x='Personality',y='mean_value',hue='gender_tag').set_ylim([0.4,None])\n",
    "plt.legend(bbox_to_anchor=(1, 1), loc=2)\n",
    "plt.ylabel('mean label score')\n"
   ]
  },
  {
   "cell_type": "code",
   "execution_count": 111,
   "metadata": {},
   "outputs": [
    {
     "data": {
      "text/html": [
       "<div>\n",
       "<style scoped>\n",
       "    .dataframe tbody tr th:only-of-type {\n",
       "        vertical-align: middle;\n",
       "    }\n",
       "\n",
       "    .dataframe tbody tr th {\n",
       "        vertical-align: top;\n",
       "    }\n",
       "\n",
       "    .dataframe thead th {\n",
       "        text-align: right;\n",
       "    }\n",
       "</style>\n",
       "<table border=\"1\" class=\"dataframe\">\n",
       "  <thead>\n",
       "    <tr style=\"text-align: right;\">\n",
       "      <th></th>\n",
       "      <th>0</th>\n",
       "      <th>1</th>\n",
       "      <th>2</th>\n",
       "      <th>3</th>\n",
       "      <th>4</th>\n",
       "      <th>5</th>\n",
       "      <th>6</th>\n",
       "      <th>7</th>\n",
       "      <th>8</th>\n",
       "      <th>9</th>\n",
       "      <th>10</th>\n",
       "      <th>11</th>\n",
       "    </tr>\n",
       "  </thead>\n",
       "  <tbody>\n",
       "    <tr>\n",
       "      <th>gender_tag</th>\n",
       "      <td>Female</td>\n",
       "      <td>Male</td>\n",
       "      <td>Female</td>\n",
       "      <td>Male</td>\n",
       "      <td>Female</td>\n",
       "      <td>Male</td>\n",
       "      <td>Female</td>\n",
       "      <td>Male</td>\n",
       "      <td>Female</td>\n",
       "      <td>Male</td>\n",
       "      <td>Female</td>\n",
       "      <td>Male</td>\n",
       "    </tr>\n",
       "    <tr>\n",
       "      <th>Personality</th>\n",
       "      <td>openness</td>\n",
       "      <td>openness</td>\n",
       "      <td>conscientiousness</td>\n",
       "      <td>conscientiousness</td>\n",
       "      <td>extraversion</td>\n",
       "      <td>extraversion</td>\n",
       "      <td>agreeableness</td>\n",
       "      <td>agreeableness</td>\n",
       "      <td>neuroticism</td>\n",
       "      <td>neuroticism</td>\n",
       "      <td>labels_mean</td>\n",
       "      <td>labels_mean</td>\n",
       "    </tr>\n",
       "    <tr>\n",
       "      <th>mean_value</th>\n",
       "      <td>0.589021</td>\n",
       "      <td>0.539761</td>\n",
       "      <td>0.535922</td>\n",
       "      <td>0.51025</td>\n",
       "      <td>0.505664</td>\n",
       "      <td>0.441697</td>\n",
       "      <td>0.547481</td>\n",
       "      <td>0.551821</td>\n",
       "      <td>0.529225</td>\n",
       "      <td>0.510733</td>\n",
       "      <td>0.541462</td>\n",
       "      <td>0.510852</td>\n",
       "    </tr>\n",
       "  </tbody>\n",
       "</table>\n",
       "</div>"
      ],
      "text/plain": [
       "                   0         1                  2                  3   \\\n",
       "gender_tag     Female      Male             Female               Male   \n",
       "Personality  openness  openness  conscientiousness  conscientiousness   \n",
       "mean_value   0.589021  0.539761           0.535922            0.51025   \n",
       "\n",
       "                       4             5              6              7   \\\n",
       "gender_tag         Female          Male         Female           Male   \n",
       "Personality  extraversion  extraversion  agreeableness  agreeableness   \n",
       "mean_value       0.505664      0.441697       0.547481       0.551821   \n",
       "\n",
       "                      8            9            10           11  \n",
       "gender_tag        Female         Male       Female         Male  \n",
       "Personality  neuroticism  neuroticism  labels_mean  labels_mean  \n",
       "mean_value      0.529225     0.510733     0.541462     0.510852  "
      ]
     },
     "execution_count": 111,
     "metadata": {},
     "output_type": "execute_result"
    }
   ],
   "source": [
    "plot_data.T"
   ]
  },
  {
   "cell_type": "code",
   "execution_count": 112,
   "metadata": {},
   "outputs": [
    {
     "data": {
      "text/plain": [
       "<pandas.core.groupby.generic.SeriesGroupBy object at 0x7fb6273c5eb0>"
      ]
     },
     "execution_count": 112,
     "metadata": {},
     "output_type": "execute_result"
    }
   ],
   "source": [
    "plot_data.groupby('gender_tag')['mean_value']"
   ]
  },
  {
   "cell_type": "markdown",
   "metadata": {},
   "source": [
    "# Ethnicity"
   ]
  },
  {
   "cell_type": "code",
   "execution_count": 113,
   "metadata": {},
   "outputs": [],
   "source": [
    "eth_labels_mean=pd.DataFrame(meta_df.groupby('ethnicity_tag')['labels_mean'].mean())\n",
    "eth_o=pd.DataFrame(meta_df.groupby('ethnicity_tag')['openness'].mean())\n",
    "eth_c=pd.DataFrame(meta_df.groupby('ethnicity_tag')['conscientiousness'].mean())\n",
    "eth_e=pd.DataFrame(meta_df.groupby('ethnicity_tag')['extraversion'].mean())\n",
    "eth_a=pd.DataFrame(meta_df.groupby('ethnicity_tag')['agreeableness'].mean())\n",
    "eth_n=pd.DataFrame(meta_df.groupby('ethnicity_tag')['neuroticism'].mean())"
   ]
  },
  {
   "cell_type": "code",
   "execution_count": 114,
   "metadata": {},
   "outputs": [],
   "source": [
    "to_merge_list_eth=[eth_o,eth_c,eth_e,eth_a,eth_n,eth_labels_mean]"
   ]
  },
  {
   "cell_type": "code",
   "execution_count": 115,
   "metadata": {},
   "outputs": [],
   "source": [
    "data_merge_eth = reduce(lambda left, right:     # Merge DataFrames in list\n",
    "                     pd.merge(left , right,\n",
    "                              on = ['ethnicity_tag'],\n",
    "                              how = \"outer\"),\n",
    "                     to_merge_list_eth)\n",
    "plot_data_eth=pd.DataFrame(data_merge_eth)      \n",
    "plot_data_eth=plot_data_eth.melt(ignore_index=False).reset_index()\n",
    "plot_data_eth=plot_data_eth.rename(columns={'variable':'Personality','value':'mean_value'})"
   ]
  },
  {
   "cell_type": "code",
   "execution_count": 116,
   "metadata": {},
   "outputs": [
    {
     "data": {
      "text/plain": [
       "Text(0, 0.5, 'mean label score')"
      ]
     },
     "execution_count": 116,
     "metadata": {},
     "output_type": "execute_result"
    },
    {
     "data": {
      "image/png": "[encoded data removed]",
      "text/plain": [
       "<Figure size 648x432 with 1 Axes>"
      ]
     },
     "metadata": {},
     "output_type": "display_data"
    }
   ],
   "source": [
    "plt.figure(figsize=(9, 6))\n",
    "plt.axhline(plot_data_eth[(plot_data_eth['ethnicity_tag']=='African-American') & (plot_data_eth['Personality']=='labels_mean')]['mean_value'].values[0], ls='--',color='blue')\n",
    "plt.axhline(plot_data_eth[(plot_data_eth['ethnicity_tag']=='Asian') & (plot_data_eth['Personality']=='labels_mean')]['mean_value'].values[0], ls='--',color='orange')\n",
    "plt.axhline(plot_data_eth[(plot_data_eth['ethnicity_tag']=='Caucasian') & (plot_data_eth['Personality']=='labels_mean')]['mean_value'].values[0], ls='--',color='green')\n",
    "sns.barplot(plot_data_eth,x='Personality',y='mean_value',hue='ethnicity_tag').set_ylim([0.4,None])\n",
    "plt.legend(bbox_to_anchor=(1, 1), loc=2)\n",
    "plt.ylabel('mean label score')"
   ]
  },
  {
   "cell_type": "code",
   "execution_count": 117,
   "metadata": {},
   "outputs": [
    {
     "data": {
      "text/html": [
       "<div>\n",
       "<style scoped>\n",
       "    .dataframe tbody tr th:only-of-type {\n",
       "        vertical-align: middle;\n",
       "    }\n",
       "\n",
       "    .dataframe tbody tr th {\n",
       "        vertical-align: top;\n",
       "    }\n",
       "\n",
       "    .dataframe thead th {\n",
       "        text-align: right;\n",
       "    }\n",
       "</style>\n",
       "<table border=\"1\" class=\"dataframe\">\n",
       "  <thead>\n",
       "    <tr style=\"text-align: right;\">\n",
       "      <th></th>\n",
       "      <th>0</th>\n",
       "      <th>1</th>\n",
       "      <th>2</th>\n",
       "      <th>3</th>\n",
       "      <th>4</th>\n",
       "      <th>5</th>\n",
       "      <th>6</th>\n",
       "      <th>7</th>\n",
       "      <th>8</th>\n",
       "      <th>9</th>\n",
       "      <th>10</th>\n",
       "      <th>11</th>\n",
       "      <th>12</th>\n",
       "      <th>13</th>\n",
       "      <th>14</th>\n",
       "      <th>15</th>\n",
       "      <th>16</th>\n",
       "      <th>17</th>\n",
       "    </tr>\n",
       "  </thead>\n",
       "  <tbody>\n",
       "    <tr>\n",
       "      <th>ethnicity_tag</th>\n",
       "      <td>African-American</td>\n",
       "      <td>Asian</td>\n",
       "      <td>Caucasian</td>\n",
       "      <td>African-American</td>\n",
       "      <td>Asian</td>\n",
       "      <td>Caucasian</td>\n",
       "      <td>African-American</td>\n",
       "      <td>Asian</td>\n",
       "      <td>Caucasian</td>\n",
       "      <td>African-American</td>\n",
       "      <td>Asian</td>\n",
       "      <td>Caucasian</td>\n",
       "      <td>African-American</td>\n",
       "      <td>Asian</td>\n",
       "      <td>Caucasian</td>\n",
       "      <td>African-American</td>\n",
       "      <td>Asian</td>\n",
       "      <td>Caucasian</td>\n",
       "    </tr>\n",
       "    <tr>\n",
       "      <th>Personality</th>\n",
       "      <td>openness</td>\n",
       "      <td>openness</td>\n",
       "      <td>openness</td>\n",
       "      <td>conscientiousness</td>\n",
       "      <td>conscientiousness</td>\n",
       "      <td>conscientiousness</td>\n",
       "      <td>extraversion</td>\n",
       "      <td>extraversion</td>\n",
       "      <td>extraversion</td>\n",
       "      <td>agreeableness</td>\n",
       "      <td>agreeableness</td>\n",
       "      <td>agreeableness</td>\n",
       "      <td>neuroticism</td>\n",
       "      <td>neuroticism</td>\n",
       "      <td>neuroticism</td>\n",
       "      <td>labels_mean</td>\n",
       "      <td>labels_mean</td>\n",
       "      <td>labels_mean</td>\n",
       "    </tr>\n",
       "    <tr>\n",
       "      <th>mean_value</th>\n",
       "      <td>0.521849</td>\n",
       "      <td>0.578248</td>\n",
       "      <td>0.571804</td>\n",
       "      <td>0.489707</td>\n",
       "      <td>0.538204</td>\n",
       "      <td>0.528041</td>\n",
       "      <td>0.444872</td>\n",
       "      <td>0.510094</td>\n",
       "      <td>0.479304</td>\n",
       "      <td>0.519582</td>\n",
       "      <td>0.551741</td>\n",
       "      <td>0.553083</td>\n",
       "      <td>0.494602</td>\n",
       "      <td>0.523477</td>\n",
       "      <td>0.523999</td>\n",
       "      <td>0.494122</td>\n",
       "      <td>0.540353</td>\n",
       "      <td>0.531246</td>\n",
       "    </tr>\n",
       "  </tbody>\n",
       "</table>\n",
       "</div>"
      ],
      "text/plain": [
       "                             0         1          2                  3   \\\n",
       "ethnicity_tag  African-American     Asian  Caucasian   African-American   \n",
       "Personality            openness  openness   openness  conscientiousness   \n",
       "mean_value             0.521849  0.578248   0.571804           0.489707   \n",
       "\n",
       "                              4                  5                 6   \\\n",
       "ethnicity_tag              Asian          Caucasian  African-American   \n",
       "Personality    conscientiousness  conscientiousness      extraversion   \n",
       "mean_value              0.538204           0.528041          0.444872   \n",
       "\n",
       "                         7             8                 9              10  \\\n",
       "ethnicity_tag         Asian     Caucasian  African-American          Asian   \n",
       "Personality    extraversion  extraversion     agreeableness  agreeableness   \n",
       "mean_value         0.510094      0.479304          0.519582       0.551741   \n",
       "\n",
       "                          11                12           13           14  \\\n",
       "ethnicity_tag      Caucasian  African-American        Asian    Caucasian   \n",
       "Personality    agreeableness       neuroticism  neuroticism  neuroticism   \n",
       "mean_value          0.553083          0.494602     0.523477     0.523999   \n",
       "\n",
       "                             15           16           17  \n",
       "ethnicity_tag  African-American        Asian    Caucasian  \n",
       "Personality         labels_mean  labels_mean  labels_mean  \n",
       "mean_value             0.494122     0.540353     0.531246  "
      ]
     },
     "execution_count": 117,
     "metadata": {},
     "output_type": "execute_result"
    }
   ],
   "source": [
    "plot_data_eth.T"
   ]
  },
  {
   "cell_type": "markdown",
   "metadata": {},
   "source": [
    "# Final "
   ]
  },
  {
   "cell_type": "code",
   "execution_count": 118,
   "metadata": {},
   "outputs": [],
   "source": [
    "data_gender=plot_data[plot_data['Personality']!='labels_mean']\n",
    "data_eth=plot_data_eth[plot_data_eth['Personality']!='labels_mean']"
   ]
  },
  {
   "cell_type": "code",
   "execution_count": 119,
   "metadata": {},
   "outputs": [],
   "source": [
    "ocean_tags_eth=['extraversion', 'neuroticism', 'agreeableness', 'conscientiousness','openness','ethnicity_tag']\n",
    "ocean_tags_gender=['extraversion', 'neuroticism', 'agreeableness', 'conscientiousness','openness','gender_tag']"
   ]
  },
  {
   "cell_type": "code",
   "execution_count": 120,
   "metadata": {},
   "outputs": [],
   "source": [
    "df_eth=meta_df[ocean_tags_eth].rename(columns={'ethnicity_tag':'label'})"
   ]
  },
  {
   "cell_type": "code",
   "execution_count": 121,
   "metadata": {},
   "outputs": [],
   "source": [
    "df_gender=meta_df[ocean_tags_gender].rename(columns={'gender_tag':'label'})"
   ]
  },
  {
   "cell_type": "code",
   "execution_count": 122,
   "metadata": {},
   "outputs": [],
   "source": [
    "df=pd.concat([df_gender,df_eth])"
   ]
  },
  {
   "cell_type": "code",
   "execution_count": 123,
   "metadata": {},
   "outputs": [],
   "source": [
    "df=df.reset_index().drop(columns='filename')"
   ]
  },
  {
   "cell_type": "code",
   "execution_count": 124,
   "metadata": {},
   "outputs": [
    {
     "data": {
      "text/plain": [
       "<matplotlib.legend.Legend at 0x7fb6273562b0>"
      ]
     },
     "execution_count": 124,
     "metadata": {},
     "output_type": "execute_result"
    },
    {
     "data": {
      "image/png": "[encoded data removed]",
      "text/plain": [
       "<Figure size 864x576 with 1 Axes>"
      ]
     },
     "metadata": {},
     "output_type": "display_data"
    }
   ],
   "source": [
    "plt.figure(figsize=(12, 8))\n",
    "sns.set(font_scale=2)\n",
    "sns.set_palette('tab10')\n",
    "sns.set_style(\"whitegrid\")\n",
    "sns.boxplot(df.melt(id_vars='label'),y='variable',x='value',hue='label')\n",
    "plt.ylabel('Personality traits')\n",
    "plt.xlabel('Ratings')\n",
    "plt.legend(loc='lower left',fontsize=16)"
   ]
  }
 ],
 "metadata": {
  "interpreter": {
   "hash": "8fd582cc0c9c172ef607adea6ca659695142511772b7fc1eb52d452e28110f7c"
  },
  "kernelspec": {
   "display_name": "ocean-trust",
   "language": "python",
   "name": "ocean_trust"
  },
  "language_info": {
   "codemirror_mode": {
    "name": "ipython",
    "version": 3
   },
   "file_extension": ".py",
   "mimetype": "text/x-python",
   "name": "python",
   "nbconvert_exporter": "python",
   "pygments_lexer": "ipython3",
   "version": "3.9.12"
  },
  "orig_nbformat": 4
 },
 "nbformat": 4,
 "nbformat_minor": 2
}
