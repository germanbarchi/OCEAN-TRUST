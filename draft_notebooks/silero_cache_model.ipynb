{
 "cells": [
  {
   "cell_type": "code",
   "execution_count": 1,
   "metadata": {},
   "outputs": [
    {
     "name": "stderr",
     "output_type": "stream",
     "text": [
      "Downloading: \"https://github.com/snakers4/silero-vad/archive/master.zip\" to /home/gbarchi/.cache/torch/hub/master.zip\n"
     ]
    }
   ],
   "source": [
    "import torch\n",
    "torch.set_num_threads(1)\n",
    "\n",
    "SAMPLING_RATE = 16000     \n",
    "USE_ONNX = False # change this to True if you want to test onnx model\n",
    "\n",
    "model, utils = torch.hub.load(repo_or_dir='snakers4/silero-vad',\n",
    "                        model='silero_vad',\n",
    "                        force_reload=False,\n",
    "                        onnx=USE_ONNX)\n",
    "\n",
    "(get_speech_timestamps,\n",
    "save_audio,\n",
    "read_audio,\n",
    "VADIterator,\n",
    "collect_chunks) = utils    "
   ]
  },
  {
   "cell_type": "code",
   "execution_count": 3,
   "metadata": {},
   "outputs": [
    {
     "data": {
      "text/plain": [
       "(<function utils_vad.get_speech_timestamps(audio: torch.Tensor, model, threshold: float = 0.5, sampling_rate: int = 16000, min_speech_duration_ms: int = 250, min_silence_duration_ms: int = 100, window_size_samples: int = 1536, speech_pad_ms: int = 30, return_seconds: bool = False, visualize_probs: bool = False)>,\n",
       " <function utils_vad.save_audio(path: str, tensor: torch.Tensor, sampling_rate: int = 16000)>,\n",
       " <function utils_vad.read_audio(path: str, sampling_rate: int = 16000)>,\n",
       " utils_vad.VADIterator,\n",
       " <function utils_vad.collect_chunks(tss: List[dict], wav: torch.Tensor)>)"
      ]
     },
     "execution_count": 3,
     "metadata": {},
     "output_type": "execute_result"
    }
   ],
   "source": [
    "utils"
   ]
  },
  {
   "cell_type": "code",
   "execution_count": 6,
   "metadata": {},
   "outputs": [
    {
     "ename": "RuntimeError",
     "evalue": "Tried to serialize object __torch__.HehRecModel which does not have a __getstate__ method defined!",
     "output_type": "error",
     "traceback": [
      "\u001b[0;31m---------------------------------------------------------------------------\u001b[0m",
      "\u001b[0;31mRuntimeError\u001b[0m                              Traceback (most recent call last)",
      "\u001b[1;32m/home/gbarchi/Documentos/Trust/OCEAN-TRUST/draft_notebooks/silero_cache_model.ipynb Cell 3'\u001b[0m in \u001b[0;36m<cell line: 1>\u001b[0;34m()\u001b[0m\n\u001b[0;32m----> <a href='vscode-notebook-cell://ssh-remote%2Bocean/home/gbarchi/Documentos/Trust/OCEAN-TRUST/draft_notebooks/silero_cache_model.ipynb#ch0000002vscode-remote?line=0'>1</a>\u001b[0m torch\u001b[39m.\u001b[39;49msave(model,\u001b[39m'\u001b[39;49m\u001b[39m/home/gbarchi/Documentos/Trust/OCEAN-TRUST/silero_VAD/silero_model.pt\u001b[39;49m\u001b[39m'\u001b[39;49m)\n",
      "File \u001b[0;32m~/anaconda3/envs/ocean_trust/lib/python3.9/site-packages/torch/serialization.py:380\u001b[0m, in \u001b[0;36msave\u001b[0;34m(obj, f, pickle_module, pickle_protocol, _use_new_zipfile_serialization)\u001b[0m\n\u001b[1;32m    <a href='file:///home/gbarchi/anaconda3/envs/ocean_trust/lib/python3.9/site-packages/torch/serialization.py?line=377'>378</a>\u001b[0m \u001b[39mif\u001b[39;00m _use_new_zipfile_serialization:\n\u001b[1;32m    <a href='file:///home/gbarchi/anaconda3/envs/ocean_trust/lib/python3.9/site-packages/torch/serialization.py?line=378'>379</a>\u001b[0m     \u001b[39mwith\u001b[39;00m _open_zipfile_writer(opened_file) \u001b[39mas\u001b[39;00m opened_zipfile:\n\u001b[0;32m--> <a href='file:///home/gbarchi/anaconda3/envs/ocean_trust/lib/python3.9/site-packages/torch/serialization.py?line=379'>380</a>\u001b[0m         _save(obj, opened_zipfile, pickle_module, pickle_protocol)\n\u001b[1;32m    <a href='file:///home/gbarchi/anaconda3/envs/ocean_trust/lib/python3.9/site-packages/torch/serialization.py?line=380'>381</a>\u001b[0m         \u001b[39mreturn\u001b[39;00m\n\u001b[1;32m    <a href='file:///home/gbarchi/anaconda3/envs/ocean_trust/lib/python3.9/site-packages/torch/serialization.py?line=381'>382</a>\u001b[0m _legacy_save(obj, opened_file, pickle_module, pickle_protocol)\n",
      "File \u001b[0;32m~/anaconda3/envs/ocean_trust/lib/python3.9/site-packages/torch/serialization.py:589\u001b[0m, in \u001b[0;36m_save\u001b[0;34m(obj, zip_file, pickle_module, pickle_protocol)\u001b[0m\n\u001b[1;32m    <a href='file:///home/gbarchi/anaconda3/envs/ocean_trust/lib/python3.9/site-packages/torch/serialization.py?line=586'>587</a>\u001b[0m pickler \u001b[39m=\u001b[39m pickle_module\u001b[39m.\u001b[39mPickler(data_buf, protocol\u001b[39m=\u001b[39mpickle_protocol)\n\u001b[1;32m    <a href='file:///home/gbarchi/anaconda3/envs/ocean_trust/lib/python3.9/site-packages/torch/serialization.py?line=587'>588</a>\u001b[0m pickler\u001b[39m.\u001b[39mpersistent_id \u001b[39m=\u001b[39m persistent_id\n\u001b[0;32m--> <a href='file:///home/gbarchi/anaconda3/envs/ocean_trust/lib/python3.9/site-packages/torch/serialization.py?line=588'>589</a>\u001b[0m pickler\u001b[39m.\u001b[39;49mdump(obj)\n\u001b[1;32m    <a href='file:///home/gbarchi/anaconda3/envs/ocean_trust/lib/python3.9/site-packages/torch/serialization.py?line=589'>590</a>\u001b[0m data_value \u001b[39m=\u001b[39m data_buf\u001b[39m.\u001b[39mgetvalue()\n\u001b[1;32m    <a href='file:///home/gbarchi/anaconda3/envs/ocean_trust/lib/python3.9/site-packages/torch/serialization.py?line=590'>591</a>\u001b[0m zip_file\u001b[39m.\u001b[39mwrite_record(\u001b[39m'\u001b[39m\u001b[39mdata.pkl\u001b[39m\u001b[39m'\u001b[39m, data_value, \u001b[39mlen\u001b[39m(data_value))\n",
      "\u001b[0;31mRuntimeError\u001b[0m: Tried to serialize object __torch__.HehRecModel which does not have a __getstate__ method defined!"
     ]
    }
   ],
   "source": [
    "torch.save(model,'/home/gbarchi/Documentos/Trust/OCEAN-TRUST/silero_VAD/silero_model.pt')"
   ]
  },
  {
   "cell_type": "code",
   "execution_count": null,
   "metadata": {},
   "outputs": [],
   "source": []
  }
 ],
 "metadata": {
  "interpreter": {
   "hash": "7c4352535b08b0ba5a093c517927f2ff5ce79f4048c7368ecc703e01d1088a2e"
  },
  "kernelspec": {
   "display_name": "ocean_trust",
   "language": "python",
   "name": "ocean_repo"
  },
  "language_info": {
   "codemirror_mode": {
    "name": "ipython",
    "version": 3
   },
   "file_extension": ".py",
   "mimetype": "text/x-python",
   "name": "python",
   "nbconvert_exporter": "python",
   "pygments_lexer": "ipython3",
   "version": "3.9.12"
  },
  "orig_nbformat": 4
 },
 "nbformat": 4,
 "nbformat_minor": 2
}
