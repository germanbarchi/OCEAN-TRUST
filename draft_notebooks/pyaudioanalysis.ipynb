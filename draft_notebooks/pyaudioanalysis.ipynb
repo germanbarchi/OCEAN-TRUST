{
 "cells": [
  {
   "cell_type": "code",
   "execution_count": 16,
   "metadata": {},
   "outputs": [],
   "source": [
    "from pyAudioAnalysis import ShortTermFeatures\n",
    "from pyAudioAnalysis import MidTermFeatures\n",
    "import librosa\n",
    "import glob\n",
    "import pandas as pd"
   ]
  },
  {
   "cell_type": "code",
   "execution_count": 84,
   "metadata": {},
   "outputs": [],
   "source": [
    "data_paths=glob.glob('/home/gbarchi/Documentos/Trust/Personality/OCEAN_new_structure/data/audio/*/*.wav')"
   ]
  },
  {
   "cell_type": "code",
   "execution_count": 112,
   "metadata": {},
   "outputs": [],
   "source": [
    "def pyaudio_functionals(signal,fs):\n",
    "\n",
    "    y,fs=librosa.core.load(data_paths[0])\n",
    "    F, f_names = ShortTermFeatures.feature_extraction(y, fs, 0.050*fs, 0.025*fs)\n",
    "\n",
    "    df=pd.DataFrame(F.T,columns=f_names)\n",
    "    summary=df.describe()\n",
    "\n",
    "    dict_={}\n",
    "    for name in summary.columns:\n",
    "        dict_feature={name+'_mean':summary.loc['mean',name].copy(),\n",
    "        name+'_std':summary.loc['std',name].copy()}\n",
    "        dict_.update(dict_feature)\n",
    "\n",
    "    functionals=pd.DataFrame.from_dict([dict_])\n",
    "\n",
    "    return functionals"
   ]
  }
 ],
 "metadata": {
  "interpreter": {
   "hash": "8fd582cc0c9c172ef607adea6ca659695142511772b7fc1eb52d452e28110f7c"
  },
  "kernelspec": {
   "display_name": "Python 3.9.12 ('ocean_trust')",
   "language": "python",
   "name": "python3"
  },
  "language_info": {
   "codemirror_mode": {
    "name": "ipython",
    "version": 3
   },
   "file_extension": ".py",
   "mimetype": "text/x-python",
   "name": "python",
   "nbconvert_exporter": "python",
   "pygments_lexer": "ipython3",
   "version": "3.9.12"
  },
  "orig_nbformat": 4
 },
 "nbformat": 4,
 "nbformat_minor": 2
}
