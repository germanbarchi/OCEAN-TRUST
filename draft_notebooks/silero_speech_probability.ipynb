{
 "cells": [
  {
   "cell_type": "code",
   "execution_count": 2,
   "metadata": {},
   "outputs": [],
   "source": [
    "import glob\n",
    "import pandas as pd\n",
    "import seaborn as sns"
   ]
  },
  {
   "cell_type": "code",
   "execution_count": 3,
   "metadata": {},
   "outputs": [],
   "source": [
    "df=pd.read_csv('/home/gbarchi/Documentos/Trust/OCEAN-TRUST/data/metadata/DF_no_speech_yamnet_pred_multi_th.csv')"
   ]
  },
  {
   "cell_type": "code",
   "execution_count": 4,
   "metadata": {},
   "outputs": [
    {
     "data": {
      "text/html": [
       "<div>\n",
       "<style scoped>\n",
       "    .dataframe tbody tr th:only-of-type {\n",
       "        vertical-align: middle;\n",
       "    }\n",
       "\n",
       "    .dataframe tbody tr th {\n",
       "        vertical-align: top;\n",
       "    }\n",
       "\n",
       "    .dataframe thead th {\n",
       "        text-align: right;\n",
       "    }\n",
       "</style>\n",
       "<table border=\"1\" class=\"dataframe\">\n",
       "  <thead>\n",
       "    <tr style=\"text-align: right;\">\n",
       "      <th></th>\n",
       "      <th>filename</th>\n",
       "      <th>pred_th_0.5</th>\n",
       "      <th>pred_th_0.3</th>\n",
       "      <th>pred_th_0.1</th>\n",
       "    </tr>\n",
       "  </thead>\n",
       "  <tbody>\n",
       "    <tr>\n",
       "      <th>0</th>\n",
       "      <td>VZ6jhnbk-5g.000.wav</td>\n",
       "      <td>8.634413e-08</td>\n",
       "      <td>8.634413e-08</td>\n",
       "      <td>8.634413e-08</td>\n",
       "    </tr>\n",
       "    <tr>\n",
       "      <th>1</th>\n",
       "      <td>RtbBc9kI6tE.000.wav</td>\n",
       "      <td>3.891468e-03</td>\n",
       "      <td>1.315951e-03</td>\n",
       "      <td>8.634413e-08</td>\n",
       "    </tr>\n",
       "    <tr>\n",
       "      <th>2</th>\n",
       "      <td>6uqXoPJSoPg.001.wav</td>\n",
       "      <td>8.634413e-08</td>\n",
       "      <td>8.634413e-08</td>\n",
       "      <td>8.634413e-08</td>\n",
       "    </tr>\n",
       "    <tr>\n",
       "      <th>3</th>\n",
       "      <td>4JjpfL4y3XM.003.wav</td>\n",
       "      <td>2.431922e-01</td>\n",
       "      <td>2.933971e-01</td>\n",
       "      <td>8.634413e-08</td>\n",
       "    </tr>\n",
       "    <tr>\n",
       "      <th>4</th>\n",
       "      <td>WRz1F6DqmRQ.001.wav</td>\n",
       "      <td>3.626963e-02</td>\n",
       "      <td>9.210454e-02</td>\n",
       "      <td>8.634413e-08</td>\n",
       "    </tr>\n",
       "    <tr>\n",
       "      <th>...</th>\n",
       "      <td>...</td>\n",
       "      <td>...</td>\n",
       "      <td>...</td>\n",
       "      <td>...</td>\n",
       "    </tr>\n",
       "    <tr>\n",
       "      <th>9993</th>\n",
       "      <td>7ZnijRlK5-E.005.wav</td>\n",
       "      <td>1.301609e-02</td>\n",
       "      <td>1.131567e-02</td>\n",
       "      <td>8.634413e-08</td>\n",
       "    </tr>\n",
       "    <tr>\n",
       "      <th>9994</th>\n",
       "      <td>eZwGkhUa0TQ.002.wav</td>\n",
       "      <td>6.343809e-02</td>\n",
       "      <td>1.778758e-01</td>\n",
       "      <td>1.188836e-01</td>\n",
       "    </tr>\n",
       "    <tr>\n",
       "      <th>9995</th>\n",
       "      <td>HEHMW0uiFa4.001.wav</td>\n",
       "      <td>7.954688e-01</td>\n",
       "      <td>5.991518e-01</td>\n",
       "      <td>4.833292e-01</td>\n",
       "    </tr>\n",
       "    <tr>\n",
       "      <th>9996</th>\n",
       "      <td>simc6hmrUOE.001.wav</td>\n",
       "      <td>4.150459e-01</td>\n",
       "      <td>3.467738e-01</td>\n",
       "      <td>8.725315e-03</td>\n",
       "    </tr>\n",
       "    <tr>\n",
       "      <th>9997</th>\n",
       "      <td>sDWJMBZ1mVA.004.wav</td>\n",
       "      <td>1.724246e-01</td>\n",
       "      <td>1.222209e-02</td>\n",
       "      <td>1.567707e-05</td>\n",
       "    </tr>\n",
       "  </tbody>\n",
       "</table>\n",
       "<p>9998 rows × 4 columns</p>\n",
       "</div>"
      ],
      "text/plain": [
       "                 filename   pred_th_0.5   pred_th_0.3   pred_th_0.1\n",
       "0     VZ6jhnbk-5g.000.wav  8.634413e-08  8.634413e-08  8.634413e-08\n",
       "1     RtbBc9kI6tE.000.wav  3.891468e-03  1.315951e-03  8.634413e-08\n",
       "2     6uqXoPJSoPg.001.wav  8.634413e-08  8.634413e-08  8.634413e-08\n",
       "3     4JjpfL4y3XM.003.wav  2.431922e-01  2.933971e-01  8.634413e-08\n",
       "4     WRz1F6DqmRQ.001.wav  3.626963e-02  9.210454e-02  8.634413e-08\n",
       "...                   ...           ...           ...           ...\n",
       "9993  7ZnijRlK5-E.005.wav  1.301609e-02  1.131567e-02  8.634413e-08\n",
       "9994  eZwGkhUa0TQ.002.wav  6.343809e-02  1.778758e-01  1.188836e-01\n",
       "9995  HEHMW0uiFa4.001.wav  7.954688e-01  5.991518e-01  4.833292e-01\n",
       "9996  simc6hmrUOE.001.wav  4.150459e-01  3.467738e-01  8.725315e-03\n",
       "9997  sDWJMBZ1mVA.004.wav  1.724246e-01  1.222209e-02  1.567707e-05\n",
       "\n",
       "[9998 rows x 4 columns]"
      ]
     },
     "execution_count": 4,
     "metadata": {},
     "output_type": "execute_result"
    }
   ],
   "source": [
    "df"
   ]
  },
  {
   "cell_type": "code",
   "execution_count": 5,
   "metadata": {},
   "outputs": [],
   "source": [
    "th_50=df[df['pred_th_0.5']<0.01].shape[0]\n",
    "th_30=df[df['pred_th_0.3']<0.01].shape[0]\n",
    "th_10=df[df['pred_th_0.1']<0.01].shape[0]"
   ]
  },
  {
   "cell_type": "code",
   "execution_count": 6,
   "metadata": {},
   "outputs": [
    {
     "name": "stdout",
     "output_type": "stream",
     "text": [
      "Threshold 0.1 & pred < 0.01: 6922\n",
      "Threshold 0.3 & pred < 0.01: 2319\n",
      "Threshold 0.5 & pred < 0.01: 1399\n"
     ]
    }
   ],
   "source": [
    "print('Threshold 0.1 & pred < 0.01: %d\\nThreshold 0.3 & pred < 0.01: %d\\nThreshold 0.5 & pred < 0.01: %d' % (th_10,th_30,th_50))"
   ]
  },
  {
   "cell_type": "code",
   "execution_count": 7,
   "metadata": {},
   "outputs": [
    {
     "data": {
      "text/plain": [
       "<AxesSubplot:xlabel='pred_th_0.1', ylabel='Count'>"
      ]
     },
     "execution_count": 7,
     "metadata": {},
     "output_type": "execute_result"
    },
    {
     "data": {
      "image/png": "[encoded data removed]",
      "text/plain": [
       "<Figure size 432x288 with 1 Axes>"
      ]
     },
     "metadata": {
      "needs_background": "light"
     },
     "output_type": "display_data"
    }
   ],
   "source": [
    "sns.histplot(df['pred_th_0.1'])"
   ]
  },
  {
   "cell_type": "code",
   "execution_count": 8,
   "metadata": {},
   "outputs": [
    {
     "data": {
      "text/plain": [
       "<AxesSubplot:xlabel='pred_th_0.3', ylabel='Count'>"
      ]
     },
     "execution_count": 8,
     "metadata": {},
     "output_type": "execute_result"
    },
    {
     "data": {
      "image/png": "[encoded data removed]",
      "text/plain": [
       "<Figure size 432x288 with 1 Axes>"
      ]
     },
     "metadata": {
      "needs_background": "light"
     },
     "output_type": "display_data"
    }
   ],
   "source": [
    "sns.histplot(df['pred_th_0.3'])"
   ]
  },
  {
   "cell_type": "code",
   "execution_count": 9,
   "metadata": {},
   "outputs": [
    {
     "data": {
      "text/plain": [
       "<AxesSubplot:xlabel='pred_th_0.5', ylabel='Count'>"
      ]
     },
     "execution_count": 9,
     "metadata": {},
     "output_type": "execute_result"
    },
    {
     "data": {
      "image/png": "[encoded data removed]",
      "text/plain": [
       "<Figure size 432x288 with 1 Axes>"
      ]
     },
     "metadata": {
      "needs_background": "light"
     },
     "output_type": "display_data"
    }
   ],
   "source": [
    "sns.histplot(df['pred_th_0.5'])"
   ]
  },
  {
   "cell_type": "code",
   "execution_count": 28,
   "metadata": {},
   "outputs": [],
   "source": [
    "df_10=pd.read_csv('/home/gbarchi/Documentos/Trust/OCEAN-TRUST/data/features/egemaps_silero_no_speech_th_0.1.csv')\n",
    "df_30=pd.read_csv('/home/gbarchi/Documentos/Trust/OCEAN-TRUST/data/features/egemaps_silero_no_speech_th_0.3.csv')\n",
    "df_50=pd.read_csv('/home/gbarchi/Documentos/Trust/OCEAN-TRUST/data/features/new_partitions-egemaps_silero_no_speech.csv')\n",
    "\n",
    "df_10=pd.merge(df,df_10,right_on='Name',left_on='filename').drop(columns=['pred_th_0.5','pred_th_0.3'])\n",
    "df_30=pd.merge(df,df_30,right_on='Name',left_on='filename').drop(columns=['pred_th_0.5','pred_th_0.1'])\n",
    "df_50=pd.merge(df,df_50,right_on='Name',left_on='filename').drop(columns=['pred_th_0.3','pred_th_0.1'])\n",
    "\n",
    "df_50=df_50[df_50['pred_th_0.5']<0.01]\n",
    "df_30=df_30[df_30['pred_th_0.3']<0.01]\n",
    "df_10=df_10[df_10['pred_th_0.1']<0.01]"
   ]
  },
  {
   "cell_type": "code",
   "execution_count": 36,
   "metadata": {},
   "outputs": [
    {
     "name": "stdout",
     "output_type": "stream",
     "text": [
      "Threshold 0.5 - Speech prob < 0.01\n",
      "N samples: 1399\n",
      "NaN: 0\n",
      "Threshold 0.3 - Speech prob < 0.01\n",
      "N samples: 2319\n",
      "NaN: 836\n",
      "Threshold 0.1 - Speech prob < 0.01\n",
      "N samples: 6922\n",
      "NaN: 6186\n"
     ]
    }
   ],
   "source": [
    "print('Threshold 0.5 - Speech prob < 0.01\\nN samples: %d\\nNaN: %d' % (df_50.shape[0],df_50['F0semitoneFrom27.5Hz_sma3nz_amean'].isna().sum()))\n",
    "print('Threshold 0.3 - Speech prob < 0.01\\nN samples: %d\\nNaN: %d' % (df_30.shape[0],df_30['F0semitoneFrom27.5Hz_sma3nz_amean'].isna().sum()))\n",
    "print('Threshold 0.1 - Speech prob < 0.01\\nN samples: %d\\nNaN: %d' % (df_10.shape[0],df_10['F0semitoneFrom27.5Hz_sma3nz_amean'].isna().sum()))"
   ]
  }
 ],
 "metadata": {
  "kernelspec": {
   "display_name": "ocean-trust",
   "language": "python",
   "name": "ocean_trust"
  },
  "language_info": {
   "codemirror_mode": {
    "name": "ipython",
    "version": 3
   },
   "file_extension": ".py",
   "mimetype": "text/x-python",
   "name": "python",
   "nbconvert_exporter": "python",
   "pygments_lexer": "ipython3",
   "version": "3.9.12"
  },
  "orig_nbformat": 4
 },
 "nbformat": 4,
 "nbformat_minor": 2
}
