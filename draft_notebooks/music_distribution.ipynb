{
 "cells": [
  {
   "cell_type": "code",
   "execution_count": 69,
   "metadata": {},
   "outputs": [],
   "source": [
    "import glob\n",
    "import numpy as np\n",
    "import pandas as pd\n",
    "import seaborn as sns\n",
    "import warnings \n",
    "import matplotlib.pyplot as plt"
   ]
  },
  {
   "cell_type": "code",
   "execution_count": 18,
   "metadata": {},
   "outputs": [],
   "source": [
    "classes=np.load('/home/gbarchi/Documentos/Trust/OCEAN-TRUST/experiments/temp/yamnet_classes.npy')"
   ]
  },
  {
   "cell_type": "code",
   "execution_count": 75,
   "metadata": {},
   "outputs": [],
   "source": [
    "df=pd.DataFrame()\n",
    "files=glob.glob('/home/gbarchi/Documentos/Trust/OCEAN-TRUST/data/yamnet/classifyier_results_all/*/*')\n",
    "\n",
    "for i,path in enumerate(files):\n",
    "    filename=path.split('/')[-1].replace('.npy','.wav')\n",
    "    mean_preds=np.mean(np.load(path),axis=0)\n",
    "    music_prob=mean_preds[list(classes).index('Music')]\n",
    "    \n",
    "    df.loc[i,'filename']=filename\n",
    "    df.loc[i,'music_prob']=music_prob\n",
    "\n",
    "    if music_prob < 0.1:\n",
    "        df.loc[i,'< 0.1']=1\n",
    "    if music_prob < 0.2:\n",
    "        df.loc[i,'< 0.2']=1\n",
    "    "
   ]
  },
  {
   "cell_type": "code",
   "execution_count": 95,
   "metadata": {},
   "outputs": [
    {
     "data": {
      "text/plain": [
       "<AxesSubplot:>"
      ]
     },
     "execution_count": 95,
     "metadata": {},
     "output_type": "execute_result"
    },
    {
     "data": {
      "image/png": "[encoded data removed]",
      "text/plain": [
       "<Figure size 432x288 with 1 Axes>"
      ]
     },
     "metadata": {
      "needs_background": "light"
     },
     "output_type": "display_data"
    }
   ],
   "source": [
    "df['music_prob'].hist(bins=100)"
   ]
  },
  {
   "cell_type": "code",
   "execution_count": 96,
   "metadata": {},
   "outputs": [
    {
     "name": "stdout",
     "output_type": "stream",
     "text": [
      "Music probability < 0.1: 8335\n",
      "Music probability < 0.2: 8908\n",
      "Music probability > 0.1: 1665\n",
      "Music probability > 0.2: 1092\n"
     ]
    }
   ],
   "source": [
    "print('Music probability < 0.1: %d' % (np.sum(df['< 0.1'])))\n",
    "print('Music probability < 0.2: %d' % (np.sum(df['< 0.2'])))\n",
    "print('Music probability > 0.1: %d' % (10000-np.sum(df['< 0.1'])))\n",
    "print('Music probability > 0.2: %d' % (10000-np.sum(df['< 0.2'])))"
   ]
  },
  {
   "cell_type": "markdown",
   "metadata": {},
   "source": [
    "Music classes 134 a 276"
   ]
  },
  {
   "cell_type": "markdown",
   "metadata": {},
   "source": [
    "Speech classes [0:45] + 51,53,54"
   ]
  },
  {
   "cell_type": "code",
   "execution_count": 59,
   "metadata": {},
   "outputs": [],
   "source": [
    "df=pd.DataFrame.from_dict(list(dict_.items()))"
   ]
  },
  {
   "cell_type": "code",
   "execution_count": 70,
   "metadata": {},
   "outputs": [
    {
     "data": {
      "text/plain": [
       "<AxesSubplot:xlabel='1', ylabel='Density'>"
      ]
     },
     "execution_count": 70,
     "metadata": {},
     "output_type": "execute_result"
    },
    {
     "data": {
      "image/png": "[encoded data removed]",
      "text/plain": [
       "<Figure size 648x432 with 1 Axes>"
      ]
     },
     "metadata": {
      "needs_background": "light"
     },
     "output_type": "display_data"
    }
   ],
   "source": [
    "warnings.filterwarnings('ignore')\n",
    "plt.figure(figsize=(9, 6))\n",
    "sns.distplot(df[1], hist = False, kde = True, kde_kws={\"shade\": True})"
   ]
  }
 ],
 "metadata": {
  "kernelspec": {
   "display_name": "Python 3.9.12 ('ocean_trust')",
   "language": "python",
   "name": "python3"
  },
  "language_info": {
   "codemirror_mode": {
    "name": "ipython",
    "version": 3
   },
   "file_extension": ".py",
   "mimetype": "text/x-python",
   "name": "python",
   "nbconvert_exporter": "python",
   "pygments_lexer": "ipython3",
   "version": "3.9.12"
  },
  "orig_nbformat": 4,
  "vscode": {
   "interpreter": {
    "hash": "8fd582cc0c9c172ef607adea6ca659695142511772b7fc1eb52d452e28110f7c"
   }
  }
 },
 "nbformat": 4,
 "nbformat_minor": 2
}
