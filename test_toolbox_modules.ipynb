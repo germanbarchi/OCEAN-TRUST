{
 "cells": [
  {
   "cell_type": "code",
   "execution_count": 1,
   "metadata": {},
   "outputs": [],
   "source": [
    "import sys\n",
    "import matplotlib.pyplot as plt\n",
    "import librosa \n",
    "import glob\n",
    "\n",
    "from silero_VAD import silero\n"
   ]
  },
  {
   "cell_type": "code",
   "execution_count": 2,
   "metadata": {},
   "outputs": [
    {
     "data": {
      "text/plain": [
       "<module 'silero_VAD.silero' from '/home/gbarchi/Documentos/Trust/OCEAN-TRUST/silero_VAD/silero.py'>"
      ]
     },
     "execution_count": 2,
     "metadata": {},
     "output_type": "execute_result"
    }
   ],
   "source": [
    "import importlib\n",
    "importlib.reload(silero)"
   ]
  },
  {
   "cell_type": "code",
   "execution_count": 3,
   "metadata": {},
   "outputs": [],
   "source": [
    "audio_dir='/home/gbarchi/Documentos/Trust/Personality/OCEAN_new_structure/data/audio'"
   ]
  },
  {
   "cell_type": "code",
   "execution_count": 14,
   "metadata": {},
   "outputs": [
    {
     "data": {
      "text/plain": [
       "['/home/gbarchi/Documentos/Trust/Personality/OCEAN_new_structure/data/audio/Train/KRo-x2uoHUg.003.wav',\n",
       " '/home/gbarchi/Documentos/Trust/Personality/OCEAN_new_structure/data/audio/Test/KRo-x2uoHUg.002.wav']"
      ]
     },
     "execution_count": 14,
     "metadata": {},
     "output_type": "execute_result"
    }
   ],
   "source": [
    "dirs"
   ]
  },
  {
   "cell_type": "code",
   "execution_count": 11,
   "metadata": {},
   "outputs": [],
   "source": [
    "dirs=glob.glob(audio_dir+'/*/KRo-x2uoHUg*.wav')"
   ]
  }
 ],
 "metadata": {
  "interpreter": {
   "hash": "1078d5f0efb103a1d95d034e98a6d62f512288f02a49a5286047e520bc13ef63"
  },
  "kernelspec": {
   "display_name": "ocean_trust",
   "language": "python",
   "name": "ocean_repo"
  },
  "language_info": {
   "codemirror_mode": {
    "name": "ipython",
    "version": 3
   },
   "file_extension": ".py",
   "mimetype": "text/x-python",
   "name": "python",
   "nbconvert_exporter": "python",
   "pygments_lexer": "ipython3",
   "version": "3.9.12"
  },
  "orig_nbformat": 4,
  "vscode": {
   "interpreter": {
    "hash": "8fd582cc0c9c172ef607adea6ca659695142511772b7fc1eb52d452e28110f7c"
   }
  }
 },
 "nbformat": 4,
 "nbformat_minor": 2
}
