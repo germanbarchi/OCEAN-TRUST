{
 "cells": [
  {
   "cell_type": "code",
   "execution_count": 1,
   "metadata": {},
   "outputs": [],
   "source": [
    "import seaborn as sns\n",
    "import pandas as pd\n",
    "import matplotlib.pyplot as plt\n",
    "import glob\n",
    "import pickle\n",
    "import numpy as np"
   ]
  },
  {
   "cell_type": "markdown",
   "metadata": {},
   "source": [
    "# Table 2"
   ]
  },
  {
   "cell_type": "code",
   "execution_count": 8,
   "metadata": {},
   "outputs": [
    {
     "name": "stderr",
     "output_type": "stream",
     "text": [
      "/tmp/ipykernel_4297/3487360905.py:20: SettingWithCopyWarning: \n",
      "A value is trying to be set on a copy of a slice from a DataFrame.\n",
      "Try using .loc[row_indexer,col_indexer] = value instead\n",
      "\n",
      "See the caveats in the documentation: https://pandas.pydata.org/pandas-docs/stable/user_guide/indexing.html#returning-a-view-versus-a-copy\n",
      "  s_best.loc[:,'top_n_features']='best'\n",
      "/tmp/ipykernel_4297/3487360905.py:28: SettingWithCopyWarning: \n",
      "A value is trying to be set on a copy of a slice from a DataFrame.\n",
      "Try using .loc[row_indexer,col_indexer] = value instead\n",
      "\n",
      "See the caveats in the documentation: https://pandas.pydata.org/pandas-docs/stable/user_guide/indexing.html#returning-a-view-versus-a-copy\n",
      "  f_best.loc[:,'top_n_features']='best'\n",
      "/tmp/ipykernel_4297/3487360905.py:20: SettingWithCopyWarning: \n",
      "A value is trying to be set on a copy of a slice from a DataFrame.\n",
      "Try using .loc[row_indexer,col_indexer] = value instead\n",
      "\n",
      "See the caveats in the documentation: https://pandas.pydata.org/pandas-docs/stable/user_guide/indexing.html#returning-a-view-versus-a-copy\n",
      "  s_best.loc[:,'top_n_features']='best'\n",
      "/tmp/ipykernel_4297/3487360905.py:28: SettingWithCopyWarning: \n",
      "A value is trying to be set on a copy of a slice from a DataFrame.\n",
      "Try using .loc[row_indexer,col_indexer] = value instead\n",
      "\n",
      "See the caveats in the documentation: https://pandas.pydata.org/pandas-docs/stable/user_guide/indexing.html#returning-a-view-versus-a-copy\n",
      "  f_best.loc[:,'top_n_features']='best'\n",
      "/tmp/ipykernel_4297/3487360905.py:20: SettingWithCopyWarning: \n",
      "A value is trying to be set on a copy of a slice from a DataFrame.\n",
      "Try using .loc[row_indexer,col_indexer] = value instead\n",
      "\n",
      "See the caveats in the documentation: https://pandas.pydata.org/pandas-docs/stable/user_guide/indexing.html#returning-a-view-versus-a-copy\n",
      "  s_best.loc[:,'top_n_features']='best'\n",
      "/tmp/ipykernel_4297/3487360905.py:28: SettingWithCopyWarning: \n",
      "A value is trying to be set on a copy of a slice from a DataFrame.\n",
      "Try using .loc[row_indexer,col_indexer] = value instead\n",
      "\n",
      "See the caveats in the documentation: https://pandas.pydata.org/pandas-docs/stable/user_guide/indexing.html#returning-a-view-versus-a-copy\n",
      "  f_best.loc[:,'top_n_features']='best'\n",
      "/tmp/ipykernel_4297/3487360905.py:20: SettingWithCopyWarning: \n",
      "A value is trying to be set on a copy of a slice from a DataFrame.\n",
      "Try using .loc[row_indexer,col_indexer] = value instead\n",
      "\n",
      "See the caveats in the documentation: https://pandas.pydata.org/pandas-docs/stable/user_guide/indexing.html#returning-a-view-versus-a-copy\n",
      "  s_best.loc[:,'top_n_features']='best'\n",
      "/tmp/ipykernel_4297/3487360905.py:28: SettingWithCopyWarning: \n",
      "A value is trying to be set on a copy of a slice from a DataFrame.\n",
      "Try using .loc[row_indexer,col_indexer] = value instead\n",
      "\n",
      "See the caveats in the documentation: https://pandas.pydata.org/pandas-docs/stable/user_guide/indexing.html#returning-a-view-versus-a-copy\n",
      "  f_best.loc[:,'top_n_features']='best'\n",
      "/tmp/ipykernel_4297/3487360905.py:20: SettingWithCopyWarning: \n",
      "A value is trying to be set on a copy of a slice from a DataFrame.\n",
      "Try using .loc[row_indexer,col_indexer] = value instead\n",
      "\n",
      "See the caveats in the documentation: https://pandas.pydata.org/pandas-docs/stable/user_guide/indexing.html#returning-a-view-versus-a-copy\n",
      "  s_best.loc[:,'top_n_features']='best'\n",
      "/tmp/ipykernel_4297/3487360905.py:28: SettingWithCopyWarning: \n",
      "A value is trying to be set on a copy of a slice from a DataFrame.\n",
      "Try using .loc[row_indexer,col_indexer] = value instead\n",
      "\n",
      "See the caveats in the documentation: https://pandas.pydata.org/pandas-docs/stable/user_guide/indexing.html#returning-a-view-versus-a-copy\n",
      "  f_best.loc[:,'top_n_features']='best'\n"
     ]
    }
   ],
   "source": [
    "def rank (df_path):\n",
    "    df=pd.read_csv(df_path)\n",
    "    df=df.rename(columns={'r2_fold':'r2_cv_mean'})\n",
    "\n",
    "    for i,value in df.iterrows():\n",
    "        df.loc[i,'n_groups']=len(value['feature'].split('+'))\n",
    "        df.loc[i,'missing']='+'.join(list(set(names).difference(set(df.loc[i,'feature'].split('+')))))\n",
    "\n",
    "    rank_df_full=pd.DataFrame(df[(df['fold']==0)&(df['audio_type']=='full')].groupby(['feature','n_groups','trait','audio_type','missing'])['r2_cv_mean'].mean().sort_values(ascending=False)).reset_index()\n",
    "    rank_df_speech=pd.DataFrame(df[(df['fold']==0)&(df['audio_type']=='speech')].groupby(['feature','n_groups','trait','audio_type','missing'])['r2_cv_mean'].mean().sort_values(ascending=False)).reset_index()\n",
    "\n",
    "    \n",
    "    s1=rank_df_speech[rank_df_speech['n_groups']==1].head(1)\n",
    "    s1.loc[:,'top_n_features']='top_1'\n",
    "    s2=rank_df_speech[rank_df_speech['n_groups']==2].head(1)\n",
    "    s2.loc[:,'top_n_features']='top_2'\n",
    "    s3=rank_df_speech[rank_df_speech['n_groups']==3].head(1)\n",
    "    s3.loc[:,'top_n_features']='top_3'\n",
    "    s_best=rank_df_speech.head(1)\n",
    "    s_best.loc[:,'top_n_features']='best'\n",
    "    f1=rank_df_full[rank_df_full['n_groups']==1].head(1)\n",
    "    f1.loc[:,'top_n_features']='top_1'\n",
    "    f2=rank_df_full[rank_df_full['n_groups']==2].head(1)\n",
    "    f2.loc[:,'top_n_features']='top_2'\n",
    "    f3=rank_df_full[rank_df_full['n_groups']==3].head(1)\n",
    "    f3.loc[:,'top_n_features']='top_3'\n",
    "    f_best=rank_df_full.head(1)\n",
    "    f_best.loc[:,'top_n_features']='best'\n",
    "\n",
    "    rank=pd.concat([s1,s2,s3,s_best,f1,f2,f3,f_best])\n",
    "\n",
    "    return rank\n",
    "\n",
    "names=['sr',\n",
    " 'frequency',\n",
    " 'energy',\n",
    " 'spectral',\n",
    " 'spectral_voiced',\n",
    " 'unvoiced',\n",
    " 'temporal']\n",
    "\n",
    "rank_o=rank('data/Table_2/importance_final_o/results.csv')\n",
    "rank_c=rank('data/Table_2/importance_final_c/results.csv')\n",
    "rank_e=rank('data/Table_2/importance_final_e/results.csv')\n",
    "rank_a=rank('data/Table_2/importance_final_a/results.csv')\n",
    "rank_n=rank('data/Table_2/importance_final_n/results.csv')\n",
    "\n",
    "final_rank=pd.concat([rank_o,rank_c,rank_e,rank_a,rank_n])\n",
    "\n",
    "final_rank_full=pd.melt(final_rank[final_rank['audio_type']=='full'], id_vars=['trait','top_n_features','feature'], value_vars='r2_cv_mean').drop(columns='variable').rename(columns={'value':'r2'})\n",
    "final_rank_speech=pd.melt(final_rank[final_rank['audio_type']=='speech'], id_vars=['trait','top_n_features','feature'], value_vars='r2_cv_mean').drop(columns='variable').rename(columns={'value':'r2'})"
   ]
  },
  {
   "cell_type": "code",
   "execution_count": 9,
   "metadata": {},
   "outputs": [
    {
     "data": {
      "text/html": [
       "<div>\n",
       "<style scoped>\n",
       "    .dataframe tbody tr th:only-of-type {\n",
       "        vertical-align: middle;\n",
       "    }\n",
       "\n",
       "    .dataframe tbody tr th {\n",
       "        vertical-align: top;\n",
       "    }\n",
       "\n",
       "    .dataframe thead th {\n",
       "        text-align: right;\n",
       "    }\n",
       "</style>\n",
       "<table border=\"1\" class=\"dataframe\">\n",
       "  <thead>\n",
       "    <tr style=\"text-align: right;\">\n",
       "      <th></th>\n",
       "      <th>trait</th>\n",
       "      <th>top_n_features</th>\n",
       "      <th>feature</th>\n",
       "      <th>r2</th>\n",
       "    </tr>\n",
       "  </thead>\n",
       "  <tbody>\n",
       "    <tr>\n",
       "      <th>0</th>\n",
       "      <td>openness</td>\n",
       "      <td>top_1</td>\n",
       "      <td>spectral</td>\n",
       "      <td>0.117807</td>\n",
       "    </tr>\n",
       "    <tr>\n",
       "      <th>1</th>\n",
       "      <td>openness</td>\n",
       "      <td>top_2</td>\n",
       "      <td>sr+spectral</td>\n",
       "      <td>0.186648</td>\n",
       "    </tr>\n",
       "    <tr>\n",
       "      <th>2</th>\n",
       "      <td>openness</td>\n",
       "      <td>top_3</td>\n",
       "      <td>sr+frequency+spectral_voiced</td>\n",
       "      <td>0.214292</td>\n",
       "    </tr>\n",
       "    <tr>\n",
       "      <th>3</th>\n",
       "      <td>openness</td>\n",
       "      <td>best</td>\n",
       "      <td>sr+frequency+energy+spectral+spectral_voiced+t...</td>\n",
       "      <td>0.217543</td>\n",
       "    </tr>\n",
       "    <tr>\n",
       "      <th>4</th>\n",
       "      <td>conscientiousness</td>\n",
       "      <td>top_1</td>\n",
       "      <td>frequency</td>\n",
       "      <td>0.065973</td>\n",
       "    </tr>\n",
       "    <tr>\n",
       "      <th>5</th>\n",
       "      <td>conscientiousness</td>\n",
       "      <td>top_2</td>\n",
       "      <td>sr+frequency</td>\n",
       "      <td>0.175263</td>\n",
       "    </tr>\n",
       "    <tr>\n",
       "      <th>6</th>\n",
       "      <td>conscientiousness</td>\n",
       "      <td>top_3</td>\n",
       "      <td>sr+frequency+energy</td>\n",
       "      <td>0.192443</td>\n",
       "    </tr>\n",
       "    <tr>\n",
       "      <th>7</th>\n",
       "      <td>conscientiousness</td>\n",
       "      <td>best</td>\n",
       "      <td>sr+frequency+energy+spectral_voiced+temporal</td>\n",
       "      <td>0.197318</td>\n",
       "    </tr>\n",
       "    <tr>\n",
       "      <th>8</th>\n",
       "      <td>extraversion</td>\n",
       "      <td>top_1</td>\n",
       "      <td>frequency</td>\n",
       "      <td>0.126566</td>\n",
       "    </tr>\n",
       "    <tr>\n",
       "      <th>9</th>\n",
       "      <td>extraversion</td>\n",
       "      <td>top_2</td>\n",
       "      <td>sr+frequency</td>\n",
       "      <td>0.184443</td>\n",
       "    </tr>\n",
       "    <tr>\n",
       "      <th>10</th>\n",
       "      <td>extraversion</td>\n",
       "      <td>top_3</td>\n",
       "      <td>sr+frequency+spectral_voiced</td>\n",
       "      <td>0.215799</td>\n",
       "    </tr>\n",
       "    <tr>\n",
       "      <th>11</th>\n",
       "      <td>extraversion</td>\n",
       "      <td>best</td>\n",
       "      <td>sr+frequency+spectral+spectral_voiced+unvoiced...</td>\n",
       "      <td>0.218786</td>\n",
       "    </tr>\n",
       "    <tr>\n",
       "      <th>12</th>\n",
       "      <td>agreeableness</td>\n",
       "      <td>top_1</td>\n",
       "      <td>energy</td>\n",
       "      <td>0.023297</td>\n",
       "    </tr>\n",
       "    <tr>\n",
       "      <th>13</th>\n",
       "      <td>agreeableness</td>\n",
       "      <td>top_2</td>\n",
       "      <td>sr+spectral</td>\n",
       "      <td>0.102336</td>\n",
       "    </tr>\n",
       "    <tr>\n",
       "      <th>14</th>\n",
       "      <td>agreeableness</td>\n",
       "      <td>top_3</td>\n",
       "      <td>sr+frequency+spectral_voiced</td>\n",
       "      <td>0.115038</td>\n",
       "    </tr>\n",
       "    <tr>\n",
       "      <th>15</th>\n",
       "      <td>agreeableness</td>\n",
       "      <td>best</td>\n",
       "      <td>sr+frequency+energy+spectral+spectral_voiced+t...</td>\n",
       "      <td>0.122397</td>\n",
       "    </tr>\n",
       "    <tr>\n",
       "      <th>16</th>\n",
       "      <td>neuroticism</td>\n",
       "      <td>top_1</td>\n",
       "      <td>energy</td>\n",
       "      <td>0.100970</td>\n",
       "    </tr>\n",
       "    <tr>\n",
       "      <th>17</th>\n",
       "      <td>neuroticism</td>\n",
       "      <td>top_2</td>\n",
       "      <td>sr+spectral_voiced</td>\n",
       "      <td>0.204880</td>\n",
       "    </tr>\n",
       "    <tr>\n",
       "      <th>18</th>\n",
       "      <td>neuroticism</td>\n",
       "      <td>top_3</td>\n",
       "      <td>sr+frequency+spectral_voiced</td>\n",
       "      <td>0.228793</td>\n",
       "    </tr>\n",
       "    <tr>\n",
       "      <th>19</th>\n",
       "      <td>neuroticism</td>\n",
       "      <td>best</td>\n",
       "      <td>sr+frequency+spectral+spectral_voiced+unvoiced...</td>\n",
       "      <td>0.235734</td>\n",
       "    </tr>\n",
       "  </tbody>\n",
       "</table>\n",
       "</div>"
      ],
      "text/plain": [
       "                trait top_n_features  \\\n",
       "0            openness          top_1   \n",
       "1            openness          top_2   \n",
       "2            openness          top_3   \n",
       "3            openness           best   \n",
       "4   conscientiousness          top_1   \n",
       "5   conscientiousness          top_2   \n",
       "6   conscientiousness          top_3   \n",
       "7   conscientiousness           best   \n",
       "8        extraversion          top_1   \n",
       "9        extraversion          top_2   \n",
       "10       extraversion          top_3   \n",
       "11       extraversion           best   \n",
       "12      agreeableness          top_1   \n",
       "13      agreeableness          top_2   \n",
       "14      agreeableness          top_3   \n",
       "15      agreeableness           best   \n",
       "16        neuroticism          top_1   \n",
       "17        neuroticism          top_2   \n",
       "18        neuroticism          top_3   \n",
       "19        neuroticism           best   \n",
       "\n",
       "                                              feature        r2  \n",
       "0                                            spectral  0.117807  \n",
       "1                                         sr+spectral  0.186648  \n",
       "2                        sr+frequency+spectral_voiced  0.214292  \n",
       "3   sr+frequency+energy+spectral+spectral_voiced+t...  0.217543  \n",
       "4                                           frequency  0.065973  \n",
       "5                                        sr+frequency  0.175263  \n",
       "6                                 sr+frequency+energy  0.192443  \n",
       "7        sr+frequency+energy+spectral_voiced+temporal  0.197318  \n",
       "8                                           frequency  0.126566  \n",
       "9                                        sr+frequency  0.184443  \n",
       "10                       sr+frequency+spectral_voiced  0.215799  \n",
       "11  sr+frequency+spectral+spectral_voiced+unvoiced...  0.218786  \n",
       "12                                             energy  0.023297  \n",
       "13                                        sr+spectral  0.102336  \n",
       "14                       sr+frequency+spectral_voiced  0.115038  \n",
       "15  sr+frequency+energy+spectral+spectral_voiced+t...  0.122397  \n",
       "16                                             energy  0.100970  \n",
       "17                                 sr+spectral_voiced  0.204880  \n",
       "18                       sr+frequency+spectral_voiced  0.228793  \n",
       "19  sr+frequency+spectral+spectral_voiced+unvoiced...  0.235734  "
      ]
     },
     "execution_count": 9,
     "metadata": {},
     "output_type": "execute_result"
    }
   ],
   "source": [
    "final_rank_speech"
   ]
  },
  {
   "cell_type": "markdown",
   "metadata": {},
   "source": [
    "# Figure 1"
   ]
  },
  {
   "cell_type": "markdown",
   "metadata": {},
   "source": [
    "Random forest results. Features: egemaps y RF"
   ]
  },
  {
   "cell_type": "code",
   "execution_count": 10,
   "metadata": {},
   "outputs": [],
   "source": [
    "Figure_1_1=pd.read_csv('data/Figure_1_1/results_bootstrapping.csv')\n",
    "Figure_1_2=pd.read_csv('data/Figure_1_2/results_bootstrapping.csv')"
   ]
  },
  {
   "cell_type": "code",
   "execution_count": 11,
   "metadata": {},
   "outputs": [],
   "source": [
    "feature_comparison_all_vs_speech=pd.concat([Figure_1_1,Figure_1_2])"
   ]
  },
  {
   "cell_type": "code",
   "execution_count": 12,
   "metadata": {},
   "outputs": [],
   "source": [
    "with open ('data/final_exps.pkl','rb') as file:\n",
    "    final_results=pickle.load(file)\n",
    "\n",
    "dict_={'w2v2_official':'DNN_w2v2-full wav-original',\n",
    "    'w2v2':'DNN_w2v2-full wav-stratified',\n",
    "    'so_w2v2_dnn':'DNN_w2v2-speech_only-stratified',    \n",
    "    'rf_w2v2':'RF_w2v2-full wav-stratified',\n",
    "    'rf_w2v2_sr':'RF_w2v2+sr-full wav-stratified',\n",
    "    'rf_w2v2_sr_egemaps':'RF_w2v2+sr+egemaps-full wav-stratified',\n",
    "    'so_w2v2_rf':'RF_w2v2-speech_only-stratified',\n",
    "    'so_w2v2_sr_rf':'RF_w2v2+sr-speech_only-stratified',\n",
    "    'so_w2v2_sr_egemaps_rf':'RF_w2v2+sr+egemaps-speech_only-stratified',\n",
    "    'rf_w2v2_lld_sr_official':'RF_w2v2+sr+egemaps-full wav-original'\n",
    "    }\n",
    "\n",
    "results=dict((dict_[key], value) for (key, value) in final_results.items())\n",
    "\n",
    "final_df=pd.DataFrame({})\n",
    "for key in results.keys():\n",
    "    model_data=key.split('-')\n",
    "    enaco=pd.DataFrame(results[key],columns=['extraversion','neuroticism','agreeableness','conscientiousness','openness'])\n",
    "    enaco['r2_mean']=enaco.mean(axis=1)\n",
    "    enaco.loc[:,'model_feature']=model_data[0]\n",
    "    enaco.loc[:,'audio']=model_data[1]\n",
    "    enaco.loc[:,'split']=model_data[2]\n",
    "    final_df=pd.concat([final_df,enaco])\n",
    "final_df['audio']=final_df['audio'].apply(lambda x: x.replace('_','-'))"
   ]
  },
  {
   "cell_type": "code",
   "execution_count": 13,
   "metadata": {},
   "outputs": [],
   "source": [
    "feature_comparison_all_vs_speech=feature_comparison_all_vs_speech.rename(columns={'audio_type':'audio','r2_boot_values':'r2_mean'})\n",
    "feature_comparison_all_vs_speech['audio']=feature_comparison_all_vs_speech['audio'].apply(lambda x: x.replace('full','full wav'))\n",
    "feature_comparison_all_vs_speech['audio']=feature_comparison_all_vs_speech['audio'].apply(lambda x: x.replace('speech','speech-only'))\n",
    "feature_comparison_all_vs_speech['model']=feature_comparison_all_vs_speech['model'].apply(lambda x: x.replace('random_forest','RF'))\n",
    "feature_comparison_all_vs_speech.loc[:,'split']='stratified'\n",
    "feature_comparison_all_vs_speech.loc[:,'model_feature']='RF_'+feature_comparison_all_vs_speech['feature']"
   ]
  },
  {
   "cell_type": "code",
   "execution_count": 14,
   "metadata": {},
   "outputs": [],
   "source": [
    "all_results=pd.concat([final_df,feature_comparison_all_vs_speech])"
   ]
  },
  {
   "cell_type": "code",
   "execution_count": 15,
   "metadata": {},
   "outputs": [
    {
     "data": {
      "image/png": "[encoded data removed]",
      "text/plain": [
       "<Figure size 864x576 with 1 Axes>"
      ]
     },
     "metadata": {
      "needs_background": "light"
     },
     "output_type": "display_data"
    }
   ],
   "source": [
    "plt.figure(figsize=(12, 8))\n",
    "sns.set(font_scale=2)\n",
    "sns.set_palette('tab10')\n",
    "sns.set_style(\"whitegrid\")\n",
    "ax=sns.boxplot(data= all_results[all_results['split']=='stratified'], x='audio',y='r2_mean',hue='model_feature',\n",
    "hue_order=['RF_egemaps','RF_egemaps+sr','RF_w2v2','RF_w2v2+sr','RF_w2v2+sr+egemaps','DNN_w2v2','DNN_w2v2+egemaps','DNN_egemaps'])\n",
    "ax.set(xlabel='Audio type', ylabel='R2_ave')\n",
    "plt.legend(loc='lower right',fontsize=12)\n",
    "plt.show()"
   ]
  },
  {
   "cell_type": "markdown",
   "metadata": {},
   "source": [
    "# Figure 2"
   ]
  },
  {
   "cell_type": "code",
   "execution_count": 20,
   "metadata": {},
   "outputs": [
    {
     "data": {
      "text/plain": [
       "(0.075, 0.22)"
      ]
     },
     "execution_count": 20,
     "metadata": {},
     "output_type": "execute_result"
    },
    {
     "data": {
      "image/png": "[encoded data removed]",
      "text/plain": [
       "<Figure size 864x576 with 1 Axes>"
      ]
     },
     "metadata": {},
     "output_type": "display_data"
    }
   ],
   "source": [
    "df_figure_3_a=pd.read_csv('data/Figure_2/results_bootstrapping.csv')\n",
    "df_figure_3_a=df_figure_3_a.rename(columns={'feature':'duration'}).copy()\n",
    "df_figure_3_a['duration']=df_figure_3_a['duration'].apply(lambda x: x.split('_')[-2])\n",
    "df_figure_3_a.loc[:,'feature']='egemaps'\n",
    "\n",
    "compare=df_figure_3_a.groupby(['duration','feature']).mean().reset_index()\n",
    "compare_df=df_figure_3_a.loc[:,df_figure_3_a.columns.isin(['r2_boot_values','feature','duration'])]\n",
    "\n",
    "plt.figure(figsize=(12, 8))\n",
    "#sns.set(font_scale=2.5)\n",
    "bar1 = sns.lineplot(data=compare_df,x=\"duration\",  y=\"r2_boot_values\",markers=True,marker='o',markersize=15)\n",
    "#sns.set_palette('tab10')\n",
    "#sns.set_style(\"whitegrid\")\n",
    "plt.ylabel('R2_ave')\n",
    "plt.xlabel('Duration [s]')\n",
    "plt.ylim((0.075,0.22))"
   ]
  },
  {
   "cell_type": "markdown",
   "metadata": {},
   "source": [
    "# Table 1"
   ]
  },
  {
   "cell_type": "markdown",
   "metadata": {},
   "source": [
    "Best Random Forest"
   ]
  },
  {
   "cell_type": "code",
   "execution_count": 63,
   "metadata": {},
   "outputs": [],
   "source": [
    "best_rf_original=all_results[(all_results['split']=='original')&(all_results['model_feature']=='RF_w2v2+sr+egemaps')]"
   ]
  },
  {
   "cell_type": "code",
   "execution_count": 64,
   "metadata": {},
   "outputs": [
    {
     "name": "stderr",
     "output_type": "stream",
     "text": [
      "/tmp/ipykernel_4297/3804204417.py:1: FutureWarning: Dropping of nuisance columns in DataFrame reductions (with 'numeric_only=None') is deprecated; in a future version this will raise TypeError.  Select only valid columns before calling the reduction.\n",
      "  best_rf_original['r2_ave']=best_rf_original.mean(axis=1)\n",
      "/tmp/ipykernel_4297/3804204417.py:1: SettingWithCopyWarning: \n",
      "A value is trying to be set on a copy of a slice from a DataFrame.\n",
      "Try using .loc[row_indexer,col_indexer] = value instead\n",
      "\n",
      "See the caveats in the documentation: https://pandas.pydata.org/pandas-docs/stable/user_guide/indexing.html#returning-a-view-versus-a-copy\n",
      "  best_rf_original['r2_ave']=best_rf_original.mean(axis=1)\n"
     ]
    }
   ],
   "source": [
    "best_rf_original['r2_ave']=best_rf_original.mean(axis=1)"
   ]
  },
  {
   "cell_type": "code",
   "execution_count": 65,
   "metadata": {},
   "outputs": [],
   "source": [
    "rf_best_means_original=best_rf_original.groupby(['model_feature','split']).mean().reset_index()"
   ]
  },
  {
   "cell_type": "code",
   "execution_count": 66,
   "metadata": {},
   "outputs": [
    {
     "data": {
      "text/html": [
       "<div>\n",
       "<style scoped>\n",
       "    .dataframe tbody tr th:only-of-type {\n",
       "        vertical-align: middle;\n",
       "    }\n",
       "\n",
       "    .dataframe tbody tr th {\n",
       "        vertical-align: top;\n",
       "    }\n",
       "\n",
       "    .dataframe thead th {\n",
       "        text-align: right;\n",
       "    }\n",
       "</style>\n",
       "<table border=\"1\" class=\"dataframe\">\n",
       "  <thead>\n",
       "    <tr style=\"text-align: right;\">\n",
       "      <th></th>\n",
       "      <th>model_feature</th>\n",
       "      <th>split</th>\n",
       "      <th>extraversion</th>\n",
       "      <th>neuroticism</th>\n",
       "      <th>agreeableness</th>\n",
       "      <th>conscientiousness</th>\n",
       "      <th>openness</th>\n",
       "      <th>r2_mean</th>\n",
       "      <th>Unnamed: 0</th>\n",
       "      <th>n_boot</th>\n",
       "      <th>seed</th>\n",
       "      <th>fold</th>\n",
       "      <th>r2_ave</th>\n",
       "    </tr>\n",
       "  </thead>\n",
       "  <tbody>\n",
       "    <tr>\n",
       "      <th>0</th>\n",
       "      <td>RF_w2v2+sr+egemaps</td>\n",
       "      <td>original</td>\n",
       "      <td>0.295616</td>\n",
       "      <td>0.319312</td>\n",
       "      <td>0.200788</td>\n",
       "      <td>0.283243</td>\n",
       "      <td>0.299754</td>\n",
       "      <td>0.279743</td>\n",
       "      <td>NaN</td>\n",
       "      <td>NaN</td>\n",
       "      <td>NaN</td>\n",
       "      <td>NaN</td>\n",
       "      <td>0.279743</td>\n",
       "    </tr>\n",
       "  </tbody>\n",
       "</table>\n",
       "</div>"
      ],
      "text/plain": [
       "        model_feature     split  extraversion  neuroticism  agreeableness  \\\n",
       "0  RF_w2v2+sr+egemaps  original      0.295616     0.319312       0.200788   \n",
       "\n",
       "   conscientiousness  openness   r2_mean  Unnamed: 0  n_boot  seed  fold  \\\n",
       "0           0.283243  0.299754  0.279743         NaN     NaN   NaN   NaN   \n",
       "\n",
       "     r2_ave  \n",
       "0  0.279743  "
      ]
     },
     "execution_count": 66,
     "metadata": {},
     "output_type": "execute_result"
    }
   ],
   "source": [
    "rf_best_means_original"
   ]
  },
  {
   "cell_type": "markdown",
   "metadata": {},
   "source": [
    "Best RF stratified splits"
   ]
  },
  {
   "cell_type": "code",
   "execution_count": 67,
   "metadata": {},
   "outputs": [],
   "source": [
    "best_rf_strat=all_results[(all_results['split']=='stratified')&(all_results['model_feature']=='RF_w2v2+sr+egemaps')]"
   ]
  },
  {
   "cell_type": "code",
   "execution_count": 68,
   "metadata": {},
   "outputs": [
    {
     "name": "stderr",
     "output_type": "stream",
     "text": [
      "/tmp/ipykernel_4297/3718963372.py:1: FutureWarning: Dropping of nuisance columns in DataFrame reductions (with 'numeric_only=None') is deprecated; in a future version this will raise TypeError.  Select only valid columns before calling the reduction.\n",
      "  best_rf_strat['r2_ave']=best_rf_strat.mean(axis=1)\n",
      "/tmp/ipykernel_4297/3718963372.py:1: SettingWithCopyWarning: \n",
      "A value is trying to be set on a copy of a slice from a DataFrame.\n",
      "Try using .loc[row_indexer,col_indexer] = value instead\n",
      "\n",
      "See the caveats in the documentation: https://pandas.pydata.org/pandas-docs/stable/user_guide/indexing.html#returning-a-view-versus-a-copy\n",
      "  best_rf_strat['r2_ave']=best_rf_strat.mean(axis=1)\n"
     ]
    }
   ],
   "source": [
    "best_rf_strat['r2_ave']=best_rf_strat.mean(axis=1)"
   ]
  },
  {
   "cell_type": "code",
   "execution_count": 69,
   "metadata": {},
   "outputs": [],
   "source": [
    "rf_best_means_strat=best_rf_strat.groupby(['model_feature','split']).mean().reset_index()"
   ]
  },
  {
   "cell_type": "code",
   "execution_count": 70,
   "metadata": {},
   "outputs": [
    {
     "data": {
      "text/html": [
       "<div>\n",
       "<style scoped>\n",
       "    .dataframe tbody tr th:only-of-type {\n",
       "        vertical-align: middle;\n",
       "    }\n",
       "\n",
       "    .dataframe tbody tr th {\n",
       "        vertical-align: top;\n",
       "    }\n",
       "\n",
       "    .dataframe thead th {\n",
       "        text-align: right;\n",
       "    }\n",
       "</style>\n",
       "<table border=\"1\" class=\"dataframe\">\n",
       "  <thead>\n",
       "    <tr style=\"text-align: right;\">\n",
       "      <th></th>\n",
       "      <th>model_feature</th>\n",
       "      <th>split</th>\n",
       "      <th>extraversion</th>\n",
       "      <th>neuroticism</th>\n",
       "      <th>agreeableness</th>\n",
       "      <th>conscientiousness</th>\n",
       "      <th>openness</th>\n",
       "      <th>r2_mean</th>\n",
       "      <th>Unnamed: 0</th>\n",
       "      <th>n_boot</th>\n",
       "      <th>seed</th>\n",
       "      <th>fold</th>\n",
       "      <th>r2_ave</th>\n",
       "    </tr>\n",
       "  </thead>\n",
       "  <tbody>\n",
       "    <tr>\n",
       "      <th>0</th>\n",
       "      <td>RF_w2v2+sr+egemaps</td>\n",
       "      <td>stratified</td>\n",
       "      <td>0.227848</td>\n",
       "      <td>0.259945</td>\n",
       "      <td>0.145933</td>\n",
       "      <td>0.224164</td>\n",
       "      <td>0.228708</td>\n",
       "      <td>0.21732</td>\n",
       "      <td>NaN</td>\n",
       "      <td>NaN</td>\n",
       "      <td>NaN</td>\n",
       "      <td>NaN</td>\n",
       "      <td>0.21732</td>\n",
       "    </tr>\n",
       "  </tbody>\n",
       "</table>\n",
       "</div>"
      ],
      "text/plain": [
       "        model_feature       split  extraversion  neuroticism  agreeableness  \\\n",
       "0  RF_w2v2+sr+egemaps  stratified      0.227848     0.259945       0.145933   \n",
       "\n",
       "   conscientiousness  openness  r2_mean  Unnamed: 0  n_boot  seed  fold  \\\n",
       "0           0.224164  0.228708  0.21732         NaN     NaN   NaN   NaN   \n",
       "\n",
       "    r2_ave  \n",
       "0  0.21732  "
      ]
     },
     "execution_count": 70,
     "metadata": {},
     "output_type": "execute_result"
    }
   ],
   "source": [
    "rf_best_means_strat"
   ]
  },
  {
   "cell_type": "markdown",
   "metadata": {},
   "source": [
    "Best DNN original"
   ]
  },
  {
   "cell_type": "code",
   "execution_count": 71,
   "metadata": {},
   "outputs": [],
   "source": [
    "best_dnn_original=all_results[(all_results['split']=='original')&(all_results['model_feature']=='DNN_w2v2')]"
   ]
  },
  {
   "cell_type": "code",
   "execution_count": 72,
   "metadata": {},
   "outputs": [
    {
     "name": "stderr",
     "output_type": "stream",
     "text": [
      "/tmp/ipykernel_4297/3544000913.py:1: FutureWarning: Dropping of nuisance columns in DataFrame reductions (with 'numeric_only=None') is deprecated; in a future version this will raise TypeError.  Select only valid columns before calling the reduction.\n",
      "  best_dnn_original['r2_ave']=best_dnn_original.mean(axis=1)\n",
      "/tmp/ipykernel_4297/3544000913.py:1: SettingWithCopyWarning: \n",
      "A value is trying to be set on a copy of a slice from a DataFrame.\n",
      "Try using .loc[row_indexer,col_indexer] = value instead\n",
      "\n",
      "See the caveats in the documentation: https://pandas.pydata.org/pandas-docs/stable/user_guide/indexing.html#returning-a-view-versus-a-copy\n",
      "  best_dnn_original['r2_ave']=best_dnn_original.mean(axis=1)\n"
     ]
    }
   ],
   "source": [
    "best_dnn_original['r2_ave']=best_dnn_original.mean(axis=1)"
   ]
  },
  {
   "cell_type": "code",
   "execution_count": 73,
   "metadata": {},
   "outputs": [],
   "source": [
    "dnn_best_means_original=best_dnn_original.groupby(['model_feature','split']).mean().reset_index()"
   ]
  },
  {
   "cell_type": "code",
   "execution_count": 74,
   "metadata": {},
   "outputs": [
    {
     "data": {
      "text/html": [
       "<div>\n",
       "<style scoped>\n",
       "    .dataframe tbody tr th:only-of-type {\n",
       "        vertical-align: middle;\n",
       "    }\n",
       "\n",
       "    .dataframe tbody tr th {\n",
       "        vertical-align: top;\n",
       "    }\n",
       "\n",
       "    .dataframe thead th {\n",
       "        text-align: right;\n",
       "    }\n",
       "</style>\n",
       "<table border=\"1\" class=\"dataframe\">\n",
       "  <thead>\n",
       "    <tr style=\"text-align: right;\">\n",
       "      <th></th>\n",
       "      <th>model_feature</th>\n",
       "      <th>split</th>\n",
       "      <th>extraversion</th>\n",
       "      <th>neuroticism</th>\n",
       "      <th>agreeableness</th>\n",
       "      <th>conscientiousness</th>\n",
       "      <th>openness</th>\n",
       "      <th>r2_mean</th>\n",
       "      <th>Unnamed: 0</th>\n",
       "      <th>n_boot</th>\n",
       "      <th>seed</th>\n",
       "      <th>fold</th>\n",
       "      <th>r2_ave</th>\n",
       "    </tr>\n",
       "  </thead>\n",
       "  <tbody>\n",
       "    <tr>\n",
       "      <th>0</th>\n",
       "      <td>DNN_w2v2</td>\n",
       "      <td>original</td>\n",
       "      <td>0.346701</td>\n",
       "      <td>0.364346</td>\n",
       "      <td>0.224478</td>\n",
       "      <td>0.35594</td>\n",
       "      <td>0.339562</td>\n",
       "      <td>0.326205</td>\n",
       "      <td>NaN</td>\n",
       "      <td>NaN</td>\n",
       "      <td>NaN</td>\n",
       "      <td>NaN</td>\n",
       "      <td>0.326205</td>\n",
       "    </tr>\n",
       "  </tbody>\n",
       "</table>\n",
       "</div>"
      ],
      "text/plain": [
       "  model_feature     split  extraversion  neuroticism  agreeableness  \\\n",
       "0      DNN_w2v2  original      0.346701     0.364346       0.224478   \n",
       "\n",
       "   conscientiousness  openness   r2_mean  Unnamed: 0  n_boot  seed  fold  \\\n",
       "0            0.35594  0.339562  0.326205         NaN     NaN   NaN   NaN   \n",
       "\n",
       "     r2_ave  \n",
       "0  0.326205  "
      ]
     },
     "execution_count": 74,
     "metadata": {},
     "output_type": "execute_result"
    }
   ],
   "source": [
    "dnn_best_means_original"
   ]
  },
  {
   "cell_type": "markdown",
   "metadata": {},
   "source": [
    "Best DNN stratified"
   ]
  },
  {
   "cell_type": "code",
   "execution_count": 75,
   "metadata": {},
   "outputs": [],
   "source": [
    "best_dnn_strat=all_results[(all_results['split']=='stratified')&(all_results['model_feature']=='DNN_w2v2')]"
   ]
  },
  {
   "cell_type": "code",
   "execution_count": 76,
   "metadata": {},
   "outputs": [
    {
     "name": "stderr",
     "output_type": "stream",
     "text": [
      "/tmp/ipykernel_4297/3130343138.py:1: FutureWarning: Dropping of nuisance columns in DataFrame reductions (with 'numeric_only=None') is deprecated; in a future version this will raise TypeError.  Select only valid columns before calling the reduction.\n",
      "  best_dnn_strat['r2_ave']=best_dnn_strat.mean(axis=1)\n",
      "/tmp/ipykernel_4297/3130343138.py:1: SettingWithCopyWarning: \n",
      "A value is trying to be set on a copy of a slice from a DataFrame.\n",
      "Try using .loc[row_indexer,col_indexer] = value instead\n",
      "\n",
      "See the caveats in the documentation: https://pandas.pydata.org/pandas-docs/stable/user_guide/indexing.html#returning-a-view-versus-a-copy\n",
      "  best_dnn_strat['r2_ave']=best_dnn_strat.mean(axis=1)\n"
     ]
    }
   ],
   "source": [
    "best_dnn_strat['r2_ave']=best_dnn_strat.mean(axis=1)"
   ]
  },
  {
   "cell_type": "code",
   "execution_count": 77,
   "metadata": {},
   "outputs": [],
   "source": [
    "dnn_best_means_strat=best_dnn_strat.groupby(['model_feature','split']).mean().reset_index()"
   ]
  },
  {
   "cell_type": "code",
   "execution_count": 78,
   "metadata": {},
   "outputs": [
    {
     "data": {
      "text/html": [
       "<div>\n",
       "<style scoped>\n",
       "    .dataframe tbody tr th:only-of-type {\n",
       "        vertical-align: middle;\n",
       "    }\n",
       "\n",
       "    .dataframe tbody tr th {\n",
       "        vertical-align: top;\n",
       "    }\n",
       "\n",
       "    .dataframe thead th {\n",
       "        text-align: right;\n",
       "    }\n",
       "</style>\n",
       "<table border=\"1\" class=\"dataframe\">\n",
       "  <thead>\n",
       "    <tr style=\"text-align: right;\">\n",
       "      <th></th>\n",
       "      <th>model_feature</th>\n",
       "      <th>split</th>\n",
       "      <th>extraversion</th>\n",
       "      <th>neuroticism</th>\n",
       "      <th>agreeableness</th>\n",
       "      <th>conscientiousness</th>\n",
       "      <th>openness</th>\n",
       "      <th>r2_mean</th>\n",
       "      <th>Unnamed: 0</th>\n",
       "      <th>n_boot</th>\n",
       "      <th>seed</th>\n",
       "      <th>fold</th>\n",
       "      <th>r2_ave</th>\n",
       "    </tr>\n",
       "  </thead>\n",
       "  <tbody>\n",
       "    <tr>\n",
       "      <th>0</th>\n",
       "      <td>DNN_w2v2</td>\n",
       "      <td>stratified</td>\n",
       "      <td>0.312304</td>\n",
       "      <td>0.318521</td>\n",
       "      <td>0.172389</td>\n",
       "      <td>0.322668</td>\n",
       "      <td>0.285515</td>\n",
       "      <td>0.282279</td>\n",
       "      <td>NaN</td>\n",
       "      <td>NaN</td>\n",
       "      <td>NaN</td>\n",
       "      <td>NaN</td>\n",
       "      <td>0.282279</td>\n",
       "    </tr>\n",
       "  </tbody>\n",
       "</table>\n",
       "</div>"
      ],
      "text/plain": [
       "  model_feature       split  extraversion  neuroticism  agreeableness  \\\n",
       "0      DNN_w2v2  stratified      0.312304     0.318521       0.172389   \n",
       "\n",
       "   conscientiousness  openness   r2_mean  Unnamed: 0  n_boot  seed  fold  \\\n",
       "0           0.322668  0.285515  0.282279         NaN     NaN   NaN   NaN   \n",
       "\n",
       "     r2_ave  \n",
       "0  0.282279  "
      ]
     },
     "execution_count": 78,
     "metadata": {},
     "output_type": "execute_result"
    }
   ],
   "source": [
    "dnn_best_means_strat"
   ]
  },
  {
   "cell_type": "code",
   "execution_count": 79,
   "metadata": {},
   "outputs": [],
   "source": [
    "table_1=pd.concat([rf_best_means_original,rf_best_means_strat,dnn_best_means_strat,dnn_best_means_original])"
   ]
  },
  {
   "cell_type": "code",
   "execution_count": 82,
   "metadata": {},
   "outputs": [
    {
     "data": {
      "text/html": [
       "<div>\n",
       "<style scoped>\n",
       "    .dataframe tbody tr th:only-of-type {\n",
       "        vertical-align: middle;\n",
       "    }\n",
       "\n",
       "    .dataframe tbody tr th {\n",
       "        vertical-align: top;\n",
       "    }\n",
       "\n",
       "    .dataframe thead th {\n",
       "        text-align: right;\n",
       "    }\n",
       "</style>\n",
       "<table border=\"1\" class=\"dataframe\">\n",
       "  <thead>\n",
       "    <tr style=\"text-align: right;\">\n",
       "      <th></th>\n",
       "      <th>model_feature</th>\n",
       "      <th>split</th>\n",
       "      <th>extraversion</th>\n",
       "      <th>neuroticism</th>\n",
       "      <th>agreeableness</th>\n",
       "      <th>conscientiousness</th>\n",
       "      <th>openness</th>\n",
       "      <th>r2_mean</th>\n",
       "      <th>Unnamed: 0</th>\n",
       "      <th>n_boot</th>\n",
       "      <th>seed</th>\n",
       "      <th>fold</th>\n",
       "      <th>r2_ave</th>\n",
       "    </tr>\n",
       "  </thead>\n",
       "  <tbody>\n",
       "    <tr>\n",
       "      <th>0</th>\n",
       "      <td>RF_w2v2+sr+egemaps</td>\n",
       "      <td>original</td>\n",
       "      <td>0.295616</td>\n",
       "      <td>0.319312</td>\n",
       "      <td>0.200788</td>\n",
       "      <td>0.283243</td>\n",
       "      <td>0.299754</td>\n",
       "      <td>0.279743</td>\n",
       "      <td>NaN</td>\n",
       "      <td>NaN</td>\n",
       "      <td>NaN</td>\n",
       "      <td>NaN</td>\n",
       "      <td>0.279743</td>\n",
       "    </tr>\n",
       "    <tr>\n",
       "      <th>0</th>\n",
       "      <td>RF_w2v2+sr+egemaps</td>\n",
       "      <td>stratified</td>\n",
       "      <td>0.227848</td>\n",
       "      <td>0.259945</td>\n",
       "      <td>0.145933</td>\n",
       "      <td>0.224164</td>\n",
       "      <td>0.228708</td>\n",
       "      <td>0.217320</td>\n",
       "      <td>NaN</td>\n",
       "      <td>NaN</td>\n",
       "      <td>NaN</td>\n",
       "      <td>NaN</td>\n",
       "      <td>0.217320</td>\n",
       "    </tr>\n",
       "    <tr>\n",
       "      <th>0</th>\n",
       "      <td>DNN_w2v2</td>\n",
       "      <td>stratified</td>\n",
       "      <td>0.312304</td>\n",
       "      <td>0.318521</td>\n",
       "      <td>0.172389</td>\n",
       "      <td>0.322668</td>\n",
       "      <td>0.285515</td>\n",
       "      <td>0.282279</td>\n",
       "      <td>NaN</td>\n",
       "      <td>NaN</td>\n",
       "      <td>NaN</td>\n",
       "      <td>NaN</td>\n",
       "      <td>0.282279</td>\n",
       "    </tr>\n",
       "    <tr>\n",
       "      <th>0</th>\n",
       "      <td>DNN_w2v2</td>\n",
       "      <td>original</td>\n",
       "      <td>0.346701</td>\n",
       "      <td>0.364346</td>\n",
       "      <td>0.224478</td>\n",
       "      <td>0.355940</td>\n",
       "      <td>0.339562</td>\n",
       "      <td>0.326205</td>\n",
       "      <td>NaN</td>\n",
       "      <td>NaN</td>\n",
       "      <td>NaN</td>\n",
       "      <td>NaN</td>\n",
       "      <td>0.326205</td>\n",
       "    </tr>\n",
       "  </tbody>\n",
       "</table>\n",
       "</div>"
      ],
      "text/plain": [
       "        model_feature       split  extraversion  neuroticism  agreeableness  \\\n",
       "0  RF_w2v2+sr+egemaps    original      0.295616     0.319312       0.200788   \n",
       "0  RF_w2v2+sr+egemaps  stratified      0.227848     0.259945       0.145933   \n",
       "0            DNN_w2v2  stratified      0.312304     0.318521       0.172389   \n",
       "0            DNN_w2v2    original      0.346701     0.364346       0.224478   \n",
       "\n",
       "   conscientiousness  openness   r2_mean  Unnamed: 0  n_boot  seed  fold  \\\n",
       "0           0.283243  0.299754  0.279743         NaN     NaN   NaN   NaN   \n",
       "0           0.224164  0.228708  0.217320         NaN     NaN   NaN   NaN   \n",
       "0           0.322668  0.285515  0.282279         NaN     NaN   NaN   NaN   \n",
       "0           0.355940  0.339562  0.326205         NaN     NaN   NaN   NaN   \n",
       "\n",
       "     r2_ave  \n",
       "0  0.279743  \n",
       "0  0.217320  \n",
       "0  0.282279  \n",
       "0  0.326205  "
      ]
     },
     "execution_count": 82,
     "metadata": {},
     "output_type": "execute_result"
    }
   ],
   "source": [
    "table_1"
   ]
  }
 ],
 "metadata": {
  "interpreter": {
   "hash": "8fd582cc0c9c172ef607adea6ca659695142511772b7fc1eb52d452e28110f7c"
  },
  "kernelspec": {
   "display_name": "ocean-trust",
   "language": "python",
   "name": "ocean_trust"
  },
  "language_info": {
   "codemirror_mode": {
    "name": "ipython",
    "version": 3
   },
   "file_extension": ".py",
   "mimetype": "text/x-python",
   "name": "python",
   "nbconvert_exporter": "python",
   "pygments_lexer": "ipython3",
   "version": "3.9.12"
  },
  "orig_nbformat": 4
 },
 "nbformat": 4,
 "nbformat_minor": 2
}
